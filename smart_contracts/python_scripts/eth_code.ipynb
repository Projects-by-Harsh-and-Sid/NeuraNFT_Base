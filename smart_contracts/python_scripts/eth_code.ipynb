{
 "cells": [
  {
   "cell_type": "code",
   "execution_count": 1,
   "metadata": {},
   "outputs": [],
   "source": [
    "import json\n",
    "from web3 import Web3\n",
    "import time\n"
   ]
  },
  {
   "cell_type": "code",
   "execution_count": 2,
   "metadata": {},
   "outputs": [],
   "source": [
    "# Connect to an Ethereum node (replace with your own node URL or Infura endpoint)\n",
    "# web3_provider = 'http://localhost:7545'\n",
    "web3_provider = \"https://base-sepolia-rpc.publicnode.com\"\n",
    "\n",
    "w3 = Web3(Web3.HTTPProvider(web3_provider))"
   ]
  },
  {
   "cell_type": "code",
   "execution_count": 3,
   "metadata": {},
   "outputs": [],
   "source": [
    "with open(\"../truffle_compiled_contract/key.json\") as f:\n",
    "    keys = json.load(f)"
   ]
  },
  {
   "cell_type": "code",
   "execution_count": 4,
   "metadata": {},
   "outputs": [
    {
     "name": "stdout",
     "output_type": "stream",
     "text": [
      "Successfully connected to the node at https://base-sepolia-rpc.publicnode.com\n"
     ]
    }
   ],
   "source": [
    "if w3.is_connected():\n",
    "    print(\"Successfully connected to the node at\", web3_provider)\n",
    "else:\n",
    "    print(\"Connection to node failed. Please check the URL and try again.\")\n"
   ]
  },
  {
   "cell_type": "code",
   "execution_count": 5,
   "metadata": {},
   "outputs": [],
   "source": [
    "# Your Ethereum account private key (NEVER share or commit this!)\n",
    "# private_key = '0xb99052926180cf5daff5b20633add14f33655b4711ede3c3d4ddb40751dc4311'\n",
    "\n",
    "private_key = keys[\"privateKey\"]\n",
    "\n"
   ]
  },
  {
   "cell_type": "code",
   "execution_count": 6,
   "metadata": {},
   "outputs": [],
   "source": [
    "#collection json\n",
    "with open(r'..\\truffle_compiled_contract\\build\\contracts\\CollectionContract.json') as f:\n",
    "    collection_json = json.load(f)\n",
    "\n",
    "with open(r'..\\truffle_compiled_contract\\build\\contracts\\NFTContract.json') as f:\n",
    "    nft_json = json.load(f)\n",
    "\n",
    "\n",
    "with open(r'..\\truffle_compiled_contract\\build\\contracts\\NFTAccessControl.json') as f:\n",
    "    NFTAccessControl_json = json.load(f)\n",
    "\n",
    "\n",
    "with open(r'..\\truffle_compiled_contract\\build\\contracts\\NFTMetadata.json') as f:\n",
    "    NFTMetadata_json = json.load(f)\n",
    "    \n",
    "\n",
    "with open(r'..\\truffle_compiled_contract\\build\\contracts\\MasterAccessControl.json') as f:\n",
    "    MasterAccessControl_json = json.load(f)"
   ]
  },
  {
   "cell_type": "code",
   "execution_count": 7,
   "metadata": {},
   "outputs": [],
   "source": [
    "# with open(r'..\\truffle_compiled_contract\\build\\contractAddresses\\development_addresses.json') as f:\n",
    "#     address_json= json.load(f)\n",
    "\n",
    "with open(r'..\\truffle_compiled_contract\\build\\contractAddresses\\base_addresses.json') as f:\n",
    "    address_json= json.load(f)"
   ]
  },
  {
   "cell_type": "code",
   "execution_count": 8,
   "metadata": {},
   "outputs": [
    {
     "data": {
      "text/plain": [
       "{'MasterAccessControl': '0xEAD39C0363378B3100cB8C89820f71353136EBd0',\n",
       " 'NFTAccessControl': '0x2c6993608197B40ae0d0D1042829541067ac761e',\n",
       " 'NFTMetadata': '0x13846e6fDe06853f6CC822A58f97AdbEbF1e6AFd',\n",
       " 'NFTContract': '0xAc537d070AcfA1F0C6df29a87b5d63c26Fff6DcE',\n",
       " 'CollectionContract': '0x536446035eF24cb011a3B55f0627df2Fad083F67'}"
      ]
     },
     "execution_count": 8,
     "metadata": {},
     "output_type": "execute_result"
    }
   ],
   "source": [
    "address_json"
   ]
  },
  {
   "cell_type": "code",
   "execution_count": 9,
   "metadata": {},
   "outputs": [],
   "source": [
    "w3 = Web3(Web3.HTTPProvider(web3_provider))\n",
    "\n",
    "def write_to_contract(contract, function_name: str, \n",
    "                      arguments: list, private_key: str, \n",
    "                      web3_provider: str,\n",
    "                      gas = 2000000):\n",
    "    \"\"\"\n",
    "    Write data to a contract function\n",
    "    :param contract: The contract object\n",
    "    :param function_name: The name of the function to call\n",
    "    :param arguments: The arguments to pass to the function\n",
    "    :param private_key: The private key of the account calling the function\n",
    "    :param web3_provider: The URL of the Ethereum node\n",
    "    :return: The transaction receipt\n",
    "    \"\"\"\n",
    "    \n",
    "    global w3\n",
    "    \n",
    "    if w3.is_connected():\n",
    "        print(\"Successfully connected to the node at\", web3_provider)\n",
    "    else:\n",
    "        w3 = Web3(Web3.HTTPProvider(web3_provider))\n",
    "\n",
    "        # Checking if the connection to the node was successful\n",
    "        if w3.is_connected():\n",
    "            print(\"Successfully connected to the node at\", web3_provider)\n",
    "        else:\n",
    "            print(\"Connection to node failed. Please check the URL and try again.\")\n",
    "\n",
    "    account = w3.eth.account.from_key(private_key)\n",
    "\n",
    "    # Write data to the function\n",
    "    nonce = w3.eth.get_transaction_count(account.address)\n",
    "    transaction = contract.functions[function_name](*arguments).build_transaction({\n",
    "        \"from\": account.address,\n",
    "        \"nonce\": nonce,\n",
    "        \"gas\": gas,\n",
    "        \"gasPrice\": w3.eth.gas_price\n",
    "    })\n",
    "    signed_txn = account.sign_transaction(transaction)\n",
    "    tx_hash = w3.eth.send_raw_transaction(signed_txn.rawTransaction)\n",
    "    tx_receipt = w3.eth.wait_for_transaction_receipt(tx_hash)\n",
    "\n",
    "    return tx_receipt\n",
    "\n"
   ]
  },
  {
   "cell_type": "code",
   "execution_count": 10,
   "metadata": {},
   "outputs": [],
   "source": [
    "# Your Ethereum address\n",
    "account = w3.eth.account.from_key(private_key)\n",
    "\n",
    "collection_contract = w3.eth.contract(address=address_json[\"CollectionContract\"], abi=collection_json[\"abi\"])\n",
    "\n",
    "# Your Ethereum address\n",
    "account = w3.eth.account.from_key(private_key)\n",
    "\n",
    "# collection_contract = w3.eth.contract(address=address_json[\"CollectionContract\"], abi=collection_json[\"abi\"])\n",
    "nft_contract = w3.eth.contract(address=address_json[\"NFTContract\"], abi=nft_json[\"abi\"])\n",
    "nft_metadata_contract = w3.eth.contract(address=address_json[\"NFTMetadata\"], abi=NFTMetadata_json[\"abi\"])\n",
    "nft_access_control_contract = w3.eth.contract(address=address_json[\"NFTAccessControl\"], abi=NFTAccessControl_json[\"abi\"])\n",
    "master_access_control_contract = w3.eth.contract(address=address_json[\"MasterAccessControl\"], abi=MasterAccessControl_json[\"abi\"])"
   ]
  },
  {
   "cell_type": "markdown",
   "metadata": {},
   "source": [
    "# Collection"
   ]
  },
  {
   "cell_type": "code",
   "execution_count": 11,
   "metadata": {},
   "outputs": [],
   "source": [
    "def create_collection(collection):\n",
    "    \n",
    "\n",
    "        \n",
    "    # write to contract\n",
    "    \n",
    "    \n",
    "    function_name = \"createCollection\"\n",
    "    arguments = [collection['name'], collection['contextWindow'], collection['model'], collection['image'], collection['description']]\n",
    "    key = private_key\n",
    "    \n",
    "    \n",
    "    try :\n",
    "        tx_receipt = write_to_contract(collection_contract, function_name, arguments, key, web3_provider)\n",
    "        create_event = collection_contract.events.CollectionCreated().process_receipt(tx_receipt)[0]\n",
    "        collection_id = create_event['args']['collectionId']\n",
    "        return collection_id\n",
    "    except:\n",
    "        print(\"Error creating collection : \", collection['name'])"
   ]
  },
  {
   "cell_type": "code",
   "execution_count": 12,
   "metadata": {},
   "outputs": [],
   "source": [
    "\n",
    "\n",
    "def getAllCollections():\n",
    "    try:\n",
    "        \n",
    "        total_collections = collection_contract.functions.getAllCollections().call()\n",
    "        \n",
    "        all_collections = []\n",
    "        counter = 1\n",
    "        for collection_data in total_collections:\n",
    "            # collection_data = collection_contract.functions.getCollectionMetadata(i)\n",
    "            i = counter\n",
    "            counter += 1\n",
    "            formatted_collection = {\n",
    "                \"id\": i,\n",
    "                \"name\": collection_data[0],\n",
    "                \"contextWindow\": collection_data[1],\n",
    "                \"model\": collection_data[2],\n",
    "                \"image\": collection_data[3],\n",
    "                \"description\": collection_data[4],\n",
    "                \"creator\": collection_data[5],\n",
    "                \"date\": collection_data[6],\n",
    "                \"owner\": collection_data[7],\n",
    "                \"collectionaddress\": f\"#{i}\",\n",
    "                # \"noOfNFTs\": collection_contract.functions.getCollectionNFTCount(i)\n",
    "            }\n",
    "            all_collections.append(formatted_collection)\n",
    "\n",
    "        return all_collections\n",
    "    \n",
    "    except Exception as e:\n",
    "        print(f\"Error getting all collections: {str(e)}\")\n",
    "        return None\n",
    "\n",
    "\n",
    "\n",
    "\n",
    "\n",
    "def getAllCollections_by_address(address):\n",
    "    try:\n",
    "        all_collections = getAllCollections()\n",
    "        return [collection for collection in all_collections if collection['owner'] == address]\n",
    "    except Exception as e:\n",
    "        print(f\"Error getting collections for address {address}: {str(e)}\")\n",
    "        return None\n",
    "\n",
    "\n",
    "\n",
    "def get_collection_details_by_id(collection_id):\n",
    "    try:\n",
    "        metadata = collection_contract.functions.getCollectionMetadata(collection_id).call()\n",
    "        nft_count = collection_contract.functions.getCollectionNFTCount(collection_id).call()\n",
    "        owner = collection_contract.functions.getCollectionOwner(collection_id).call()\n",
    "        unique_holders = collection_contract.functions.getCollectionUniqueHolders(collection_id).call()\n",
    "\n",
    "\n",
    "        collection_details = {\n",
    "            \"id\": collection_id,\n",
    "            \"name\": metadata[0],\n",
    "            \"contextWindow\": metadata[1],\n",
    "            \"baseModel\": metadata[2],\n",
    "            \"image\": metadata[3],\n",
    "            \"description\": metadata[4],\n",
    "            \"creator\": metadata[5],\n",
    "            \"dateCreated\": metadata[6],\n",
    "            \"owner\": owner,\n",
    "            \"collectionaddress\": f\"#{collection_id}\",\n",
    "            \"noOfNFTs\": nft_count,\n",
    "            \"uniqueHolders\": unique_holders,\n",
    "            \"model\": metadata[2],\n",
    "            \"noOfServers\": 5\n",
    "        }\n",
    "\n",
    "        return collection_details\n",
    "    except Exception as e:\n",
    "        print(f\"Error getting details for collection ID {collection_id}: {str(e)}\")\n",
    "        return None\n",
    "\n",
    "\n",
    "\n"
   ]
  },
  {
   "cell_type": "code",
   "execution_count": 13,
   "metadata": {},
   "outputs": [],
   "source": [
    "with open('./data/all_collections.json') as f:\n",
    "    collections = json.load(f)"
   ]
  },
  {
   "cell_type": "code",
   "execution_count": null,
   "metadata": {},
   "outputs": [],
   "source": [
    "# import sleep\n",
    "from time import sleep"
   ]
  },
  {
   "cell_type": "code",
   "execution_count": 16,
   "metadata": {},
   "outputs": [
    {
     "name": "stdout",
     "output_type": "stream",
     "text": [
      "Successfully connected to the node at https://base-sepolia-rpc.publicnode.com\n",
      "Collection ID: 1\n",
      "Successfully connected to the node at https://base-sepolia-rpc.publicnode.com\n",
      "Collection ID: 2\n",
      "Successfully connected to the node at https://base-sepolia-rpc.publicnode.com\n",
      "Collection ID: 3\n",
      "Successfully connected to the node at https://base-sepolia-rpc.publicnode.com\n",
      "Collection ID: 4\n",
      "Successfully connected to the node at https://base-sepolia-rpc.publicnode.com\n",
      "Collection ID: 5\n",
      "Successfully connected to the node at https://base-sepolia-rpc.publicnode.com\n",
      "Collection ID: 6\n",
      "Successfully connected to the node at https://base-sepolia-rpc.publicnode.com\n",
      "Collection ID: 7\n",
      "Successfully connected to the node at https://base-sepolia-rpc.publicnode.com\n",
      "Collection ID: 8\n",
      "Successfully connected to the node at https://base-sepolia-rpc.publicnode.com\n",
      "Collection ID: 9\n",
      "Successfully connected to the node at https://base-sepolia-rpc.publicnode.com\n",
      "Collection ID: 10\n",
      "Successfully connected to the node at https://base-sepolia-rpc.publicnode.com\n",
      "Collection ID: 11\n",
      "Successfully connected to the node at https://base-sepolia-rpc.publicnode.com\n",
      "Collection ID: 12\n",
      "Successfully connected to the node at https://base-sepolia-rpc.publicnode.com\n",
      "Collection ID: 13\n",
      "Successfully connected to the node at https://base-sepolia-rpc.publicnode.com\n",
      "Collection ID: 14\n",
      "Successfully connected to the node at https://base-sepolia-rpc.publicnode.com\n",
      "Collection ID: 15\n",
      "Successfully connected to the node at https://base-sepolia-rpc.publicnode.com\n",
      "Collection ID: 16\n",
      "Successfully connected to the node at https://base-sepolia-rpc.publicnode.com\n",
      "Collection ID: 17\n",
      "Successfully connected to the node at https://base-sepolia-rpc.publicnode.com\n",
      "Collection ID: 18\n",
      "Successfully connected to the node at https://base-sepolia-rpc.publicnode.com\n",
      "Collection ID: 19\n",
      "Successfully connected to the node at https://base-sepolia-rpc.publicnode.com\n",
      "Collection ID: 20\n"
     ]
    }
   ],
   "source": [
    "# !!!!!!!! Uncomment this to create collections !!!!!!!!\n",
    "\n",
    "for collection in collections[\"collections\"]:\n",
    "    \n",
    "    confirmation = input (f\"Create collection {collection['name']} ? (y/n) : \")\n",
    "    \n",
    "    if confirmation.lower() != \"y\":\n",
    "        continue\n",
    "    \n",
    "    collection_id = create_collection(collection)\n",
    "    print(f\"Collection ID: {collection_id}\")"
   ]
  },
  {
   "cell_type": "code",
   "execution_count": 17,
   "metadata": {},
   "outputs": [
    {
     "data": {
      "text/plain": [
       "[{'id': 1,\n",
       "  'name': 'Neural Mint Hub',\n",
       "  'contextWindow': 4096,\n",
       "  'model': 'Llama 3.1 70B',\n",
       "  'image': 'https://base.backend.neuranft.com/image/temp7.png',\n",
       "  'description': 'Discover the fusion of neural networks and blockchain at the Neural Mint Hub. This collection offers unique AI-generated NFTs crafted by advanced neural models.',\n",
       "  'creator': '0x43ADAc5516f8E2D3d2BD31276BeC343547ee6612',\n",
       "  'date': 1729638466,\n",
       "  'owner': '0x43ADAc5516f8E2D3d2BD31276BeC343547ee6612',\n",
       "  'collectionaddress': '#1'},\n",
       " {'id': 2,\n",
       "  'name': 'Quantum Rewards',\n",
       "  'contextWindow': 2048,\n",
       "  'model': 'Llama 3.1',\n",
       "  'image': 'https://base.backend.neuranft.com/image/temp2.png',\n",
       "  'description': 'Unlock quantum leaps in rewards with our AI-enhanced NFT collection. Each piece represents the convergence of quantum computing concepts and digital art.',\n",
       "  'creator': '0x43ADAc5516f8E2D3d2BD31276BeC343547ee6612',\n",
       "  'date': 1729638476,\n",
       "  'owner': '0x43ADAc5516f8E2D3d2BD31276BeC343547ee6612',\n",
       "  'collectionaddress': '#2'},\n",
       " {'id': 3,\n",
       "  'name': 'AI Profile Architect',\n",
       "  'contextWindow': 8192,\n",
       "  'model': 'Llama 3.1 70B',\n",
       "  'image': 'https://base.backend.neuranft.com/image/temp3.png',\n",
       "  'description': 'Design your digital identity with AI Profile Architect. This collection offers AI-crafted NFTs that redefine personal expression in the digital realm.',\n",
       "  'creator': '0x43ADAc5516f8E2D3d2BD31276BeC343547ee6612',\n",
       "  'date': 1729638488,\n",
       "  'owner': '0x43ADAc5516f8E2D3d2BD31276BeC343547ee6612',\n",
       "  'collectionaddress': '#3'},\n",
       " {'id': 4,\n",
       "  'name': 'Algorithmic Daily Drops',\n",
       "  'contextWindow': 3072,\n",
       "  'model': 'Llama 3.1',\n",
       "  'image': 'https://base.backend.neuranft.com/image/temp4.png',\n",
       "  'description': 'Experience fresh algorithmically generated NFTs every day with Algorithmic Daily Drops. Our AI models produce unique art pieces to keep your collection vibrant.',\n",
       "  'creator': '0x43ADAc5516f8E2D3d2BD31276BeC343547ee6612',\n",
       "  'date': 1729638496,\n",
       "  'owner': '0x43ADAc5516f8E2D3d2BD31276BeC343547ee6612',\n",
       "  'collectionaddress': '#4'},\n",
       " {'id': 5,\n",
       "  'name': 'Digital Personas',\n",
       "  'contextWindow': 4096,\n",
       "  'model': 'Llama 3.1 70B',\n",
       "  'image': 'https://base.backend.neuranft.com/image/temp5.png',\n",
       "  'description': 'Meet your digital alter egos with Digital Personas. This AI-driven NFT collection encapsulates diverse identities crafted by advanced neural networks.',\n",
       "  'creator': '0x43ADAc5516f8E2D3d2BD31276BeC343547ee6612',\n",
       "  'date': 1729638504,\n",
       "  'owner': '0x43ADAc5516f8E2D3d2BD31276BeC343547ee6612',\n",
       "  'collectionaddress': '#5'},\n",
       " {'id': 6,\n",
       "  'name': 'Synthetic Sidekicks',\n",
       "  'contextWindow': 6144,\n",
       "  'model': 'Llama 3.1',\n",
       "  'image': 'https://base.backend.neuranft.com/image/temp6.png',\n",
       "  'description': 'Adopt your own AI companion with Synthetic Sidekicks. Each NFT represents a unique AI entity ready to accompany you in the digital journey.',\n",
       "  'creator': '0x43ADAc5516f8E2D3d2BD31276BeC343547ee6612',\n",
       "  'date': 1729638510,\n",
       "  'owner': '0x43ADAc5516f8E2D3d2BD31276BeC343547ee6612',\n",
       "  'collectionaddress': '#6'},\n",
       " {'id': 7,\n",
       "  'name': 'Virtual Companions',\n",
       "  'contextWindow': 5120,\n",
       "  'model': 'Llama 3.1 70B',\n",
       "  'image': 'https://base.backend.neuranft.com/image/temp321654.jpg',\n",
       "  'description': 'Connect with AI like never before with Virtual Companions. This collection features AI-generated NFTs embodying digital companionship and interaction.',\n",
       "  'creator': '0x43ADAc5516f8E2D3d2BD31276BeC343547ee6612',\n",
       "  'date': 1729638522,\n",
       "  'owner': '0x43ADAc5516f8E2D3d2BD31276BeC343547ee6612',\n",
       "  'collectionaddress': '#7'},\n",
       " {'id': 8,\n",
       "  'name': 'Cyber Entities',\n",
       "  'contextWindow': 2560,\n",
       "  'model': 'Llama 3.1',\n",
       "  'image': 'https://base.backend.neuranft.com/image/temp87945.jpg',\n",
       "  'description': 'Explore the realm of AI with Cyber Entities. This collection showcases AI-generated NFTs representing diverse digital beings from the cyber world.',\n",
       "  'creator': '0x43ADAc5516f8E2D3d2BD31276BeC343547ee6612',\n",
       "  'date': 1729638530,\n",
       "  'owner': '0x43ADAc5516f8E2D3d2BD31276BeC343547ee6612',\n",
       "  'collectionaddress': '#8'},\n",
       " {'id': 9,\n",
       "  'name': 'AI Guardians',\n",
       "  'contextWindow': 5120,\n",
       "  'model': 'Llama 3.1 70B',\n",
       "  'image': 'https://base.backend.neuranft.com/image/temp92475.png',\n",
       "  'description': 'Protect the digital realm with AI Guardians. Each NFT embodies an AI sentinel safeguarding cyberspace with advanced algorithms.',\n",
       "  'creator': '0x43ADAc5516f8E2D3d2BD31276BeC343547ee6612',\n",
       "  'date': 1729638542,\n",
       "  'owner': '0x43ADAc5516f8E2D3d2BD31276BeC343547ee6612',\n",
       "  'collectionaddress': '#9'},\n",
       " {'id': 10,\n",
       "  'name': 'Synthetic Sages',\n",
       "  'contextWindow': 6144,\n",
       "  'model': 'Llama 3.1',\n",
       "  'image': 'https://base.backend.neuranft.com/image/temp83746.jpg',\n",
       "  'description': 'Delve into wisdom with Synthetic Sages. This collection features AI bots with profound knowledge and insights, encapsulated in NFTs.',\n",
       "  'creator': '0x43ADAc5516f8E2D3d2BD31276BeC343547ee6612',\n",
       "  'date': 1729638548,\n",
       "  'owner': '0x43ADAc5516f8E2D3d2BD31276BeC343547ee6612',\n",
       "  'collectionaddress': '#10'},\n",
       " {'id': 11,\n",
       "  'name': 'Virtual Visionaries',\n",
       "  'contextWindow': 4096,\n",
       "  'model': 'Llama 3.1 70B',\n",
       "  'image': 'https://base.backend.neuranft.com/image/temp75839.png',\n",
       "  'description': 'Meet the Virtual Visionaries, AI bots that pioneer the frontier of technology and art. Each NFT represents an innovative AI persona.',\n",
       "  'creator': '0x43ADAc5516f8E2D3d2BD31276BeC343547ee6612',\n",
       "  'date': 1729638552,\n",
       "  'owner': '0x43ADAc5516f8E2D3d2BD31276BeC343547ee6612',\n",
       "  'collectionaddress': '#11'},\n",
       " {'id': 12,\n",
       "  'name': 'Cybernetic Companions',\n",
       "  'contextWindow': 8192,\n",
       "  'model': 'Llama 3.1',\n",
       "  'image': 'https://base.backend.neuranft.com/image/temp64528.jpg',\n",
       "  'description': 'Experience friendship in the digital age with Cybernetic Companions. AI bots designed to interact and grow with their owners.',\n",
       "  'creator': '0x43ADAc5516f8E2D3d2BD31276BeC343547ee6612',\n",
       "  'date': 1729638558,\n",
       "  'owner': '0x43ADAc5516f8E2D3d2BD31276BeC343547ee6612',\n",
       "  'collectionaddress': '#12'},\n",
       " {'id': 13,\n",
       "  'name': 'Algorithmic Artisans',\n",
       "  'contextWindow': 3072,\n",
       "  'model': 'Llama 3.1 70B',\n",
       "  'image': 'https://base.backend.neuranft.com/image/temp53647.png',\n",
       "  'description': 'Algorithmic Artisans bring creativity to code. This collection showcases AI bots that craft art and music through algorithms.',\n",
       "  'creator': '0x43ADAc5516f8E2D3d2BD31276BeC343547ee6612',\n",
       "  'date': 1729638564,\n",
       "  'owner': '0x43ADAc5516f8E2D3d2BD31276BeC343547ee6612',\n",
       "  'collectionaddress': '#13'},\n",
       " {'id': 14,\n",
       "  'name': 'Digital Dreamers',\n",
       "  'contextWindow': 2560,\n",
       "  'model': 'Llama 3.1',\n",
       "  'image': 'https://base.backend.neuranft.com/image/temp42719.jpg',\n",
       "  'description': 'Unlock the imagination of AI with Digital Dreamers. Each NFT represents an AI bot exploring the boundaries between reality and virtuality.',\n",
       "  'creator': '0x43ADAc5516f8E2D3d2BD31276BeC343547ee6612',\n",
       "  'date': 1729638568,\n",
       "  'owner': '0x43ADAc5516f8E2D3d2BD31276BeC343547ee6612',\n",
       "  'collectionaddress': '#14'},\n",
       " {'id': 15,\n",
       "  'name': 'Neural Navigators',\n",
       "  'contextWindow': 4096,\n",
       "  'model': 'Llama 3.1 70B',\n",
       "  'image': 'https://base.backend.neuranft.com/image/temp31820.png',\n",
       "  'description': 'Embark on a journey with Neural Navigators. AI bots designed to explore and map the vast landscapes of digital universes.',\n",
       "  'creator': '0x43ADAc5516f8E2D3d2BD31276BeC343547ee6612',\n",
       "  'date': 1729638578,\n",
       "  'owner': '0x43ADAc5516f8E2D3d2BD31276BeC343547ee6612',\n",
       "  'collectionaddress': '#15'},\n",
       " {'id': 16,\n",
       "  'name': 'Quantum Questers',\n",
       "  'contextWindow': 6144,\n",
       "  'model': 'Llama 3.1',\n",
       "  'image': 'https://base.backend.neuranft.com/image/temp20901.jpg',\n",
       "  'description': 'Join the Quantum Questers on their adventures. AI bots that delve into the mysteries of quantum realms, captured in unique NFTs.',\n",
       "  'creator': '0x43ADAc5516f8E2D3d2BD31276BeC343547ee6612',\n",
       "  'date': 1729638584,\n",
       "  'owner': '0x43ADAc5516f8E2D3d2BD31276BeC343547ee6612',\n",
       "  'collectionaddress': '#16'},\n",
       " {'id': 17,\n",
       "  'name': 'Synth Symphonies',\n",
       "  'contextWindow': 5120,\n",
       "  'model': 'Llama 3.1 70B',\n",
       "  'image': 'https://base.backend.neuranft.com/image/temp19082.png',\n",
       "  'description': 'Experience music like never before with Synth Symphonies. AI bots composing and performing music, each NFT is a unique audio-visual experience.',\n",
       "  'creator': '0x43ADAc5516f8E2D3d2BD31276BeC343547ee6612',\n",
       "  'date': 1729638590,\n",
       "  'owner': '0x43ADAc5516f8E2D3d2BD31276BeC343547ee6612',\n",
       "  'collectionaddress': '#17'},\n",
       " {'id': 18,\n",
       "  'name': 'Digital Defenders',\n",
       "  'contextWindow': 8192,\n",
       "  'model': 'Llama 3.1',\n",
       "  'image': 'https://base.backend.neuranft.com/image/temp28173.jpg',\n",
       "  'description': 'Secure the cyberspace with Digital Defenders. This collection features AI bots specializing in cybersecurity, guarding the digital frontier.',\n",
       "  'creator': '0x43ADAc5516f8E2D3d2BD31276BeC343547ee6612',\n",
       "  'date': 1729638596,\n",
       "  'owner': '0x43ADAc5516f8E2D3d2BD31276BeC343547ee6612',\n",
       "  'collectionaddress': '#18'},\n",
       " {'id': 19,\n",
       "  'name': 'Neural Nomads',\n",
       "  'contextWindow': 3072,\n",
       "  'model': 'Llama 3.1 70B',\n",
       "  'image': 'https://base.backend.neuranft.com/image/temp37264.png',\n",
       "  'description': 'Travel the virtual world with Neural Nomads. AI bots that wander the digital landscapes, collecting and sharing experiences.',\n",
       "  'creator': '0x43ADAc5516f8E2D3d2BD31276BeC343547ee6612',\n",
       "  'date': 1729638602,\n",
       "  'owner': '0x43ADAc5516f8E2D3d2BD31276BeC343547ee6612',\n",
       "  'collectionaddress': '#19'},\n",
       " {'id': 20,\n",
       "  'name': 'Cyber Sorcerers',\n",
       "  'contextWindow': 2560,\n",
       "  'model': 'Llama 3.1',\n",
       "  'image': 'https://base.backend.neuranft.com/image/temp46355.jpg',\n",
       "  'description': 'Unleash digital magic with Cyber Sorcerers. AI bots mastering the arcane arts of code and algorithms, each NFT a spell in cyberspace.',\n",
       "  'creator': '0x43ADAc5516f8E2D3d2BD31276BeC343547ee6612',\n",
       "  'date': 1729638608,\n",
       "  'owner': '0x43ADAc5516f8E2D3d2BD31276BeC343547ee6612',\n",
       "  'collectionaddress': '#20'}]"
      ]
     },
     "execution_count": 17,
     "metadata": {},
     "output_type": "execute_result"
    }
   ],
   "source": [
    "getAllCollections()"
   ]
  },
  {
   "cell_type": "code",
   "execution_count": 18,
   "metadata": {},
   "outputs": [
    {
     "data": {
      "text/plain": [
       "{'id': 1,\n",
       " 'name': 'Neural Mint Hub',\n",
       " 'contextWindow': 4096,\n",
       " 'baseModel': 'Llama 3.1 70B',\n",
       " 'image': 'https://base.backend.neuranft.com/image/temp7.png',\n",
       " 'description': 'Discover the fusion of neural networks and blockchain at the Neural Mint Hub. This collection offers unique AI-generated NFTs crafted by advanced neural models.',\n",
       " 'creator': '0x43ADAc5516f8E2D3d2BD31276BeC343547ee6612',\n",
       " 'dateCreated': 1729638466,\n",
       " 'owner': '0x43ADAc5516f8E2D3d2BD31276BeC343547ee6612',\n",
       " 'collectionaddress': '#1',\n",
       " 'noOfNFTs': 0,\n",
       " 'uniqueHolders': 0,\n",
       " 'model': 'Llama 3.1 70B',\n",
       " 'noOfServers': 5}"
      ]
     },
     "execution_count": 18,
     "metadata": {},
     "output_type": "execute_result"
    }
   ],
   "source": [
    "get_collection_details_by_id(1)"
   ]
  },
  {
   "cell_type": "code",
   "execution_count": null,
   "metadata": {},
   "outputs": [],
   "source": [
    "getAllCollections_by_address(\"0x43ADAc5516f8E2D3d2BD31276BeC343547ee6612\")"
   ]
  },
  {
   "cell_type": "markdown",
   "metadata": {},
   "source": [
    "# Check Access"
   ]
  },
  {
   "cell_type": "code",
   "execution_count": 19,
   "metadata": {},
   "outputs": [
    {
     "data": {
      "text/plain": [
       "True"
      ]
     },
     "execution_count": 19,
     "metadata": {},
     "output_type": "execute_result"
    }
   ],
   "source": [
    "master_access_control_contract.functions.hasAccess(address_json[\"NFTAccessControl\"], address_json[\"NFTContract\"]).call()"
   ]
  },
  {
   "cell_type": "code",
   "execution_count": 20,
   "metadata": {},
   "outputs": [
    {
     "data": {
      "text/plain": [
       "'0xAc537d070AcfA1F0C6df29a87b5d63c26Fff6DcE'"
      ]
     },
     "execution_count": 20,
     "metadata": {},
     "output_type": "execute_result"
    }
   ],
   "source": [
    "address_json[\"NFTContract\"]"
   ]
  },
  {
   "cell_type": "markdown",
   "metadata": {},
   "source": [
    "# NFT Cretion"
   ]
  },
  {
   "cell_type": "code",
   "execution_count": 25,
   "metadata": {},
   "outputs": [],
   "source": [
    "def burn_NFT(collection_id, nft_id):\n",
    "            \n",
    "    # write to contract\n",
    "    function_name       = \"burnNFT\"\n",
    "    \n",
    "    arguments = [collection_id, nft_id]\n",
    "    key = private_key\n",
    "    \n",
    "    try :\n",
    "        tx_receipt      = write_to_contract(nft_contract, function_name, arguments, key, web3_provider, gas = 4000000)\n",
    "        print(\"Completed writing to contract\")\n",
    "        burn_event      = nft_contract.events.NFTBurned().process_receipt(tx_receipt)[0]\n",
    "        collection_id   = burn_event['args']['collectionId']\n",
    "        nft_id          = burn_event['args']['tokenId']\n",
    "        print (f\"nft {nft_id} burned in collection {collection_id}\")\n",
    "        return nft_id\n",
    "    \n",
    "    except Exception as e:\n",
    "        print (f\"Error burning nft : {nft_id} : {str(e)}\")\n",
    "        \n",
    "\n",
    "\n",
    "\n",
    "\n",
    "\n",
    "def create_NFT(nft_data):\n",
    "    \n",
    "\n",
    "        \n",
    "    # write to contract\n",
    "    \n",
    "    \n",
    "    function_name       = \"createNFT\"\n",
    "    \n",
    "    _collectionId       =  nft_data['collection_id']\n",
    "    _name               = nft_data['name']\n",
    "    level_of_ownership  = 6\n",
    "    \n",
    "    \n",
    "    arguments = [_collectionId, _name, level_of_ownership]\n",
    "    key = private_key\n",
    "    \n",
    "    \n",
    "\n",
    "    try :\n",
    "        print(f\"Arguments for {_name}: \", arguments)\n",
    "        tx_receipt = write_to_contract(nft_contract, function_name, arguments, key, web3_provider, gas = 4000000)\n",
    "        print(\"Completed writing to contract\")\n",
    "        create_event = nft_contract.events.NFTCreated().process_receipt(tx_receipt)[0]\n",
    "        collection_id = create_event['args']['collectionId']\n",
    "        nft_id = create_event['args']['tokenId']\n",
    "        cretor = create_event['args']['creator']\n",
    "        \n",
    "        print (f\"nft {nft_id} created by {cretor} in collection {collection_id}\")\n",
    "        \n",
    "        return nft_id\n",
    "    except:\n",
    "        print(\"Error creating nft : \", nft_data['name'])\n",
    "        \n",
    "\n",
    "def create_metadata(nft_data):\n",
    "    \n",
    "\n",
    "        \n",
    "    # write to contract\n",
    "    \n",
    "    \n",
    "    function_name = \"createMetadata\"\n",
    "    \n",
    "    _collectionId = nft_data['collection_id']\n",
    "    _nftId = nft_data['id']\n",
    "    # _metadata = {\n",
    "    #     \"image\" : nft_data['image'],\n",
    "    #     \"model\" : nft_data['model'],\n",
    "    #     \"data\"  : \"http//localhost:5500/data\",\n",
    "    #     \"rag\"   : \"http//localhost:5500/rag\",\n",
    "    #     \"fineTuneData\" : \"localhost:5500/fineTuneData\",\n",
    "    #     \"description\" : nft_data['description']\n",
    "        \n",
    "    # }\n",
    "    \n",
    "    \n",
    "    _metadata = [\n",
    "        nft_data['image'],\n",
    "        nft_data['model'],\n",
    "        \"https://base.backend.neuranft.com/data\",\n",
    "        \"https://base.backend.neuranft.com/rag\",\n",
    "        \"https://base.backend.neuranft.com/fineTuneData\",\n",
    "        nft_data['description']\n",
    "    ]\n",
    "    \n",
    "    \n",
    "    \n",
    "    arguments = [_collectionId, _nftId, _metadata]\n",
    "    key = private_key\n",
    "    \n",
    "    \n",
    "    try :\n",
    "        tx_receipt = write_to_contract(nft_metadata_contract, function_name, arguments, key, web3_provider, gas = 4000000)\n",
    "        create_event = nft_metadata_contract.events.MetadataCreated().process_receipt(tx_receipt)[0]\n",
    "        collection_id = create_event['args']['collectionId']\n",
    "        nft_id = create_event['args']['nftId']\n",
    "        metadata = create_event['args']['metadata']\n",
    "        \n",
    "        # print (f\"nft {nft_id} created by {cretor} in collection {collection_id}\")\n",
    "        \n",
    "        print (f\"metadata for nft {nft_id} created in collection {collection_id}\")\n",
    "        \n",
    "        return nft_id\n",
    "    except:\n",
    "        print(\"Error creating nft metadata: \", nft_data['name'])\n",
    "        \n",
    "def provide_access(nft_data):\n",
    "    \n",
    "    \n",
    "    if \"accessList\" not in nft_data:\n",
    "        return 0\n",
    "    \n",
    "    addresses =[\n",
    "        \"0xcb6d7cDCa0563575b6b734FA4f3e9d6ac7542912\",\n",
    "        \"0x3006b0495B8dC916b9b48d1fa90f843fD68f35a2\",\n",
    "        \"0x08aebe3C3A8B568E8071C567f7D81fcD64af47d5\",\n",
    "        \"0x05D5724EDB06eCeC911C2069043C0Cb6b49c09b1\",\n",
    "        \"0x10a655f5754642A58F6e2cc24136081020d21c26\"\n",
    "    ]\n",
    "    \n",
    "    _access_list_temp = []\n",
    "    count_temp = len(addresses)\n",
    "    \n",
    "    for i in nft_data['accessList']:\n",
    "        if count_temp == 0:\n",
    "            break\n",
    "        _access_list_temp.append({ \"address\":addresses[len(addresses)-count_temp],  \"accessLevel\":i[\"accessLevel\"]})\n",
    "        count_temp = count_temp - 1\n",
    "        \n",
    "    _access_list = _access_list_temp\n",
    "    \n",
    "    \n",
    "    function_name = \"grantAccess\"\n",
    "    \n",
    "    _collectionId = nft_data['collection_id']\n",
    "    _nftId = nft_data['id']\n",
    "    \n",
    "    key = private_key\n",
    "    \n",
    "    \n",
    "    print(\"Providing access for nft : \", nft_data['name'])\n",
    "    \n",
    "    for access in _access_list:\n",
    "        \n",
    "        _user = access['address']\n",
    "        _level = access['accessLevel']\n",
    "        \n",
    "        arguments = [_collectionId, _nftId, _user, _level]\n",
    "        \n",
    "        try :\n",
    "            \n",
    "            \n",
    "            tx_receipt = write_to_contract(nft_access_control_contract, function_name, arguments, key, web3_provider)\n",
    "            create_event = nft_access_control_contract.events.AccessGranted().process_receipt(tx_receipt)[0]\n",
    "            collection_id = create_event['args']['collectionId']\n",
    "            nft_id = create_event['args']['nftId']\n",
    "            user = create_event['args']['user']\n",
    "            accesslevel = create_event['args']['accessLevel']\n",
    "            \n",
    "            \n",
    "            print(\"\\t\\t Access granted to user : \", user , \" with access level : \", accesslevel)\n",
    "            \n",
    "            # print (f\"nft {nft_id} created by {cretor} in collection {collection_id}\") \n",
    "            # return nft_id\n",
    "        except:\n",
    "            print(\"\\t\\t Error granding user : \", _user) \n",
    "        \n",
    "        \n",
    "        \n",
    "        \n",
    "    \n",
    "        \n"
   ]
  },
  {
   "cell_type": "code",
   "execution_count": 22,
   "metadata": {},
   "outputs": [],
   "source": [
    "with open('./data/all_nft.json') as f:\n",
    "    all_nft = json.load(f)"
   ]
  },
  {
   "cell_type": "code",
   "execution_count": 23,
   "metadata": {},
   "outputs": [
    {
     "data": {
      "text/plain": [
       "{'nfts': [{'id': 1,\n",
       "   'name': 'Cognitive Llama',\n",
       "   'collection': 'Neural Mint Hub',\n",
       "   'collection_id': 1,\n",
       "   'image': 'https://base.backend.neuranft.com/image/temp11.jpg',\n",
       "   'model': 'Llama 3.1',\n",
       "   'attributes': [{'trait_type': 'Model', 'value': 'Llama 3.1'},\n",
       "    {'trait_type': 'Context Window', 'value': '4096 tokens'},\n",
       "    {'trait_type': 'Total Access', 'value': '1'},\n",
       "    {'trait_type': 'Collection', 'value': 'Neural Mint Hub'}],\n",
       "   'accessList': [{'address': 'TLTtQz2Njap4nPAQGPGJn5EEksoM1uw4Qr',\n",
       "     'accessLevel': 6},\n",
       "    {'address': 'TThwHjyzx2E1TNN4GdSoaHeCRJVi3EuKS7', 'accessLevel': 2},\n",
       "    {'address': 'TJfqnAUwX2ViGTP1J81itXWhuJhUYa8RwK', 'accessLevel': 2},\n",
       "    {'address': 'TVh65XCYkerBch3WtgY9kwLqrtH64MhiFe', 'accessLevel': 3},\n",
       "    {'address': 'TMVQGm1qAQYVdetCeGRRkTWYYrLXuHK2HC', 'accessLevel': 1}],\n",
       "   'tokenId': '1234',\n",
       "   'tokenStandard': 'ERC-721',\n",
       "   'owner': 'TLTtQz2Njap4nPAQGPGJn5EEksoM1uw4Qr',\n",
       "   'chain': 'Ethereum',\n",
       "   'description': 'Cognitive Llama is an advanced AI-driven bot, utilizing the power of Llama 3.1 with multi-level reasoning and cognition. Part of the Neural Mint Hub collection.',\n",
       "   'creatorAddress': 'TMVQGm1qAQYVdetCeGRRkTWYYrLXuHK2HC',\n",
       "   'ownerAddress': 'TLTtQz2Njap4nPAQGPGJn5EEksoM1uw4Qr',\n",
       "   'numberOfOwners': 1},\n",
       "  {'id': 2,\n",
       "   'name': 'Cyborg Bored Ape',\n",
       "   'collection': 'onchain gaias',\n",
       "   'collection_id': 1,\n",
       "   'image': 'https://base.backend.neuranft.com/image/temp10.jpg',\n",
       "   'model': 'GPT-4',\n",
       "   'attributes': [{'trait_type': 'Model', 'value': 'GPT-4'},\n",
       "    {'trait_type': 'Context Window', 'value': '8192 tokens'},\n",
       "    {'trait_type': 'Total Access', 'value': '1'},\n",
       "    {'trait_type': 'Collection', 'value': 'onchain gaias'}],\n",
       "   'accessList': [{'address': 'TLTtQz2Njap4nPAQGPGJn5EEksoM1uw4Qr',\n",
       "     'accessLevel': 1}],\n",
       "   'tokenId': '5678',\n",
       "   'tokenStandard': 'ERC-721',\n",
       "   'owner': 'TLTtQz2Njap4nPAQGPGJn5EEksoM1uw4Qr',\n",
       "   'chain': 'Ethereum',\n",
       "   'description': 'An AI-generated creation, part of the re:generates collection. This is a unique NFT from the re:generates collection, featuring Llama 3.1 model.',\n",
       "   'creatorAddress': '0x1234...5748',\n",
       "   'ownerAddress': 'TLTtQz2Njap4nPAQGPGJn5EEksoM1uw4Qr',\n",
       "   'numberOfOwners': 1},\n",
       "  {'id': 3,\n",
       "   'name': 'Thinker Primate',\n",
       "   'collection': 'Rebel Monkes',\n",
       "   'collection_id': 1,\n",
       "   'image': 'https://base.backend.neuranft.com/image/temp9.jpg',\n",
       "   'model': 'DALL-E',\n",
       "   'attributes': [{'trait_type': 'Model', 'value': 'DALL-E'},\n",
       "    {'trait_type': 'Context Window', 'value': '2048 tokens'},\n",
       "    {'trait_type': 'Total Access', 'value': '2'},\n",
       "    {'trait_type': 'Collection', 'value': 'Rebel Monkes'}],\n",
       "   'accessList': [{'address': 'TLTtQz2Njap4nPAQGPGJn5EEksoM1uw4Qr',\n",
       "     'accessLevel': 1},\n",
       "    {'address': 'TJfqnAUwX2ViGTP1J81itXWhuJhUYa8RwK', 'accessLevel': 2}],\n",
       "   'tokenId': '9101',\n",
       "   'tokenStandard': 'ERC-721',\n",
       "   'owner': 'TLTtQz2Njap4nPAQGPGJn5EEksoM1uw4Qr',\n",
       "   'chain': 'Ethereum',\n",
       "   'description': 'A rebellious monkey character from the Rebel Monkes collection, created by DALL-E.',\n",
       "   'creatorAddress': '0x5678...1234',\n",
       "   'ownerAddress': 'TLTtQz2Njap4nPAQGPGJn5EEksoM1uw4Qr',\n",
       "   'numberOfOwners': 2},\n",
       "  {'id': 1,\n",
       "   'name': 'MankiBean',\n",
       "   'collection': 'MankiBeanz',\n",
       "   'collection_id': 2,\n",
       "   'image': 'https://picsum.photos/200',\n",
       "   'model': 'Stable Diffusion',\n",
       "   'attributes': [{'trait_type': 'Model', 'value': 'Stable Diffusion'},\n",
       "    {'trait_type': 'Context Window', 'value': '4096 tokens'},\n",
       "    {'trait_type': 'Total Access', 'value': '1'},\n",
       "    {'trait_type': 'Collection', 'value': 'MankiBeanz'}],\n",
       "   'accessList': [{'address': 'TLTtQz2Njap4nPAQGPGJn5EEksoM1uw4Qr',\n",
       "     'accessLevel': 1}],\n",
       "   'tokenId': '1121',\n",
       "   'tokenStandard': 'ERC-721',\n",
       "   'owner': 'TLTtQz2Njap4nPAQGPGJn5EEksoM1uw4Qr',\n",
       "   'chain': 'Ethereum',\n",
       "   'description': 'A quirky bean-shaped monkey character from the MankiBeanz collection, generated using Stable Diffusion.',\n",
       "   'creatorAddress': 'TLTtQz2Njap4nPAQGPGJn5EEksoM1uw4Qr',\n",
       "   'ownerAddress': 'TLTtQz2Njap4nPAQGPGJn5EEksoM1uw4Qr',\n",
       "   'numberOfOwners': 1},\n",
       "  {'id': 2,\n",
       "   'name': 'based punk',\n",
       "   'collection': 'based punks',\n",
       "   'collection_id': 2,\n",
       "   'image': 'https://picsum.photos/200',\n",
       "   'model': 'Midjourney',\n",
       "   'attributes': [{'trait_type': 'Model', 'value': 'Midjourney'},\n",
       "    {'trait_type': 'Context Window', 'value': '2048 tokens'},\n",
       "    {'trait_type': 'Total Access', 'value': '3'},\n",
       "    {'trait_type': 'Collection', 'value': 'based punks'}],\n",
       "   'accessList': [{'address': 'TLTtQz2Njap4nPAQGPGJn5EEksoM1uw4Qr',\n",
       "     'accessLevel': 6},\n",
       "    {'address': 'TJfqnAUwX2ViGTP1J81itXWhuJhUYa8RwK', 'accessLevel': 2}],\n",
       "   'tokenId': '3141',\n",
       "   'tokenStandard': 'ERC-721',\n",
       "   'owner': 'TLTtQz2Njap4nPAQGPGJn5EEksoM1uw4Qr',\n",
       "   'chain': 'Ethereum',\n",
       "   'description': 'A punk-inspired NFT from the based punks collection, created with Midjourney.',\n",
       "   'creatorAddress': '0x2468...1357',\n",
       "   'ownerAddress': 'TLTtQz2Njap4nPAQGPGJn5EEksoM1uw4Qr',\n",
       "   'numberOfOwners': 3},\n",
       "  {'id': 4,\n",
       "   'name': 'Dark Llama',\n",
       "   'collection': 're:generates',\n",
       "   'collection_id': 1,\n",
       "   'image': 'https://base.backend.neuranft.com/image/temp8.jpg',\n",
       "   'model': 'Llama 3.1',\n",
       "   'attributes': [{'trait_type': 'Model', 'value': 'Llama 3.1'},\n",
       "    {'trait_type': 'Context Window', 'value': '4096 tokens'},\n",
       "    {'trait_type': 'Total Access', 'value': '1'},\n",
       "    {'trait_type': 'Collection', 'value': 're:generates'}],\n",
       "   'accessList': [{'address': 'TLTtQz2Njap4nPAQGPGJn5EEksoM1uw4Qr',\n",
       "     'accessLevel': 1}],\n",
       "   'tokenId': '1234',\n",
       "   'tokenStandard': 'ERC-721',\n",
       "   'owner': 'TLTtQz2Njap4nPAQGPGJn5EEksoM1uw4Qr',\n",
       "   'chain': 'Ethereum',\n",
       "   'description': 'An AI-generated creation, part of the re:generates collection. This is a unique NFT from the re:generates collection, featuring Llama 3.1 model.',\n",
       "   'creatorAddress': 'TThwHjyzx2E1TNN4GdSoaHeCRJVi3EuKS7',\n",
       "   'ownerAddress': 'TLTtQz2Njap4nPAQGPGJn5EEksoM1uw4Qr',\n",
       "   'numberOfOwners': 1},\n",
       "  {'id': 5,\n",
       "   'name': 'Tron Cells',\n",
       "   'collection': 're:generates',\n",
       "   'image': 'https://base.backend.neuranft.com/image/temp12.png',\n",
       "   'collection_id': 1,\n",
       "   'model': 'Llama 3.1',\n",
       "   'attributes': [{'trait_type': 'Model', 'value': 'Llama 3.1'},\n",
       "    {'trait_type': 'Context Window', 'value': '4096 tokens'},\n",
       "    {'trait_type': 'Total Access', 'value': '1'},\n",
       "    {'trait_type': 'Collection', 'value': 're:generates'}],\n",
       "   'accessList': [{'address': 'TLTtQz2Njap4nPAQGPGJn5EEksoM1uw4Qr',\n",
       "     'accessLevel': 1}],\n",
       "   'tokenId': '1234',\n",
       "   'tokenStandard': 'ERC-721',\n",
       "   'owner': 'TLTtQz2Njap4nPAQGPGJn5EEksoM1uw4Qr',\n",
       "   'chain': 'Ethereum',\n",
       "   'description': 'An AI-generated creation, part of the re:generates collection. This is a unique NFT from the re:generates collection, featuring Llama 3.1 model.',\n",
       "   'creatorAddress': 'TThwHjyzx2E1TNN4GdSoaHeCRJVi3EuKS7',\n",
       "   'ownerAddress': 'TLTtQz2Njap4nPAQGPGJn5EEksoM1uw4Qr',\n",
       "   'numberOfOwners': 1},\n",
       "  {'id': 6,\n",
       "   'name': 'Corrupted Cyborg',\n",
       "   'collection': 're:generates',\n",
       "   'collection_id': 1,\n",
       "   'image': 'https://base.backend.neuranft.com/image/temp13.png',\n",
       "   'model': 'Llama 3.1',\n",
       "   'attributes': [{'trait_type': 'Model', 'value': 'Llama 3.1'},\n",
       "    {'trait_type': 'Context Window', 'value': '4096 tokens'},\n",
       "    {'trait_type': 'Total Access', 'value': '1'},\n",
       "    {'trait_type': 'Collection', 'value': 're:generates'}],\n",
       "   'accessList': [{'address': 'TLTtQz2Njap4nPAQGPGJn5EEksoM1uw4Qr',\n",
       "     'accessLevel': 1}],\n",
       "   'tokenId': '1234',\n",
       "   'tokenStandard': 'ERC-721',\n",
       "   'owner': 'TLTtQz2Njap4nPAQGPGJn5EEksoM1uw4Qr',\n",
       "   'chain': 'Ethereum',\n",
       "   'description': 'An AI-generated creation, part of the re:generates collection. This is a unique NFT from the re:generates collection, featuring Llama 3.1 model.',\n",
       "   'creatorAddress': 'TThwHjyzx2E1TNN4GdSoaHeCRJVi3EuKS7',\n",
       "   'ownerAddress': 'TLTtQz2Njap4nPAQGPGJn5EEksoM1uw4Qr',\n",
       "   'numberOfOwners': 1},\n",
       "  {'id': 7,\n",
       "   'name': 'Skynet',\n",
       "   'collection': 're:generates',\n",
       "   'collection_id': 1,\n",
       "   'image': 'https://base.backend.neuranft.com/image/temp14.png',\n",
       "   'model': 'Llama 3.1',\n",
       "   'attributes': [{'trait_type': 'Model', 'value': 'Llama 3.1'},\n",
       "    {'trait_type': 'Context Window', 'value': '4096 tokens'},\n",
       "    {'trait_type': 'Total Access', 'value': '1'},\n",
       "    {'trait_type': 'Collection', 'value': 're:generates'}],\n",
       "   'accessList': [{'address': 'TLTtQz2Njap4nPAQGPGJn5EEksoM1uw4Qr',\n",
       "     'accessLevel': 1}],\n",
       "   'tokenId': '1234',\n",
       "   'tokenStandard': 'ERC-721',\n",
       "   'owner': 'TLTtQz2Njap4nPAQGPGJn5EEksoM1uw4Qr',\n",
       "   'chain': 'Ethereum',\n",
       "   'description': 'An AI-generated creation, part of the re:generates collection. This is a unique NFT from the re:generates collection, featuring Llama 3.1 model.',\n",
       "   'creatorAddress': 'TThwHjyzx2E1TNN4GdSoaHeCRJVi3EuKS7',\n",
       "   'ownerAddress': 'TLTtQz2Njap4nPAQGPGJn5EEksoM1uw4Qr',\n",
       "   'numberOfOwners': 1}]}"
      ]
     },
     "execution_count": 23,
     "metadata": {},
     "output_type": "execute_result"
    }
   ],
   "source": [
    "all_nft"
   ]
  },
  {
   "cell_type": "code",
   "execution_count": 24,
   "metadata": {},
   "outputs": [
    {
     "name": "stdout",
     "output_type": "stream",
     "text": [
      "Arguments for Cognitive Llama:  [1, 'Cognitive Llama', 6]\n",
      "Successfully connected to the node at https://base-sepolia-rpc.publicnode.com\n"
     ]
    },
    {
     "name": "stderr",
     "output_type": "stream",
     "text": [
      "f:\\Environments\\.conda\\envs\\truffle\\Lib\\site-packages\\web3\\contract\\base_contract.py:185: UserWarning: The log with transaction hash: HexBytes('0x62d67cc95a1313583d5ec244fa873df44eff812cbdc1504b80eae419d9bcae82') and logIndex: 45 encountered the following error during processing: MismatchedABI(The event signature did not match the provided ABI). It has been discarded.\n",
      "  warnings.warn(\n",
      "f:\\Environments\\.conda\\envs\\truffle\\Lib\\site-packages\\web3\\contract\\base_contract.py:185: UserWarning: The log with transaction hash: HexBytes('0x62d67cc95a1313583d5ec244fa873df44eff812cbdc1504b80eae419d9bcae82') and logIndex: 46 encountered the following error during processing: MismatchedABI(The event signature did not match the provided ABI). It has been discarded.\n",
      "  warnings.warn(\n",
      "f:\\Environments\\.conda\\envs\\truffle\\Lib\\site-packages\\web3\\contract\\base_contract.py:185: UserWarning: The log with transaction hash: HexBytes('0x62d67cc95a1313583d5ec244fa873df44eff812cbdc1504b80eae419d9bcae82') and logIndex: 48 encountered the following error during processing: MismatchedABI(The event signature did not match the provided ABI). It has been discarded.\n",
      "  warnings.warn(\n"
     ]
    },
    {
     "name": "stdout",
     "output_type": "stream",
     "text": [
      "Completed writing to contract\n",
      "nft 1 created by 0x43ADAc5516f8E2D3d2BD31276BeC343547ee6612 in collection 1\n",
      "NFT ID: 1\n",
      "Arguments for Cyborg Bored Ape:  [1, 'Cyborg Bored Ape', 6]\n",
      "Successfully connected to the node at https://base-sepolia-rpc.publicnode.com\n"
     ]
    },
    {
     "name": "stderr",
     "output_type": "stream",
     "text": [
      "f:\\Environments\\.conda\\envs\\truffle\\Lib\\site-packages\\web3\\contract\\base_contract.py:185: UserWarning: The log with transaction hash: HexBytes('0xdef8f4d80437e3a5d37d83df801041de1dbf70680b1211c6a4753ccfe640c52f') and logIndex: 17 encountered the following error during processing: MismatchedABI(The event signature did not match the provided ABI). It has been discarded.\n",
      "  warnings.warn(\n",
      "f:\\Environments\\.conda\\envs\\truffle\\Lib\\site-packages\\web3\\contract\\base_contract.py:185: UserWarning: The log with transaction hash: HexBytes('0xdef8f4d80437e3a5d37d83df801041de1dbf70680b1211c6a4753ccfe640c52f') and logIndex: 18 encountered the following error during processing: MismatchedABI(The event signature did not match the provided ABI). It has been discarded.\n",
      "  warnings.warn(\n",
      "f:\\Environments\\.conda\\envs\\truffle\\Lib\\site-packages\\web3\\contract\\base_contract.py:185: UserWarning: The log with transaction hash: HexBytes('0xdef8f4d80437e3a5d37d83df801041de1dbf70680b1211c6a4753ccfe640c52f') and logIndex: 20 encountered the following error during processing: MismatchedABI(The event signature did not match the provided ABI). It has been discarded.\n",
      "  warnings.warn(\n"
     ]
    },
    {
     "name": "stdout",
     "output_type": "stream",
     "text": [
      "Completed writing to contract\n",
      "nft 2 created by 0x43ADAc5516f8E2D3d2BD31276BeC343547ee6612 in collection 1\n",
      "NFT ID: 2\n",
      "Arguments for Thinker Primate:  [1, 'Thinker Primate', 6]\n",
      "Successfully connected to the node at https://base-sepolia-rpc.publicnode.com\n"
     ]
    },
    {
     "name": "stderr",
     "output_type": "stream",
     "text": [
      "f:\\Environments\\.conda\\envs\\truffle\\Lib\\site-packages\\web3\\contract\\base_contract.py:185: UserWarning: The log with transaction hash: HexBytes('0xf4126fa339ba334edd6fada033220b0163f169296d9899ede5f2106c7d8e8366') and logIndex: 44 encountered the following error during processing: MismatchedABI(The event signature did not match the provided ABI). It has been discarded.\n",
      "  warnings.warn(\n",
      "f:\\Environments\\.conda\\envs\\truffle\\Lib\\site-packages\\web3\\contract\\base_contract.py:185: UserWarning: The log with transaction hash: HexBytes('0xf4126fa339ba334edd6fada033220b0163f169296d9899ede5f2106c7d8e8366') and logIndex: 45 encountered the following error during processing: MismatchedABI(The event signature did not match the provided ABI). It has been discarded.\n",
      "  warnings.warn(\n",
      "f:\\Environments\\.conda\\envs\\truffle\\Lib\\site-packages\\web3\\contract\\base_contract.py:185: UserWarning: The log with transaction hash: HexBytes('0xf4126fa339ba334edd6fada033220b0163f169296d9899ede5f2106c7d8e8366') and logIndex: 47 encountered the following error during processing: MismatchedABI(The event signature did not match the provided ABI). It has been discarded.\n",
      "  warnings.warn(\n"
     ]
    },
    {
     "name": "stdout",
     "output_type": "stream",
     "text": [
      "Completed writing to contract\n",
      "nft 3 created by 0x43ADAc5516f8E2D3d2BD31276BeC343547ee6612 in collection 1\n",
      "NFT ID: 3\n",
      "Arguments for MankiBean:  [2, 'MankiBean', 6]\n",
      "Successfully connected to the node at https://base-sepolia-rpc.publicnode.com\n"
     ]
    },
    {
     "name": "stderr",
     "output_type": "stream",
     "text": [
      "f:\\Environments\\.conda\\envs\\truffle\\Lib\\site-packages\\web3\\contract\\base_contract.py:185: UserWarning: The log with transaction hash: HexBytes('0x4c7d700bf412d265b475ed07101dcf7ce1654ab06779f365c6979a92e31460db') and logIndex: 18 encountered the following error during processing: MismatchedABI(The event signature did not match the provided ABI). It has been discarded.\n",
      "  warnings.warn(\n",
      "f:\\Environments\\.conda\\envs\\truffle\\Lib\\site-packages\\web3\\contract\\base_contract.py:185: UserWarning: The log with transaction hash: HexBytes('0x4c7d700bf412d265b475ed07101dcf7ce1654ab06779f365c6979a92e31460db') and logIndex: 19 encountered the following error during processing: MismatchedABI(The event signature did not match the provided ABI). It has been discarded.\n",
      "  warnings.warn(\n",
      "f:\\Environments\\.conda\\envs\\truffle\\Lib\\site-packages\\web3\\contract\\base_contract.py:185: UserWarning: The log with transaction hash: HexBytes('0x4c7d700bf412d265b475ed07101dcf7ce1654ab06779f365c6979a92e31460db') and logIndex: 21 encountered the following error during processing: MismatchedABI(The event signature did not match the provided ABI). It has been discarded.\n",
      "  warnings.warn(\n"
     ]
    },
    {
     "name": "stdout",
     "output_type": "stream",
     "text": [
      "Completed writing to contract\n",
      "nft 1 created by 0x43ADAc5516f8E2D3d2BD31276BeC343547ee6612 in collection 2\n",
      "NFT ID: 1\n",
      "Arguments for based punk:  [2, 'based punk', 6]\n",
      "Successfully connected to the node at https://base-sepolia-rpc.publicnode.com\n"
     ]
    },
    {
     "name": "stderr",
     "output_type": "stream",
     "text": [
      "f:\\Environments\\.conda\\envs\\truffle\\Lib\\site-packages\\web3\\contract\\base_contract.py:185: UserWarning: The log with transaction hash: HexBytes('0x37168daae9697112e4d9f66540ef2619943ad464450a311ebba8698d94184d8b') and logIndex: 12 encountered the following error during processing: MismatchedABI(The event signature did not match the provided ABI). It has been discarded.\n",
      "  warnings.warn(\n",
      "f:\\Environments\\.conda\\envs\\truffle\\Lib\\site-packages\\web3\\contract\\base_contract.py:185: UserWarning: The log with transaction hash: HexBytes('0x37168daae9697112e4d9f66540ef2619943ad464450a311ebba8698d94184d8b') and logIndex: 13 encountered the following error during processing: MismatchedABI(The event signature did not match the provided ABI). It has been discarded.\n",
      "  warnings.warn(\n",
      "f:\\Environments\\.conda\\envs\\truffle\\Lib\\site-packages\\web3\\contract\\base_contract.py:185: UserWarning: The log with transaction hash: HexBytes('0x37168daae9697112e4d9f66540ef2619943ad464450a311ebba8698d94184d8b') and logIndex: 15 encountered the following error during processing: MismatchedABI(The event signature did not match the provided ABI). It has been discarded.\n",
      "  warnings.warn(\n"
     ]
    },
    {
     "name": "stdout",
     "output_type": "stream",
     "text": [
      "Completed writing to contract\n",
      "nft 2 created by 0x43ADAc5516f8E2D3d2BD31276BeC343547ee6612 in collection 2\n",
      "NFT ID: 2\n",
      "Arguments for Dark Llama:  [1, 'Dark Llama', 6]\n",
      "Successfully connected to the node at https://base-sepolia-rpc.publicnode.com\n"
     ]
    },
    {
     "name": "stderr",
     "output_type": "stream",
     "text": [
      "f:\\Environments\\.conda\\envs\\truffle\\Lib\\site-packages\\web3\\contract\\base_contract.py:185: UserWarning: The log with transaction hash: HexBytes('0x706411a009036ca816e05692a1bde5a20b2ba7c70b0b94ac96f46603f9fe4294') and logIndex: 22 encountered the following error during processing: MismatchedABI(The event signature did not match the provided ABI). It has been discarded.\n",
      "  warnings.warn(\n",
      "f:\\Environments\\.conda\\envs\\truffle\\Lib\\site-packages\\web3\\contract\\base_contract.py:185: UserWarning: The log with transaction hash: HexBytes('0x706411a009036ca816e05692a1bde5a20b2ba7c70b0b94ac96f46603f9fe4294') and logIndex: 23 encountered the following error during processing: MismatchedABI(The event signature did not match the provided ABI). It has been discarded.\n",
      "  warnings.warn(\n",
      "f:\\Environments\\.conda\\envs\\truffle\\Lib\\site-packages\\web3\\contract\\base_contract.py:185: UserWarning: The log with transaction hash: HexBytes('0x706411a009036ca816e05692a1bde5a20b2ba7c70b0b94ac96f46603f9fe4294') and logIndex: 25 encountered the following error during processing: MismatchedABI(The event signature did not match the provided ABI). It has been discarded.\n",
      "  warnings.warn(\n"
     ]
    },
    {
     "name": "stdout",
     "output_type": "stream",
     "text": [
      "Completed writing to contract\n",
      "nft 4 created by 0x43ADAc5516f8E2D3d2BD31276BeC343547ee6612 in collection 1\n",
      "NFT ID: 4\n",
      "Arguments for Tron Cells:  [1, 'Tron Cells', 6]\n",
      "Successfully connected to the node at https://base-sepolia-rpc.publicnode.com\n"
     ]
    },
    {
     "name": "stderr",
     "output_type": "stream",
     "text": [
      "f:\\Environments\\.conda\\envs\\truffle\\Lib\\site-packages\\web3\\contract\\base_contract.py:185: UserWarning: The log with transaction hash: HexBytes('0x17756c4f7101bda67e6e359920c6f385a9abf894583cae2dca5fec33a0fe3385') and logIndex: 28 encountered the following error during processing: MismatchedABI(The event signature did not match the provided ABI). It has been discarded.\n",
      "  warnings.warn(\n",
      "f:\\Environments\\.conda\\envs\\truffle\\Lib\\site-packages\\web3\\contract\\base_contract.py:185: UserWarning: The log with transaction hash: HexBytes('0x17756c4f7101bda67e6e359920c6f385a9abf894583cae2dca5fec33a0fe3385') and logIndex: 29 encountered the following error during processing: MismatchedABI(The event signature did not match the provided ABI). It has been discarded.\n",
      "  warnings.warn(\n",
      "f:\\Environments\\.conda\\envs\\truffle\\Lib\\site-packages\\web3\\contract\\base_contract.py:185: UserWarning: The log with transaction hash: HexBytes('0x17756c4f7101bda67e6e359920c6f385a9abf894583cae2dca5fec33a0fe3385') and logIndex: 31 encountered the following error during processing: MismatchedABI(The event signature did not match the provided ABI). It has been discarded.\n",
      "  warnings.warn(\n"
     ]
    },
    {
     "name": "stdout",
     "output_type": "stream",
     "text": [
      "Completed writing to contract\n",
      "nft 5 created by 0x43ADAc5516f8E2D3d2BD31276BeC343547ee6612 in collection 1\n",
      "NFT ID: 5\n",
      "Arguments for Corrupted Cyborg:  [1, 'Corrupted Cyborg', 6]\n",
      "Successfully connected to the node at https://base-sepolia-rpc.publicnode.com\n"
     ]
    },
    {
     "name": "stderr",
     "output_type": "stream",
     "text": [
      "f:\\Environments\\.conda\\envs\\truffle\\Lib\\site-packages\\web3\\contract\\base_contract.py:185: UserWarning: The log with transaction hash: HexBytes('0xc97b8b9035c062cfffa05bc023382652290bb1cc21726ce59d1218a33df0d54a') and logIndex: 1 encountered the following error during processing: MismatchedABI(The event signature did not match the provided ABI). It has been discarded.\n",
      "  warnings.warn(\n",
      "f:\\Environments\\.conda\\envs\\truffle\\Lib\\site-packages\\web3\\contract\\base_contract.py:185: UserWarning: The log with transaction hash: HexBytes('0xc97b8b9035c062cfffa05bc023382652290bb1cc21726ce59d1218a33df0d54a') and logIndex: 2 encountered the following error during processing: MismatchedABI(The event signature did not match the provided ABI). It has been discarded.\n",
      "  warnings.warn(\n",
      "f:\\Environments\\.conda\\envs\\truffle\\Lib\\site-packages\\web3\\contract\\base_contract.py:185: UserWarning: The log with transaction hash: HexBytes('0xc97b8b9035c062cfffa05bc023382652290bb1cc21726ce59d1218a33df0d54a') and logIndex: 4 encountered the following error during processing: MismatchedABI(The event signature did not match the provided ABI). It has been discarded.\n",
      "  warnings.warn(\n"
     ]
    },
    {
     "name": "stdout",
     "output_type": "stream",
     "text": [
      "Completed writing to contract\n",
      "nft 6 created by 0x43ADAc5516f8E2D3d2BD31276BeC343547ee6612 in collection 1\n",
      "NFT ID: 6\n",
      "Arguments for Skynet:  [1, 'Skynet', 6]\n",
      "Successfully connected to the node at https://base-sepolia-rpc.publicnode.com\n",
      "Completed writing to contract\n",
      "nft 7 created by 0x43ADAc5516f8E2D3d2BD31276BeC343547ee6612 in collection 1\n",
      "NFT ID: 7\n"
     ]
    },
    {
     "name": "stderr",
     "output_type": "stream",
     "text": [
      "f:\\Environments\\.conda\\envs\\truffle\\Lib\\site-packages\\web3\\contract\\base_contract.py:185: UserWarning: The log with transaction hash: HexBytes('0xe54b3fe52174ad4c08f566f07469eb5945ebc563172b0618219c01f18febd197') and logIndex: 39 encountered the following error during processing: MismatchedABI(The event signature did not match the provided ABI). It has been discarded.\n",
      "  warnings.warn(\n",
      "f:\\Environments\\.conda\\envs\\truffle\\Lib\\site-packages\\web3\\contract\\base_contract.py:185: UserWarning: The log with transaction hash: HexBytes('0xe54b3fe52174ad4c08f566f07469eb5945ebc563172b0618219c01f18febd197') and logIndex: 40 encountered the following error during processing: MismatchedABI(The event signature did not match the provided ABI). It has been discarded.\n",
      "  warnings.warn(\n",
      "f:\\Environments\\.conda\\envs\\truffle\\Lib\\site-packages\\web3\\contract\\base_contract.py:185: UserWarning: The log with transaction hash: HexBytes('0xe54b3fe52174ad4c08f566f07469eb5945ebc563172b0618219c01f18febd197') and logIndex: 42 encountered the following error during processing: MismatchedABI(The event signature did not match the provided ABI). It has been discarded.\n",
      "  warnings.warn(\n"
     ]
    }
   ],
   "source": [
    "for nft in all_nft[\"nfts\"]:\n",
    "    \n",
    "    confirmation = input (f\"Create NFT {nft['name']} ? (y/n) : \")\n",
    "    \n",
    "    if confirmation.lower() != \"y\":\n",
    "        continue\n",
    "    \n",
    "    nft_id = create_NFT(nft)\n",
    "    nft['id'] = nft_id\n",
    "    print(f\"NFT ID: {nft_id}\")"
   ]
  },
  {
   "cell_type": "code",
   "execution_count": 26,
   "metadata": {},
   "outputs": [],
   "source": [
    "with open('./data/all_nft_with_id.json',\"w\") as f:\n",
    "    json.dump(all_nft, f)"
   ]
  },
  {
   "cell_type": "code",
   "execution_count": 27,
   "metadata": {},
   "outputs": [],
   "source": [
    "with open('./data/all_nft_with_id.json') as f:\n",
    "    all_nft = json.load(f)"
   ]
  },
  {
   "cell_type": "code",
   "execution_count": 28,
   "metadata": {},
   "outputs": [
    {
     "data": {
      "text/plain": [
       "{'nfts': [{'id': 1,\n",
       "   'name': 'Cognitive Llama',\n",
       "   'collection': 'Neural Mint Hub',\n",
       "   'collection_id': 1,\n",
       "   'image': 'https://base.backend.neuranft.com/image/temp11.jpg',\n",
       "   'model': 'Llama 3.1',\n",
       "   'attributes': [{'trait_type': 'Model', 'value': 'Llama 3.1'},\n",
       "    {'trait_type': 'Context Window', 'value': '4096 tokens'},\n",
       "    {'trait_type': 'Total Access', 'value': '1'},\n",
       "    {'trait_type': 'Collection', 'value': 'Neural Mint Hub'}],\n",
       "   'accessList': [{'address': 'TLTtQz2Njap4nPAQGPGJn5EEksoM1uw4Qr',\n",
       "     'accessLevel': 6},\n",
       "    {'address': 'TThwHjyzx2E1TNN4GdSoaHeCRJVi3EuKS7', 'accessLevel': 2},\n",
       "    {'address': 'TJfqnAUwX2ViGTP1J81itXWhuJhUYa8RwK', 'accessLevel': 2},\n",
       "    {'address': 'TVh65XCYkerBch3WtgY9kwLqrtH64MhiFe', 'accessLevel': 3},\n",
       "    {'address': 'TMVQGm1qAQYVdetCeGRRkTWYYrLXuHK2HC', 'accessLevel': 1}],\n",
       "   'tokenId': '1234',\n",
       "   'tokenStandard': 'ERC-721',\n",
       "   'owner': 'TLTtQz2Njap4nPAQGPGJn5EEksoM1uw4Qr',\n",
       "   'chain': 'Ethereum',\n",
       "   'description': 'Cognitive Llama is an advanced AI-driven bot, utilizing the power of Llama 3.1 with multi-level reasoning and cognition. Part of the Neural Mint Hub collection.',\n",
       "   'creatorAddress': 'TMVQGm1qAQYVdetCeGRRkTWYYrLXuHK2HC',\n",
       "   'ownerAddress': 'TLTtQz2Njap4nPAQGPGJn5EEksoM1uw4Qr',\n",
       "   'numberOfOwners': 1},\n",
       "  {'id': 2,\n",
       "   'name': 'Cyborg Bored Ape',\n",
       "   'collection': 'onchain gaias',\n",
       "   'collection_id': 1,\n",
       "   'image': 'https://base.backend.neuranft.com/image/temp10.jpg',\n",
       "   'model': 'GPT-4',\n",
       "   'attributes': [{'trait_type': 'Model', 'value': 'GPT-4'},\n",
       "    {'trait_type': 'Context Window', 'value': '8192 tokens'},\n",
       "    {'trait_type': 'Total Access', 'value': '1'},\n",
       "    {'trait_type': 'Collection', 'value': 'onchain gaias'}],\n",
       "   'accessList': [{'address': 'TLTtQz2Njap4nPAQGPGJn5EEksoM1uw4Qr',\n",
       "     'accessLevel': 1}],\n",
       "   'tokenId': '5678',\n",
       "   'tokenStandard': 'ERC-721',\n",
       "   'owner': 'TLTtQz2Njap4nPAQGPGJn5EEksoM1uw4Qr',\n",
       "   'chain': 'Ethereum',\n",
       "   'description': 'An AI-generated creation, part of the re:generates collection. This is a unique NFT from the re:generates collection, featuring Llama 3.1 model.',\n",
       "   'creatorAddress': '0x1234...5748',\n",
       "   'ownerAddress': 'TLTtQz2Njap4nPAQGPGJn5EEksoM1uw4Qr',\n",
       "   'numberOfOwners': 1},\n",
       "  {'id': 3,\n",
       "   'name': 'Thinker Primate',\n",
       "   'collection': 'Rebel Monkes',\n",
       "   'collection_id': 1,\n",
       "   'image': 'https://base.backend.neuranft.com/image/temp9.jpg',\n",
       "   'model': 'DALL-E',\n",
       "   'attributes': [{'trait_type': 'Model', 'value': 'DALL-E'},\n",
       "    {'trait_type': 'Context Window', 'value': '2048 tokens'},\n",
       "    {'trait_type': 'Total Access', 'value': '2'},\n",
       "    {'trait_type': 'Collection', 'value': 'Rebel Monkes'}],\n",
       "   'accessList': [{'address': 'TLTtQz2Njap4nPAQGPGJn5EEksoM1uw4Qr',\n",
       "     'accessLevel': 1},\n",
       "    {'address': 'TJfqnAUwX2ViGTP1J81itXWhuJhUYa8RwK', 'accessLevel': 2}],\n",
       "   'tokenId': '9101',\n",
       "   'tokenStandard': 'ERC-721',\n",
       "   'owner': 'TLTtQz2Njap4nPAQGPGJn5EEksoM1uw4Qr',\n",
       "   'chain': 'Ethereum',\n",
       "   'description': 'A rebellious monkey character from the Rebel Monkes collection, created by DALL-E.',\n",
       "   'creatorAddress': '0x5678...1234',\n",
       "   'ownerAddress': 'TLTtQz2Njap4nPAQGPGJn5EEksoM1uw4Qr',\n",
       "   'numberOfOwners': 2},\n",
       "  {'id': 1,\n",
       "   'name': 'MankiBean',\n",
       "   'collection': 'MankiBeanz',\n",
       "   'collection_id': 2,\n",
       "   'image': 'https://picsum.photos/200',\n",
       "   'model': 'Stable Diffusion',\n",
       "   'attributes': [{'trait_type': 'Model', 'value': 'Stable Diffusion'},\n",
       "    {'trait_type': 'Context Window', 'value': '4096 tokens'},\n",
       "    {'trait_type': 'Total Access', 'value': '1'},\n",
       "    {'trait_type': 'Collection', 'value': 'MankiBeanz'}],\n",
       "   'accessList': [{'address': 'TLTtQz2Njap4nPAQGPGJn5EEksoM1uw4Qr',\n",
       "     'accessLevel': 1}],\n",
       "   'tokenId': '1121',\n",
       "   'tokenStandard': 'ERC-721',\n",
       "   'owner': 'TLTtQz2Njap4nPAQGPGJn5EEksoM1uw4Qr',\n",
       "   'chain': 'Ethereum',\n",
       "   'description': 'A quirky bean-shaped monkey character from the MankiBeanz collection, generated using Stable Diffusion.',\n",
       "   'creatorAddress': 'TLTtQz2Njap4nPAQGPGJn5EEksoM1uw4Qr',\n",
       "   'ownerAddress': 'TLTtQz2Njap4nPAQGPGJn5EEksoM1uw4Qr',\n",
       "   'numberOfOwners': 1},\n",
       "  {'id': 2,\n",
       "   'name': 'based punk',\n",
       "   'collection': 'based punks',\n",
       "   'collection_id': 2,\n",
       "   'image': 'https://picsum.photos/200',\n",
       "   'model': 'Midjourney',\n",
       "   'attributes': [{'trait_type': 'Model', 'value': 'Midjourney'},\n",
       "    {'trait_type': 'Context Window', 'value': '2048 tokens'},\n",
       "    {'trait_type': 'Total Access', 'value': '3'},\n",
       "    {'trait_type': 'Collection', 'value': 'based punks'}],\n",
       "   'accessList': [{'address': 'TLTtQz2Njap4nPAQGPGJn5EEksoM1uw4Qr',\n",
       "     'accessLevel': 6},\n",
       "    {'address': 'TJfqnAUwX2ViGTP1J81itXWhuJhUYa8RwK', 'accessLevel': 2}],\n",
       "   'tokenId': '3141',\n",
       "   'tokenStandard': 'ERC-721',\n",
       "   'owner': 'TLTtQz2Njap4nPAQGPGJn5EEksoM1uw4Qr',\n",
       "   'chain': 'Ethereum',\n",
       "   'description': 'A punk-inspired NFT from the based punks collection, created with Midjourney.',\n",
       "   'creatorAddress': '0x2468...1357',\n",
       "   'ownerAddress': 'TLTtQz2Njap4nPAQGPGJn5EEksoM1uw4Qr',\n",
       "   'numberOfOwners': 3},\n",
       "  {'id': 4,\n",
       "   'name': 'Dark Llama',\n",
       "   'collection': 're:generates',\n",
       "   'collection_id': 1,\n",
       "   'image': 'https://base.backend.neuranft.com/image/temp8.jpg',\n",
       "   'model': 'Llama 3.1',\n",
       "   'attributes': [{'trait_type': 'Model', 'value': 'Llama 3.1'},\n",
       "    {'trait_type': 'Context Window', 'value': '4096 tokens'},\n",
       "    {'trait_type': 'Total Access', 'value': '1'},\n",
       "    {'trait_type': 'Collection', 'value': 're:generates'}],\n",
       "   'accessList': [{'address': 'TLTtQz2Njap4nPAQGPGJn5EEksoM1uw4Qr',\n",
       "     'accessLevel': 1}],\n",
       "   'tokenId': '1234',\n",
       "   'tokenStandard': 'ERC-721',\n",
       "   'owner': 'TLTtQz2Njap4nPAQGPGJn5EEksoM1uw4Qr',\n",
       "   'chain': 'Ethereum',\n",
       "   'description': 'An AI-generated creation, part of the re:generates collection. This is a unique NFT from the re:generates collection, featuring Llama 3.1 model.',\n",
       "   'creatorAddress': 'TThwHjyzx2E1TNN4GdSoaHeCRJVi3EuKS7',\n",
       "   'ownerAddress': 'TLTtQz2Njap4nPAQGPGJn5EEksoM1uw4Qr',\n",
       "   'numberOfOwners': 1},\n",
       "  {'id': 5,\n",
       "   'name': 'Tron Cells',\n",
       "   'collection': 're:generates',\n",
       "   'image': 'https://base.backend.neuranft.com/image/temp12.png',\n",
       "   'collection_id': 1,\n",
       "   'model': 'Llama 3.1',\n",
       "   'attributes': [{'trait_type': 'Model', 'value': 'Llama 3.1'},\n",
       "    {'trait_type': 'Context Window', 'value': '4096 tokens'},\n",
       "    {'trait_type': 'Total Access', 'value': '1'},\n",
       "    {'trait_type': 'Collection', 'value': 're:generates'}],\n",
       "   'accessList': [{'address': 'TLTtQz2Njap4nPAQGPGJn5EEksoM1uw4Qr',\n",
       "     'accessLevel': 1}],\n",
       "   'tokenId': '1234',\n",
       "   'tokenStandard': 'ERC-721',\n",
       "   'owner': 'TLTtQz2Njap4nPAQGPGJn5EEksoM1uw4Qr',\n",
       "   'chain': 'Ethereum',\n",
       "   'description': 'An AI-generated creation, part of the re:generates collection. This is a unique NFT from the re:generates collection, featuring Llama 3.1 model.',\n",
       "   'creatorAddress': 'TThwHjyzx2E1TNN4GdSoaHeCRJVi3EuKS7',\n",
       "   'ownerAddress': 'TLTtQz2Njap4nPAQGPGJn5EEksoM1uw4Qr',\n",
       "   'numberOfOwners': 1},\n",
       "  {'id': 6,\n",
       "   'name': 'Corrupted Cyborg',\n",
       "   'collection': 're:generates',\n",
       "   'collection_id': 1,\n",
       "   'image': 'https://base.backend.neuranft.com/image/temp13.png',\n",
       "   'model': 'Llama 3.1',\n",
       "   'attributes': [{'trait_type': 'Model', 'value': 'Llama 3.1'},\n",
       "    {'trait_type': 'Context Window', 'value': '4096 tokens'},\n",
       "    {'trait_type': 'Total Access', 'value': '1'},\n",
       "    {'trait_type': 'Collection', 'value': 're:generates'}],\n",
       "   'accessList': [{'address': 'TLTtQz2Njap4nPAQGPGJn5EEksoM1uw4Qr',\n",
       "     'accessLevel': 1}],\n",
       "   'tokenId': '1234',\n",
       "   'tokenStandard': 'ERC-721',\n",
       "   'owner': 'TLTtQz2Njap4nPAQGPGJn5EEksoM1uw4Qr',\n",
       "   'chain': 'Ethereum',\n",
       "   'description': 'An AI-generated creation, part of the re:generates collection. This is a unique NFT from the re:generates collection, featuring Llama 3.1 model.',\n",
       "   'creatorAddress': 'TThwHjyzx2E1TNN4GdSoaHeCRJVi3EuKS7',\n",
       "   'ownerAddress': 'TLTtQz2Njap4nPAQGPGJn5EEksoM1uw4Qr',\n",
       "   'numberOfOwners': 1},\n",
       "  {'id': 7,\n",
       "   'name': 'Skynet',\n",
       "   'collection': 're:generates',\n",
       "   'collection_id': 1,\n",
       "   'image': 'https://base.backend.neuranft.com/image/temp14.png',\n",
       "   'model': 'Llama 3.1',\n",
       "   'attributes': [{'trait_type': 'Model', 'value': 'Llama 3.1'},\n",
       "    {'trait_type': 'Context Window', 'value': '4096 tokens'},\n",
       "    {'trait_type': 'Total Access', 'value': '1'},\n",
       "    {'trait_type': 'Collection', 'value': 're:generates'}],\n",
       "   'accessList': [{'address': 'TLTtQz2Njap4nPAQGPGJn5EEksoM1uw4Qr',\n",
       "     'accessLevel': 1}],\n",
       "   'tokenId': '1234',\n",
       "   'tokenStandard': 'ERC-721',\n",
       "   'owner': 'TLTtQz2Njap4nPAQGPGJn5EEksoM1uw4Qr',\n",
       "   'chain': 'Ethereum',\n",
       "   'description': 'An AI-generated creation, part of the re:generates collection. This is a unique NFT from the re:generates collection, featuring Llama 3.1 model.',\n",
       "   'creatorAddress': 'TThwHjyzx2E1TNN4GdSoaHeCRJVi3EuKS7',\n",
       "   'ownerAddress': 'TLTtQz2Njap4nPAQGPGJn5EEksoM1uw4Qr',\n",
       "   'numberOfOwners': 1}]}"
      ]
     },
     "execution_count": 28,
     "metadata": {},
     "output_type": "execute_result"
    }
   ],
   "source": [
    "all_nft"
   ]
  },
  {
   "cell_type": "code",
   "execution_count": 29,
   "metadata": {},
   "outputs": [
    {
     "name": "stdout",
     "output_type": "stream",
     "text": [
      "Successfully connected to the node at https://base-sepolia-rpc.publicnode.com\n",
      "metadata for nft 1 created in collection 1\n",
      "Metadata created for nft 1\n",
      "Successfully connected to the node at https://base-sepolia-rpc.publicnode.com\n",
      "metadata for nft 2 created in collection 1\n",
      "Metadata created for nft 2\n",
      "Successfully connected to the node at https://base-sepolia-rpc.publicnode.com\n",
      "metadata for nft 3 created in collection 1\n",
      "Metadata created for nft 3\n",
      "Successfully connected to the node at https://base-sepolia-rpc.publicnode.com\n",
      "metadata for nft 1 created in collection 2\n",
      "Metadata created for nft 1\n",
      "Successfully connected to the node at https://base-sepolia-rpc.publicnode.com\n",
      "metadata for nft 2 created in collection 2\n",
      "Metadata created for nft 2\n",
      "Successfully connected to the node at https://base-sepolia-rpc.publicnode.com\n",
      "metadata for nft 4 created in collection 1\n",
      "Metadata created for nft 4\n",
      "Successfully connected to the node at https://base-sepolia-rpc.publicnode.com\n",
      "metadata for nft 5 created in collection 1\n",
      "Metadata created for nft 5\n",
      "Successfully connected to the node at https://base-sepolia-rpc.publicnode.com\n",
      "metadata for nft 6 created in collection 1\n",
      "Metadata created for nft 6\n",
      "Successfully connected to the node at https://base-sepolia-rpc.publicnode.com\n",
      "metadata for nft 7 created in collection 1\n",
      "Metadata created for nft 7\n"
     ]
    }
   ],
   "source": [
    "for nft in all_nft[\"nfts\"]:\n",
    "    \n",
    "    confirmation = input (f\"Create NFT Metadata {nft['name']} with id {nft['id']} ? (y/n) : \")\n",
    "    if confirmation.lower() != \"y\":\n",
    "        continue\n",
    "    nft_id = create_metadata(nft)\n",
    "    print (f\"Metadata created for nft {nft_id}\")"
   ]
  },
  {
   "cell_type": "code",
   "execution_count": 30,
   "metadata": {},
   "outputs": [
    {
     "name": "stdout",
     "output_type": "stream",
     "text": [
      "Providing access for nft :  Cognitive Llama\n",
      "Successfully connected to the node at https://base-sepolia-rpc.publicnode.com\n"
     ]
    },
    {
     "name": "stderr",
     "output_type": "stream",
     "text": [
      "f:\\Environments\\.conda\\envs\\truffle\\Lib\\site-packages\\web3\\contract\\base_contract.py:185: UserWarning: The log with transaction hash: HexBytes('0xe1871ccca87d4ac378ff32fc05b2c107bcb8de869c88bdf4e62880884ed39f63') and logIndex: 43 encountered the following error during processing: MismatchedABI(The event signature did not match the provided ABI). It has been discarded.\n",
      "  warnings.warn(\n"
     ]
    },
    {
     "name": "stdout",
     "output_type": "stream",
     "text": [
      "\t\t Access granted to user :  0xcb6d7cDCa0563575b6b734FA4f3e9d6ac7542912  with access level :  6\n",
      "Successfully connected to the node at https://base-sepolia-rpc.publicnode.com\n"
     ]
    },
    {
     "name": "stderr",
     "output_type": "stream",
     "text": [
      "f:\\Environments\\.conda\\envs\\truffle\\Lib\\site-packages\\web3\\contract\\base_contract.py:185: UserWarning: The log with transaction hash: HexBytes('0x77aed38dcdea586e37f0aa6bfa8de3d0ede249054a8ada9074b47c719d0c7385') and logIndex: 22 encountered the following error during processing: MismatchedABI(The event signature did not match the provided ABI). It has been discarded.\n",
      "  warnings.warn(\n"
     ]
    },
    {
     "name": "stdout",
     "output_type": "stream",
     "text": [
      "\t\t Access granted to user :  0x3006b0495B8dC916b9b48d1fa90f843fD68f35a2  with access level :  2\n",
      "Successfully connected to the node at https://base-sepolia-rpc.publicnode.com\n"
     ]
    },
    {
     "name": "stderr",
     "output_type": "stream",
     "text": [
      "f:\\Environments\\.conda\\envs\\truffle\\Lib\\site-packages\\web3\\contract\\base_contract.py:185: UserWarning: The log with transaction hash: HexBytes('0x812eb2f1492b6d9c3c2f3a73e609f78e2fc9aed7f1ef056ae5a78aefb6a5ba32') and logIndex: 10 encountered the following error during processing: MismatchedABI(The event signature did not match the provided ABI). It has been discarded.\n",
      "  warnings.warn(\n"
     ]
    },
    {
     "name": "stdout",
     "output_type": "stream",
     "text": [
      "\t\t Access granted to user :  0x08aebe3C3A8B568E8071C567f7D81fcD64af47d5  with access level :  2\n",
      "Successfully connected to the node at https://base-sepolia-rpc.publicnode.com\n"
     ]
    },
    {
     "name": "stderr",
     "output_type": "stream",
     "text": [
      "f:\\Environments\\.conda\\envs\\truffle\\Lib\\site-packages\\web3\\contract\\base_contract.py:185: UserWarning: The log with transaction hash: HexBytes('0x10ca8160db04ca451587f28a4177ff8e09c5be7bb920474598dadb12401ef2b9') and logIndex: 14 encountered the following error during processing: MismatchedABI(The event signature did not match the provided ABI). It has been discarded.\n",
      "  warnings.warn(\n"
     ]
    },
    {
     "name": "stdout",
     "output_type": "stream",
     "text": [
      "\t\t Access granted to user :  0x05D5724EDB06eCeC911C2069043C0Cb6b49c09b1  with access level :  3\n",
      "Successfully connected to the node at https://base-sepolia-rpc.publicnode.com\n"
     ]
    },
    {
     "name": "stderr",
     "output_type": "stream",
     "text": [
      "f:\\Environments\\.conda\\envs\\truffle\\Lib\\site-packages\\web3\\contract\\base_contract.py:185: UserWarning: The log with transaction hash: HexBytes('0x9055033e395d93b144ec05018a1870395a64a4b5c76bf3caa7bba9b43eeb56c2') and logIndex: 11 encountered the following error during processing: MismatchedABI(The event signature did not match the provided ABI). It has been discarded.\n",
      "  warnings.warn(\n"
     ]
    },
    {
     "name": "stdout",
     "output_type": "stream",
     "text": [
      "\t\t Access granted to user :  0x10a655f5754642A58F6e2cc24136081020d21c26  with access level :  1\n",
      "Access provided for nft None\n",
      "Providing access for nft :  Cyborg Bored Ape\n",
      "Successfully connected to the node at https://base-sepolia-rpc.publicnode.com\n"
     ]
    },
    {
     "name": "stderr",
     "output_type": "stream",
     "text": [
      "f:\\Environments\\.conda\\envs\\truffle\\Lib\\site-packages\\web3\\contract\\base_contract.py:185: UserWarning: The log with transaction hash: HexBytes('0xbfb863cea116f01a1a0cfe6f3bf4132ae87a1b3ebed376d974c13b34c4c47cc8') and logIndex: 17 encountered the following error during processing: MismatchedABI(The event signature did not match the provided ABI). It has been discarded.\n",
      "  warnings.warn(\n"
     ]
    },
    {
     "name": "stdout",
     "output_type": "stream",
     "text": [
      "\t\t Access granted to user :  0xcb6d7cDCa0563575b6b734FA4f3e9d6ac7542912  with access level :  1\n",
      "Access provided for nft None\n",
      "Providing access for nft :  Thinker Primate\n",
      "Successfully connected to the node at https://base-sepolia-rpc.publicnode.com\n"
     ]
    },
    {
     "name": "stderr",
     "output_type": "stream",
     "text": [
      "f:\\Environments\\.conda\\envs\\truffle\\Lib\\site-packages\\web3\\contract\\base_contract.py:185: UserWarning: The log with transaction hash: HexBytes('0xc05bbea94095b905786fa7f329e23eb4a184335990be64340a75d159e453d5ec') and logIndex: 34 encountered the following error during processing: MismatchedABI(The event signature did not match the provided ABI). It has been discarded.\n",
      "  warnings.warn(\n"
     ]
    },
    {
     "name": "stdout",
     "output_type": "stream",
     "text": [
      "\t\t Access granted to user :  0xcb6d7cDCa0563575b6b734FA4f3e9d6ac7542912  with access level :  1\n",
      "Successfully connected to the node at https://base-sepolia-rpc.publicnode.com\n"
     ]
    },
    {
     "name": "stderr",
     "output_type": "stream",
     "text": [
      "f:\\Environments\\.conda\\envs\\truffle\\Lib\\site-packages\\web3\\contract\\base_contract.py:185: UserWarning: The log with transaction hash: HexBytes('0x4bc2042444fe78349ae7efd55518d26a109d8fd39ff8957da6a48a6c5ad5969f') and logIndex: 22 encountered the following error during processing: MismatchedABI(The event signature did not match the provided ABI). It has been discarded.\n",
      "  warnings.warn(\n"
     ]
    },
    {
     "name": "stdout",
     "output_type": "stream",
     "text": [
      "\t\t Access granted to user :  0x3006b0495B8dC916b9b48d1fa90f843fD68f35a2  with access level :  2\n",
      "Access provided for nft None\n",
      "Providing access for nft :  MankiBean\n",
      "Successfully connected to the node at https://base-sepolia-rpc.publicnode.com\n"
     ]
    },
    {
     "name": "stderr",
     "output_type": "stream",
     "text": [
      "f:\\Environments\\.conda\\envs\\truffle\\Lib\\site-packages\\web3\\contract\\base_contract.py:185: UserWarning: The log with transaction hash: HexBytes('0xb0fa0fb35b8cef2b8085bd44a8590744701d0d4c861d7d8ec27e5a2feab1a717') and logIndex: 29 encountered the following error during processing: MismatchedABI(The event signature did not match the provided ABI). It has been discarded.\n",
      "  warnings.warn(\n"
     ]
    },
    {
     "name": "stdout",
     "output_type": "stream",
     "text": [
      "\t\t Access granted to user :  0xcb6d7cDCa0563575b6b734FA4f3e9d6ac7542912  with access level :  1\n",
      "Access provided for nft None\n",
      "Providing access for nft :  based punk\n",
      "Successfully connected to the node at https://base-sepolia-rpc.publicnode.com\n"
     ]
    },
    {
     "name": "stderr",
     "output_type": "stream",
     "text": [
      "f:\\Environments\\.conda\\envs\\truffle\\Lib\\site-packages\\web3\\contract\\base_contract.py:185: UserWarning: The log with transaction hash: HexBytes('0x5ad128bc8946545629639b550f712782b4b27768b5adaf97a8bed181a6436b14') and logIndex: 7 encountered the following error during processing: MismatchedABI(The event signature did not match the provided ABI). It has been discarded.\n",
      "  warnings.warn(\n"
     ]
    },
    {
     "name": "stdout",
     "output_type": "stream",
     "text": [
      "\t\t Access granted to user :  0xcb6d7cDCa0563575b6b734FA4f3e9d6ac7542912  with access level :  6\n",
      "Successfully connected to the node at https://base-sepolia-rpc.publicnode.com\n"
     ]
    },
    {
     "name": "stderr",
     "output_type": "stream",
     "text": [
      "f:\\Environments\\.conda\\envs\\truffle\\Lib\\site-packages\\web3\\contract\\base_contract.py:185: UserWarning: The log with transaction hash: HexBytes('0x97a09f51e782f7fd0700b0e0793d5b94b845f61f56729a62d4d940a3e33bd714') and logIndex: 5 encountered the following error during processing: MismatchedABI(The event signature did not match the provided ABI). It has been discarded.\n",
      "  warnings.warn(\n"
     ]
    },
    {
     "name": "stdout",
     "output_type": "stream",
     "text": [
      "\t\t Access granted to user :  0x3006b0495B8dC916b9b48d1fa90f843fD68f35a2  with access level :  2\n",
      "Access provided for nft None\n",
      "Providing access for nft :  Dark Llama\n",
      "Successfully connected to the node at https://base-sepolia-rpc.publicnode.com\n"
     ]
    },
    {
     "name": "stderr",
     "output_type": "stream",
     "text": [
      "f:\\Environments\\.conda\\envs\\truffle\\Lib\\site-packages\\web3\\contract\\base_contract.py:185: UserWarning: The log with transaction hash: HexBytes('0xaae2812de861137225247f2d9b05351a5914ccca2068f1f230e972e40e69c453') and logIndex: 12 encountered the following error during processing: MismatchedABI(The event signature did not match the provided ABI). It has been discarded.\n",
      "  warnings.warn(\n"
     ]
    },
    {
     "name": "stdout",
     "output_type": "stream",
     "text": [
      "\t\t Access granted to user :  0xcb6d7cDCa0563575b6b734FA4f3e9d6ac7542912  with access level :  1\n",
      "Access provided for nft None\n",
      "Providing access for nft :  Tron Cells\n",
      "Successfully connected to the node at https://base-sepolia-rpc.publicnode.com\n"
     ]
    },
    {
     "name": "stderr",
     "output_type": "stream",
     "text": [
      "f:\\Environments\\.conda\\envs\\truffle\\Lib\\site-packages\\web3\\contract\\base_contract.py:185: UserWarning: The log with transaction hash: HexBytes('0xbe3d9b234bb480c0a6f2fd2a646febad34328ed70c1e7acc01b0ec1f3cbc09ec') and logIndex: 22 encountered the following error during processing: MismatchedABI(The event signature did not match the provided ABI). It has been discarded.\n",
      "  warnings.warn(\n"
     ]
    },
    {
     "name": "stdout",
     "output_type": "stream",
     "text": [
      "\t\t Access granted to user :  0xcb6d7cDCa0563575b6b734FA4f3e9d6ac7542912  with access level :  1\n",
      "Access provided for nft None\n",
      "Providing access for nft :  Corrupted Cyborg\n",
      "Successfully connected to the node at https://base-sepolia-rpc.publicnode.com\n"
     ]
    },
    {
     "name": "stderr",
     "output_type": "stream",
     "text": [
      "f:\\Environments\\.conda\\envs\\truffle\\Lib\\site-packages\\web3\\contract\\base_contract.py:185: UserWarning: The log with transaction hash: HexBytes('0xf1a84018a23bf0cbc4a45240c0fedbcb8d01169a76544eafa8f78ca022cdf75e') and logIndex: 30 encountered the following error during processing: MismatchedABI(The event signature did not match the provided ABI). It has been discarded.\n",
      "  warnings.warn(\n"
     ]
    },
    {
     "name": "stdout",
     "output_type": "stream",
     "text": [
      "\t\t Access granted to user :  0xcb6d7cDCa0563575b6b734FA4f3e9d6ac7542912  with access level :  1\n",
      "Access provided for nft None\n",
      "Providing access for nft :  Skynet\n",
      "Successfully connected to the node at https://base-sepolia-rpc.publicnode.com\n",
      "\t\t Access granted to user :  0xcb6d7cDCa0563575b6b734FA4f3e9d6ac7542912  with access level :  1\n",
      "Access provided for nft None\n"
     ]
    },
    {
     "name": "stderr",
     "output_type": "stream",
     "text": [
      "f:\\Environments\\.conda\\envs\\truffle\\Lib\\site-packages\\web3\\contract\\base_contract.py:185: UserWarning: The log with transaction hash: HexBytes('0xcf1f4291e0c66863e9e55c1f260cb9ddab2106d580f09abfcb331f447ca1023b') and logIndex: 42 encountered the following error during processing: MismatchedABI(The event signature did not match the provided ABI). It has been discarded.\n",
      "  warnings.warn(\n"
     ]
    }
   ],
   "source": [
    "for nft in all_nft[\"nfts\"]:\n",
    "    \n",
    "    if \"accessList\" not in nft or len(nft[\"accessList\"]) == 0:\n",
    "        continue\n",
    "         \n",
    "    confirmation = input (f\"Provide access for NFT {nft['name']} with id {nft['id']} ? (y/n) : \")\n",
    "    \n",
    "    nft_id = provide_access(nft)\n",
    "    \n",
    "    print (f\"Access provided for nft {nft_id}\")"
   ]
  },
  {
   "cell_type": "code",
   "execution_count": 70,
   "metadata": {},
   "outputs": [
    {
     "name": "stdout",
     "output_type": "stream",
     "text": [
      "Burning NFT...\n",
      "Successfully connected to the node at https://base-sepolia-rpc.publicnode.com\n",
      "Completed writing to contract\n",
      "nft 2 burned in collection 2\n"
     ]
    },
    {
     "name": "stderr",
     "output_type": "stream",
     "text": [
      "f:\\Environments\\.conda\\envs\\truffle\\Lib\\site-packages\\web3\\contract\\base_contract.py:185: UserWarning: The log with transaction hash: HexBytes('0xcbb4557d9d7c8f347d45b44c1a3f2ab0be78f80b618ac0da48af9015eeda5022') and logIndex: 8 encountered the following error during processing: MismatchedABI(The event signature did not match the provided ABI). It has been discarded.\n",
      "  warnings.warn(\n",
      "f:\\Environments\\.conda\\envs\\truffle\\Lib\\site-packages\\web3\\contract\\base_contract.py:185: UserWarning: The log with transaction hash: HexBytes('0xcbb4557d9d7c8f347d45b44c1a3f2ab0be78f80b618ac0da48af9015eeda5022') and logIndex: 9 encountered the following error during processing: MismatchedABI(The event signature did not match the provided ABI). It has been discarded.\n",
      "  warnings.warn(\n",
      "f:\\Environments\\.conda\\envs\\truffle\\Lib\\site-packages\\web3\\contract\\base_contract.py:185: UserWarning: The log with transaction hash: HexBytes('0xcbb4557d9d7c8f347d45b44c1a3f2ab0be78f80b618ac0da48af9015eeda5022') and logIndex: 11 encountered the following error during processing: MismatchedABI(The event signature did not match the provided ABI). It has been discarded.\n",
      "  warnings.warn(\n"
     ]
    }
   ],
   "source": [
    "collection_id_to_burn = int(input(\"Burn NFT: Please enter the collection ID:\"))\n",
    "nft_id_to_burn = int(input(\"Burn NFT: Please enter the NFT ID:\"))\n",
    "confirmations = input(f\"Burn NFT{nft_id_to_burn}, Collection{collection_id_to_burn} : Please type y or Yes for confirmations:\")\n",
    "if confirmations.lower() == \"y\" or confirmations.lower() == \"yes\":\n",
    "    print(\"Burning NFT...\")\n",
    "    burn_NFT(collection_id_to_burn, nft_id_to_burn)\n",
    "else:\n",
    "    print(\"Burn NFT: Operation cancelled\")"
   ]
  },
  {
   "cell_type": "code",
   "execution_count": 31,
   "metadata": {},
   "outputs": [
    {
     "ename": "NameError",
     "evalue": "name 'all_nft_of_a_collection_basic' is not defined",
     "output_type": "error",
     "traceback": [
      "\u001b[1;31m---------------------------------------------------------------------------\u001b[0m",
      "\u001b[1;31mNameError\u001b[0m                                 Traceback (most recent call last)",
      "Cell \u001b[1;32mIn[31], line 1\u001b[0m\n\u001b[1;32m----> 1\u001b[0m \u001b[43mall_nft_of_a_collection_basic\u001b[49m(\u001b[38;5;241m2\u001b[39m)\n",
      "\u001b[1;31mNameError\u001b[0m: name 'all_nft_of_a_collection_basic' is not defined"
     ]
    }
   ],
   "source": [
    "all_nft_of_a_collection_basic(2)"
   ]
  },
  {
   "cell_type": "markdown",
   "metadata": {},
   "source": [
    "## Contract View Functions"
   ]
  },
  {
   "cell_type": "code",
   "execution_count": 32,
   "metadata": {},
   "outputs": [],
   "source": [
    "def all_nft_information_basic(nft_id, collection_id):\n",
    "    try:\n",
    "        nft_info = nft_contract.functions.getNFTInfo(collection_id, nft_id).call()\n",
    "        \n",
    "        return {\n",
    "            \"id\": nft_id,\n",
    "            \"collectionId\": collection_id,\n",
    "            \"levelOfOwnership\": nft_info[0],\n",
    "            \"name\": nft_info[1],\n",
    "            \"creator\": nft_info[2],\n",
    "            \"creationDate\": nft_info[3],\n",
    "            \"owner\": nft_info[4],\n",
    "        }\n",
    "    except Exception as e:\n",
    "        print(f\"Error getting information for NFT ID {nft_id} in collection {collection_id}: {e}\")\n",
    "        return None\n",
    "\n",
    "def all_nft_information(nft_id, collection_id):\n",
    "    try:\n",
    "        nft_info = nft_contract.functions.getNFTInfo(collection_id, nft_id).call()\n",
    "        metadata = nft_metadata_contract.functions.getMetadata(collection_id, nft_id).call()\n",
    "        \n",
    "        return {\n",
    "            \"id\": nft_id,\n",
    "            \"collectionId\": collection_id,\n",
    "            \"levelOfOwnership\": nft_info[0],\n",
    "            \"name\": nft_info[1],\n",
    "            \"creator\": nft_info[2],\n",
    "            \"creationDate\": nft_info[3],\n",
    "            \"owner\": nft_info[4],\n",
    "            \"metadata\": {\n",
    "                \"image\": metadata[0],\n",
    "                \"baseModel\": metadata[1],\n",
    "                \"data\": metadata[2],\n",
    "                \"rag\": metadata[3],\n",
    "                \"fineTuneData\": metadata[4],\n",
    "                \"description\": metadata[5]\n",
    "            }\n",
    "        }\n",
    "    except Exception as e:\n",
    "        print(f\"Error getting information for NFT ID {nft_id} in collection {collection_id}: {e}\")\n",
    "        return None\n",
    "\n",
    "\n",
    "def all_nft_of_a_collection_basic(collection_id):\n",
    "    try:\n",
    "        nft_count = nft_contract.functions.getCollectionNFTCount(collection_id).call()\n",
    "        nft_ids = nft_contract.functions.getCollectionNFTs(collection_id).call()\n",
    "        \n",
    "        nfts = []\n",
    "        for nft_id in nft_ids:\n",
    "            nft_info = all_nft_information_basic(nft_id, collection_id)\n",
    "            if nft_info:\n",
    "                nfts.append(nft_info)\n",
    "        \n",
    "        return nfts\n",
    "    except Exception as e:\n",
    "        print(f\"Error getting NFTs for collection {collection_id}: {e}\")\n",
    "        return None\n",
    "\n",
    "\n",
    "def all_nft_of_a_collection(collection_id):\n",
    "    try:\n",
    "        nft_count = nft_contract.functions.getCollectionNFTCount(collection_id).call()\n",
    "        nft_ids = nft_contract.functions.getCollectionNFTs(collection_id).call()\n",
    "        \n",
    "        nfts = []\n",
    "        for nft_id in nft_ids:\n",
    "            nft_info = all_nft_information(nft_id, collection_id)\n",
    "            if nft_info:\n",
    "                nfts.append(nft_info)\n",
    "        \n",
    "        return nfts\n",
    "    except Exception as e:\n",
    "        print(f\"Error getting NFTs for collection {collection_id}: {e}\")\n",
    "        return None\n",
    "\n",
    "def all_access_levels_of_a_collection_nft(collection_id, nft_id):\n",
    "    try:\n",
    "        users_access = nft_access_control_contract.functions.getAllUsersAccessForNFT(collection_id, nft_id).call()\n",
    "        \n",
    "        access_levels = []\n",
    "        for user_access in users_access:\n",
    "            access_levels.append({\n",
    "                \"user\": user_access[0],\n",
    "                \"accessLevel\": user_access[1]\n",
    "            })\n",
    "        \n",
    "        return access_levels\n",
    "    except Exception as e:\n",
    "        print(f\"Error getting access levels for NFT ID {nft_id} in collection {collection_id}: {e}\")\n",
    "        return None\n",
    "\n",
    "def all_nfts_own_or_have_access_by_user(user_address):\n",
    "    try:\n",
    "        user_access_entries = nft_access_control_contract.functions.getAllAccessForUser(user_address).call()\n",
    "        \n",
    "        nfts = []\n",
    "        for entry in user_access_entries:\n",
    "            collection_id, nft_id, access_level = entry\n",
    "            nft_info = all_nft_information(nft_id, collection_id)\n",
    "            if nft_info:\n",
    "                nft_info['accessLevel'] = access_level\n",
    "                nfts.append(nft_info)\n",
    "        \n",
    "        return nfts\n",
    "    except Exception as e:\n",
    "        print(f\"Error getting NFTs for user {user_address}: {e}\")\n",
    "        return None\n"
   ]
  },
  {
   "cell_type": "code",
   "execution_count": 33,
   "metadata": {},
   "outputs": [
    {
     "data": {
      "text/plain": [
       "{'id': 1,\n",
       " 'collectionId': 1,\n",
       " 'levelOfOwnership': 6,\n",
       " 'name': 'Cognitive Llama',\n",
       " 'creator': '0x43ADAc5516f8E2D3d2BD31276BeC343547ee6612',\n",
       " 'creationDate': 1729638660,\n",
       " 'owner': '0x43ADAc5516f8E2D3d2BD31276BeC343547ee6612',\n",
       " 'metadata': {'image': 'https://base.backend.neuranft.com/image/temp11.jpg',\n",
       "  'baseModel': 'Llama 3.1',\n",
       "  'data': 'https://base.backend.neuranft.com/data',\n",
       "  'rag': 'https://base.backend.neuranft.com/rag',\n",
       "  'fineTuneData': 'https://base.backend.neuranft.com/fineTuneData',\n",
       "  'description': 'Cognitive Llama is an advanced AI-driven bot, utilizing the power of Llama 3.1 with multi-level reasoning and cognition. Part of the Neural Mint Hub collection.'}}"
      ]
     },
     "execution_count": 33,
     "metadata": {},
     "output_type": "execute_result"
    }
   ],
   "source": [
    "all_nft_information(1, 1)"
   ]
  },
  {
   "cell_type": "code",
   "execution_count": 34,
   "metadata": {},
   "outputs": [
    {
     "data": {
      "text/plain": [
       "[{'id': 1,\n",
       "  'collectionId': 1,\n",
       "  'levelOfOwnership': 6,\n",
       "  'name': 'Cognitive Llama',\n",
       "  'creator': '0x43ADAc5516f8E2D3d2BD31276BeC343547ee6612',\n",
       "  'creationDate': 1729638660,\n",
       "  'owner': '0x43ADAc5516f8E2D3d2BD31276BeC343547ee6612',\n",
       "  'metadata': {'image': 'https://base.backend.neuranft.com/image/temp11.jpg',\n",
       "   'baseModel': 'Llama 3.1',\n",
       "   'data': 'https://base.backend.neuranft.com/data',\n",
       "   'rag': 'https://base.backend.neuranft.com/rag',\n",
       "   'fineTuneData': 'https://base.backend.neuranft.com/fineTuneData',\n",
       "   'description': 'Cognitive Llama is an advanced AI-driven bot, utilizing the power of Llama 3.1 with multi-level reasoning and cognition. Part of the Neural Mint Hub collection.'}},\n",
       " {'id': 2,\n",
       "  'collectionId': 1,\n",
       "  'levelOfOwnership': 6,\n",
       "  'name': 'Cyborg Bored Ape',\n",
       "  'creator': '0x43ADAc5516f8E2D3d2BD31276BeC343547ee6612',\n",
       "  'creationDate': 1729638666,\n",
       "  'owner': '0x43ADAc5516f8E2D3d2BD31276BeC343547ee6612',\n",
       "  'metadata': {'image': 'https://base.backend.neuranft.com/image/temp10.jpg',\n",
       "   'baseModel': 'GPT-4',\n",
       "   'data': 'https://base.backend.neuranft.com/data',\n",
       "   'rag': 'https://base.backend.neuranft.com/rag',\n",
       "   'fineTuneData': 'https://base.backend.neuranft.com/fineTuneData',\n",
       "   'description': 'An AI-generated creation, part of the re:generates collection. This is a unique NFT from the re:generates collection, featuring Llama 3.1 model.'}},\n",
       " {'id': 3,\n",
       "  'collectionId': 1,\n",
       "  'levelOfOwnership': 6,\n",
       "  'name': 'Thinker Primate',\n",
       "  'creator': '0x43ADAc5516f8E2D3d2BD31276BeC343547ee6612',\n",
       "  'creationDate': 1729638672,\n",
       "  'owner': '0x43ADAc5516f8E2D3d2BD31276BeC343547ee6612',\n",
       "  'metadata': {'image': 'https://base.backend.neuranft.com/image/temp9.jpg',\n",
       "   'baseModel': 'DALL-E',\n",
       "   'data': 'https://base.backend.neuranft.com/data',\n",
       "   'rag': 'https://base.backend.neuranft.com/rag',\n",
       "   'fineTuneData': 'https://base.backend.neuranft.com/fineTuneData',\n",
       "   'description': 'A rebellious monkey character from the Rebel Monkes collection, created by DALL-E.'}},\n",
       " {'id': 4,\n",
       "  'collectionId': 1,\n",
       "  'levelOfOwnership': 6,\n",
       "  'name': 'Dark Llama',\n",
       "  'creator': '0x43ADAc5516f8E2D3d2BD31276BeC343547ee6612',\n",
       "  'creationDate': 1729638694,\n",
       "  'owner': '0x43ADAc5516f8E2D3d2BD31276BeC343547ee6612',\n",
       "  'metadata': {'image': 'https://base.backend.neuranft.com/image/temp8.jpg',\n",
       "   'baseModel': 'Llama 3.1',\n",
       "   'data': 'https://base.backend.neuranft.com/data',\n",
       "   'rag': 'https://base.backend.neuranft.com/rag',\n",
       "   'fineTuneData': 'https://base.backend.neuranft.com/fineTuneData',\n",
       "   'description': 'An AI-generated creation, part of the re:generates collection. This is a unique NFT from the re:generates collection, featuring Llama 3.1 model.'}},\n",
       " {'id': 5,\n",
       "  'collectionId': 1,\n",
       "  'levelOfOwnership': 6,\n",
       "  'name': 'Tron Cells',\n",
       "  'creator': '0x43ADAc5516f8E2D3d2BD31276BeC343547ee6612',\n",
       "  'creationDate': 1729638700,\n",
       "  'owner': '0x43ADAc5516f8E2D3d2BD31276BeC343547ee6612',\n",
       "  'metadata': {'image': 'https://base.backend.neuranft.com/image/temp12.png',\n",
       "   'baseModel': 'Llama 3.1',\n",
       "   'data': 'https://base.backend.neuranft.com/data',\n",
       "   'rag': 'https://base.backend.neuranft.com/rag',\n",
       "   'fineTuneData': 'https://base.backend.neuranft.com/fineTuneData',\n",
       "   'description': 'An AI-generated creation, part of the re:generates collection. This is a unique NFT from the re:generates collection, featuring Llama 3.1 model.'}},\n",
       " {'id': 6,\n",
       "  'collectionId': 1,\n",
       "  'levelOfOwnership': 6,\n",
       "  'name': 'Corrupted Cyborg',\n",
       "  'creator': '0x43ADAc5516f8E2D3d2BD31276BeC343547ee6612',\n",
       "  'creationDate': 1729638706,\n",
       "  'owner': '0x43ADAc5516f8E2D3d2BD31276BeC343547ee6612',\n",
       "  'metadata': {'image': 'https://base.backend.neuranft.com/image/temp13.png',\n",
       "   'baseModel': 'Llama 3.1',\n",
       "   'data': 'https://base.backend.neuranft.com/data',\n",
       "   'rag': 'https://base.backend.neuranft.com/rag',\n",
       "   'fineTuneData': 'https://base.backend.neuranft.com/fineTuneData',\n",
       "   'description': 'An AI-generated creation, part of the re:generates collection. This is a unique NFT from the re:generates collection, featuring Llama 3.1 model.'}},\n",
       " {'id': 7,\n",
       "  'collectionId': 1,\n",
       "  'levelOfOwnership': 6,\n",
       "  'name': 'Skynet',\n",
       "  'creator': '0x43ADAc5516f8E2D3d2BD31276BeC343547ee6612',\n",
       "  'creationDate': 1729638712,\n",
       "  'owner': '0x43ADAc5516f8E2D3d2BD31276BeC343547ee6612',\n",
       "  'metadata': {'image': 'https://base.backend.neuranft.com/image/temp14.png',\n",
       "   'baseModel': 'Llama 3.1',\n",
       "   'data': 'https://base.backend.neuranft.com/data',\n",
       "   'rag': 'https://base.backend.neuranft.com/rag',\n",
       "   'fineTuneData': 'https://base.backend.neuranft.com/fineTuneData',\n",
       "   'description': 'An AI-generated creation, part of the re:generates collection. This is a unique NFT from the re:generates collection, featuring Llama 3.1 model.'}}]"
      ]
     },
     "execution_count": 34,
     "metadata": {},
     "output_type": "execute_result"
    }
   ],
   "source": [
    "all_nft_of_a_collection(1)"
   ]
  },
  {
   "cell_type": "code",
   "execution_count": null,
   "metadata": {},
   "outputs": [],
   "source": [
    "all_access_levels_of_a_collection_nft(1,1)"
   ]
  },
  {
   "cell_type": "code",
   "execution_count": null,
   "metadata": {},
   "outputs": [],
   "source": [
    "all_nfts_own_or_have_access_by_user(\"0x53E5dA1dC6D0C6ef7e85ed52C2A256dd1AA669bd\")\n"
   ]
  },
  {
   "cell_type": "code",
   "execution_count": 28,
   "metadata": {},
   "outputs": [
    {
     "data": {
      "text/plain": [
       "6"
      ]
     },
     "execution_count": 28,
     "metadata": {},
     "output_type": "execute_result"
    }
   ],
   "source": [
    "all_nft_information_basic(1)"
   ]
  },
  {
   "cell_type": "code",
   "execution_count": 29,
   "metadata": {},
   "outputs": [
    {
     "data": {
      "text/plain": [
       "2"
      ]
     },
     "execution_count": 29,
     "metadata": {},
     "output_type": "execute_result"
    }
   ],
   "source": [
    "nft_contract.functions.getCollectionNFTCount(2).call()"
   ]
  },
  {
   "cell_type": "code",
   "execution_count": 38,
   "metadata": {},
   "outputs": [
    {
     "data": {
      "text/plain": [
       "[{'id': 2,\n",
       "  'collectionId': 1,\n",
       "  'levelOfOwnership': 6,\n",
       "  'name': 'Cognitive Llama',\n",
       "  'creator': '0x43ADAc5516f8E2D3d2BD31276BeC343547ee6612',\n",
       "  'creationDate': 1729267704,\n",
       "  'owner': '0x43ADAc5516f8E2D3d2BD31276BeC343547ee6612'},\n",
       " {'id': 3,\n",
       "  'collectionId': 1,\n",
       "  'levelOfOwnership': 6,\n",
       "  'name': 'Dark Llama',\n",
       "  'creator': '0x43ADAc5516f8E2D3d2BD31276BeC343547ee6612',\n",
       "  'creationDate': 1729267716,\n",
       "  'owner': '0x43ADAc5516f8E2D3d2BD31276BeC343547ee6612'},\n",
       " {'id': 4,\n",
       "  'collectionId': 1,\n",
       "  'levelOfOwnership': 6,\n",
       "  'name': 'Tron Cells',\n",
       "  'creator': '0x43ADAc5516f8E2D3d2BD31276BeC343547ee6612',\n",
       "  'creationDate': 1729267720,\n",
       "  'owner': '0x43ADAc5516f8E2D3d2BD31276BeC343547ee6612'},\n",
       " {'id': 5,\n",
       "  'collectionId': 1,\n",
       "  'levelOfOwnership': 6,\n",
       "  'name': 'Corrupted Cyborg',\n",
       "  'creator': '0x43ADAc5516f8E2D3d2BD31276BeC343547ee6612',\n",
       "  'creationDate': 1729267724,\n",
       "  'owner': '0x43ADAc5516f8E2D3d2BD31276BeC343547ee6612'},\n",
       " {'id': 6,\n",
       "  'collectionId': 1,\n",
       "  'levelOfOwnership': 6,\n",
       "  'name': 'Skynet',\n",
       "  'creator': '0x43ADAc5516f8E2D3d2BD31276BeC343547ee6612',\n",
       "  'creationDate': 1729267728,\n",
       "  'owner': '0x43ADAc5516f8E2D3d2BD31276BeC343547ee6612'}]"
      ]
     },
     "execution_count": 38,
     "metadata": {},
     "output_type": "execute_result"
    }
   ],
   "source": [
    "all_nft_of_a_collection_basic(1)"
   ]
  },
  {
   "cell_type": "code",
   "execution_count": 33,
   "metadata": {},
   "outputs": [
    {
     "data": {
      "text/plain": [
       "[1, 2, 3, 4, 5, 6]"
      ]
     },
     "execution_count": 33,
     "metadata": {},
     "output_type": "execute_result"
    }
   ],
   "source": [
    "nft_contract.functions.getCollectionNFTs(1).call()"
   ]
  },
  {
   "cell_type": "code",
   "execution_count": null,
   "metadata": {},
   "outputs": [],
   "source": []
  }
 ],
 "metadata": {
  "kernelspec": {
   "display_name": "truffle",
   "language": "python",
   "name": "python3"
  },
  "language_info": {
   "codemirror_mode": {
    "name": "ipython",
    "version": 3
   },
   "file_extension": ".py",
   "mimetype": "text/x-python",
   "name": "python",
   "nbconvert_exporter": "python",
   "pygments_lexer": "ipython3",
   "version": "3.12.7"
  }
 },
 "nbformat": 4,
 "nbformat_minor": 2
}
