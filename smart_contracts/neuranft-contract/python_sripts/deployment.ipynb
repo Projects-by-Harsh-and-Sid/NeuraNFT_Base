{
 "cells": [
  {
   "cell_type": "code",
   "execution_count": 1,
   "metadata": {},
   "outputs": [],
   "source": [
    "import json\n",
    "from tronpy import Tron\n",
    "from tronpy.providers.http import HttpProvider\n",
    "from tronpy.keys import PrivateKey\n",
    "import os\n",
    "from tronpy.keys import PublicKey\n",
    "\n",
    "from tronpy.contract import Contract\n"
   ]
  },
  {
   "cell_type": "code",
   "execution_count": 3,
   "metadata": {},
   "outputs": [],
   "source": [
    "NETWORK = \"development\"  # or \"mainnet\"\n",
    "NETWORKS = {\n",
    "    \"nile\": \"https://nile.trongrid.io\",\n",
    "    \"mainnet\": \"https://api.tronstack.io\",\n",
    "    \"shasta\": \"https://api.shasta.trongrid.io\",\n",
    "    \"development\": \"http://localhost:9090\",\n",
    "}\n",
    "\n",
    "# Your private key (keep this secret and secure!)\n",
    "# PRIVATE_KEY = \"your_private_key_here\"\n",
    "# read from ../.env file\n",
    "\n",
    "PRIVATE_KEY = \"6d28b0701dbad9945ec26518d71f04f7361c6a5a23a19025a23b9bc68a7afeb3\"\n",
    "\n",
    "# Path to your compiled contract JSON files\n",
    "CONTRACT_PATH = \"../build/contracts/\"\n",
    "\n",
    "# Path to save deployed addresses\n",
    "DEPLOY_ADDRESS_PATH = \"./build/contractAddresses/\"\n",
    "\n",
    "# client = Tron(network=\"development\")\n",
    "\n"
   ]
  },
  {
   "cell_type": "code",
   "execution_count": null,
   "metadata": {},
   "outputs": [],
   "source": [
    "\n",
    "client = Tron()\n",
    "account = PrivateKey(bytes.fromhex(PRIVATE_KEY))"
   ]
  },
  {
   "cell_type": "code",
   "execution_count": 72,
   "metadata": {},
   "outputs": [],
   "source": [
    "def load_contract(contract_name):\n",
    "    with open(f\"{CONTRACT_PATH}{contract_name}.json\") as file:\n",
    "        contract_json = json.load(file)\n",
    "    abi = contract_json['abi']\n",
    "    bytecode = contract_json['bytecode']\n",
    "    \n",
    "    # Ensure bytecode is in correct format (remove '0x' prefix if present)\n",
    "    if bytecode.startswith('0x'):\n",
    "        bytecode = bytecode[2:]\n",
    "    \n",
    "    # Verify that bytecode is valid hexadecimal\n",
    "    try:\n",
    "        bytes.fromhex(bytecode)\n",
    "    except ValueError:\n",
    "        raise ValueError(f\"Invalid bytecode format in {contract_name}.json\")\n",
    "    \n",
    "    return abi, bytecode\n",
    "\n",
    "\n",
    "from tronpy import Tron\n",
    "from tronpy.keys import PrivateKey\n",
    "from tronpy.contract import Contract\n",
    "\n",
    "def deploy_contract(contract_name, *args):\n",
    "    abi, bytecode = load_contract(contract_name)\n",
    "    \n",
    "    # Derive the address from the public key\n",
    "    sender_address = account.public_key.to_base58check_address()\n",
    "    \n",
    "    # Confirm deployment\n",
    "    confirm = input(f\"Deploy {contract_name}? (y/n): \")\n",
    "    if confirm.lower() != 'y':\n",
    "        print(f\"Skipping deployment of {contract_name}\")\n",
    "        return None\n",
    "\n",
    "    # Create the contract object\n",
    "    contract = Contract(\n",
    "        client=client,\n",
    "        bytecode=bytecode,\n",
    "        abi=abi,\n",
    "        owner_address=sender_address,\n",
    "        origin_address=sender_address\n",
    "    )\n",
    "\n",
    "    # Encode constructor parameters\n",
    "    constructor_params = contract.constructor.encode_parameter(*args)\n",
    "\n",
    "    # Create the transaction\n",
    "    tx = contract.deploy().fee_limit(100_000_000).build()\n",
    "\n",
    "    # Sign the transaction using the PrivateKey object\n",
    "    signed_tx = account.sign(tx)\n",
    "    result = client.broadcast(signed_tx)\n",
    "    \n",
    "    # Wait for the transaction to be confirmed\n",
    "    result = client.get_transaction_info(result['txid'])\n",
    "    \n",
    "    contract_address = result['contract_address']\n",
    "    print(f\"{contract_name} deployed at: {contract_address}\")\n",
    "    return contract_address\n",
    "\n",
    "def save_addresses(addresses):\n",
    "    if not os.path.exists(DEPLOY_ADDRESS_PATH):\n",
    "        os.makedirs(DEPLOY_ADDRESS_PATH)\n",
    "    with open(f\"{DEPLOY_ADDRESS_PATH}{NETWORK}_addresses.json\", 'w') as file:\n",
    "        json.dump(addresses, file, indent=2)\n",
    "    print(f\"Addresses saved to {DEPLOY_ADDRESS_PATH}{NETWORK}_addresses.json\")\n"
   ]
  },
  {
   "cell_type": "code",
   "execution_count": 73,
   "metadata": {},
   "outputs": [],
   "source": [
    "deployed_addresses = {}\n",
    "\n"
   ]
  },
  {
   "cell_type": "code",
   "execution_count": null,
   "metadata": {},
   "outputs": [],
   "source": [
    "\n",
    "# Deploy MasterAccessControl\n",
    "\n",
    "master_access_control = deploy_contract(\"MasterAccessControl\")\n",
    "if master_access_control:\n",
    "    deployed_addresses['MasterAccessControl'] = master_access_control"
   ]
  },
  {
   "cell_type": "code",
   "execution_count": null,
   "metadata": {},
   "outputs": [],
   "source": [
    "deployed_addresses"
   ]
  },
  {
   "cell_type": "code",
   "execution_count": null,
   "metadata": {},
   "outputs": [],
   "source": [
    "def deploy_contract(contract_name, *args):\n",
    "    abi, bytecode = load_contract(contract_name)\n",
    "    \n",
    "    # Remove the estimation part\n",
    "    # estimated_energy = client.estimate_energy(account.address, bytecode)\n",
    "    # estimated_bandwidth = len(bytecode) + 64  # Approximate estimation\n",
    "    \n",
    "    # print(f\"Estimated energy for {contract_name}: {estimated_energy}\")\n",
    "    # print(f\"Estimated bandwidth for {contract_name}: {estimated_bandwidth}\")\n",
    "    \n",
    "    # Confirm deployment\n",
    "    confirm = input(f\"Deploy {contract_name}? (y/n): \")\n",
    "    if confirm.lower() != 'y':\n",
    "        print(f\"Skipping deployment of {contract_name}\")\n",
    "        return None\n",
    "\n",
    "    # Proceed with deployment as before\n",
    "    tx = client.trx.deploy_contract(\n",
    "        account.address,\n",
    "        abi,\n",
    "        bytecode,\n",
    "        *args,\n",
    "        fee_limit=100_000_000\n",
    "    )\n",
    "    \n",
    "    # Sign and broadcast the transaction\n",
    "    signed_tx = account.sign_transaction(tx)\n",
    "    result = client.trx.broadcast(signed_tx)\n",
    "    \n",
    "    # Wait for the transaction to be confirmed\n",
    "    result = client.trx.wait_for_transaction(result['txid'])\n",
    "    \n",
    "    contract_address = result['contract_address']\n",
    "    print(f\"{contract_name} deployed at: {contract_address}\")\n",
    "    return contract_address"
   ]
  },
  {
   "cell_type": "code",
   "execution_count": null,
   "metadata": {},
   "outputs": [],
   "source": [
    "from tronpy import Tron\n",
    "\n",
    "client = Tron(network='private', endpoint_uri='http://127.0.0.1:8090')\n",
    "\n",
    "block = client.get_current_block()\n",
    "print('Current Block:', block)\n"
   ]
  },
  {
   "cell_type": "code",
   "execution_count": null,
   "metadata": {},
   "outputs": [],
   "source": []
  }
 ],
 "metadata": {
  "kernelspec": {
   "display_name": "tron_neuranft",
   "language": "python",
   "name": "python3"
  },
  "language_info": {
   "codemirror_mode": {
    "name": "ipython",
    "version": 3
   },
   "file_extension": ".py",
   "mimetype": "text/x-python",
   "name": "python",
   "nbconvert_exporter": "python",
   "pygments_lexer": "ipython3",
   "version": "3.12.7"
  }
 },
 "nbformat": 4,
 "nbformat_minor": 2
}
