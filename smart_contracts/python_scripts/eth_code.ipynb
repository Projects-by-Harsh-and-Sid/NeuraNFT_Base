{
 "cells": [
  {
   "cell_type": "code",
   "execution_count": 1,
   "metadata": {},
   "outputs": [],
   "source": [
    "import json\n",
    "from web3 import Web3\n",
    "import time\n"
   ]
  },
  {
   "cell_type": "code",
   "execution_count": 2,
   "metadata": {},
   "outputs": [],
   "source": [
    "# Connect to an Ethereum node (replace with your own node URL or Infura endpoint)\n",
    "# web3_provider = 'http://localhost:7545'\n",
    "web3_provider = \"https://base-sepolia-rpc.publicnode.com\"\n",
    "\n",
    "w3 = Web3(Web3.HTTPProvider(web3_provider))"
   ]
  },
  {
   "cell_type": "code",
   "execution_count": 3,
   "metadata": {},
   "outputs": [],
   "source": [
    "with open(\"../truffle_compiled_contract/key.json\") as f:\n",
    "    keys = json.load(f)"
   ]
  },
  {
   "cell_type": "code",
   "execution_count": 4,
   "metadata": {},
   "outputs": [
    {
     "name": "stdout",
     "output_type": "stream",
     "text": [
      "Successfully connected to the node at https://base-sepolia-rpc.publicnode.com\n"
     ]
    }
   ],
   "source": [
    "if w3.is_connected():\n",
    "    print(\"Successfully connected to the node at\", web3_provider)\n",
    "else:\n",
    "    print(\"Connection to node failed. Please check the URL and try again.\")\n"
   ]
  },
  {
   "cell_type": "code",
   "execution_count": 5,
   "metadata": {},
   "outputs": [],
   "source": [
    "# Your Ethereum account private key (NEVER share or commit this!)\n",
    "# private_key = '0xb99052926180cf5daff5b20633add14f33655b4711ede3c3d4ddb40751dc4311'\n",
    "\n",
    "private_key = keys[\"privateKey\"]\n",
    "\n"
   ]
  },
  {
   "cell_type": "code",
   "execution_count": 6,
   "metadata": {},
   "outputs": [],
   "source": [
    "#collection json\n",
    "with open(r'..\\truffle_compiled_contract\\build\\contracts\\CollectionContract.json') as f:\n",
    "    collection_json = json.load(f)\n",
    "\n",
    "with open(r'..\\truffle_compiled_contract\\build\\contracts\\NFTContract.json') as f:\n",
    "    nft_json = json.load(f)\n",
    "\n",
    "\n",
    "with open(r'..\\truffle_compiled_contract\\build\\contracts\\NFTAccessControl.json') as f:\n",
    "    NFTAccessControl_json = json.load(f)\n",
    "\n",
    "\n",
    "with open(r'..\\truffle_compiled_contract\\build\\contracts\\NFTMetadata.json') as f:\n",
    "    NFTMetadata_json = json.load(f)\n",
    "    \n",
    "\n",
    "with open(r'..\\truffle_compiled_contract\\build\\contracts\\MasterAccessControl.json') as f:\n",
    "    MasterAccessControl_json = json.load(f)"
   ]
  },
  {
   "cell_type": "code",
   "execution_count": 7,
   "metadata": {},
   "outputs": [],
   "source": [
    "# with open(r'..\\truffle_compiled_contract\\build\\contractAddresses\\development_addresses.json') as f:\n",
    "#     address_json= json.load(f)\n",
    "\n",
    "with open(r'..\\truffle_compiled_contract\\build\\contractAddresses\\base_addresses.json') as f:\n",
    "    address_json= json.load(f)"
   ]
  },
  {
   "cell_type": "code",
   "execution_count": 8,
   "metadata": {},
   "outputs": [
    {
     "data": {
      "text/plain": [
       "{'MasterAccessControl': '0x52AD5a6D11a1D68736894F4eab33CCD594E1db5A',\n",
       " 'NFTAccessControl': '0xf9179350E92092F283dC34B5E99F53BfF96effbf',\n",
       " 'NFTMetadata': '0x62B5C46B0eCDda777B98d3ca5100DCa4d0532026',\n",
       " 'NFTContract': '0x112bC2e4d638839162686B8EAb2F1161562BDbAB',\n",
       " 'CollectionContract': '0xc367B82Aed2625e0e592283954E6079B01f0cD48'}"
      ]
     },
     "execution_count": 8,
     "metadata": {},
     "output_type": "execute_result"
    }
   ],
   "source": [
    "address_json"
   ]
  },
  {
   "cell_type": "code",
   "execution_count": 59,
   "metadata": {},
   "outputs": [],
   "source": [
    "w3 = Web3(Web3.HTTPProvider(web3_provider))\n",
    "\n",
    "def write_to_contract(contract, function_name: str, \n",
    "                      arguments: list, private_key: str, \n",
    "                      web3_provider: str,\n",
    "                      gas = 2000000):\n",
    "    \"\"\"\n",
    "    Write data to a contract function\n",
    "    :param contract: The contract object\n",
    "    :param function_name: The name of the function to call\n",
    "    :param arguments: The arguments to pass to the function\n",
    "    :param private_key: The private key of the account calling the function\n",
    "    :param web3_provider: The URL of the Ethereum node\n",
    "    :return: The transaction receipt\n",
    "    \"\"\"\n",
    "    \n",
    "    global w3\n",
    "    \n",
    "    if w3.is_connected():\n",
    "        print(\"Successfully connected to the node at\", web3_provider)\n",
    "    else:\n",
    "        w3 = Web3(Web3.HTTPProvider(web3_provider))\n",
    "\n",
    "        # Checking if the connection to the node was successful\n",
    "        if w3.is_connected():\n",
    "            print(\"Successfully connected to the node at\", web3_provider)\n",
    "        else:\n",
    "            print(\"Connection to node failed. Please check the URL and try again.\")\n",
    "\n",
    "    account = w3.eth.account.from_key(private_key)\n",
    "\n",
    "    # Write data to the function\n",
    "    nonce = w3.eth.get_transaction_count(account.address)\n",
    "    transaction = contract.functions[function_name](*arguments).build_transaction({\n",
    "        \"from\": account.address,\n",
    "        \"nonce\": nonce,\n",
    "        \"gas\": gas,\n",
    "        \"gasPrice\": w3.eth.gas_price\n",
    "    })\n",
    "    signed_txn = account.sign_transaction(transaction)\n",
    "    tx_hash = w3.eth.send_raw_transaction(signed_txn.rawTransaction)\n",
    "    tx_receipt = w3.eth.wait_for_transaction_receipt(tx_hash)\n",
    "\n",
    "    return tx_receipt\n",
    "\n"
   ]
  },
  {
   "cell_type": "code",
   "execution_count": 44,
   "metadata": {},
   "outputs": [],
   "source": [
    "# Your Ethereum address\n",
    "account = w3.eth.account.from_key(private_key)\n",
    "\n",
    "collection_contract = w3.eth.contract(address=address_json[\"CollectionContract\"], abi=collection_json[\"abi\"])\n",
    "\n",
    "# Your Ethereum address\n",
    "account = w3.eth.account.from_key(private_key)\n",
    "\n",
    "# collection_contract = w3.eth.contract(address=address_json[\"CollectionContract\"], abi=collection_json[\"abi\"])\n",
    "nft_contract = w3.eth.contract(address=address_json[\"NFTContract\"], abi=nft_json[\"abi\"])\n",
    "nft_metadata_contract = w3.eth.contract(address=address_json[\"NFTMetadata\"], abi=NFTMetadata_json[\"abi\"])\n",
    "nft_access_control_contract = w3.eth.contract(address=address_json[\"NFTAccessControl\"], abi=NFTAccessControl_json[\"abi\"])\n",
    "master_access_control_contract = w3.eth.contract(address=address_json[\"MasterAccessControl\"], abi=MasterAccessControl_json[\"abi\"])"
   ]
  },
  {
   "cell_type": "markdown",
   "metadata": {},
   "source": [
    "# Collection"
   ]
  },
  {
   "cell_type": "code",
   "execution_count": 17,
   "metadata": {},
   "outputs": [],
   "source": [
    "def create_collection(collection):\n",
    "    \n",
    "\n",
    "        \n",
    "    # write to contract\n",
    "    \n",
    "    \n",
    "    function_name = \"createCollection\"\n",
    "    arguments = [collection['name'], collection['contextWindow'], collection['model'], collection['image'], collection['description']]\n",
    "    key = private_key\n",
    "    \n",
    "    \n",
    "    try :\n",
    "        tx_receipt = write_to_contract(collection_contract, function_name, arguments, key, web3_provider)\n",
    "        create_event = collection_contract.events.CollectionCreated().process_receipt(tx_receipt)[0]\n",
    "        collection_id = create_event['args']['collectionId']\n",
    "        return collection_id\n",
    "    except:\n",
    "        print(\"Error creating collection : \", collection['name'])"
   ]
  },
  {
   "cell_type": "code",
   "execution_count": 18,
   "metadata": {},
   "outputs": [],
   "source": [
    "\n",
    "\n",
    "def getAllCollections():\n",
    "    try:\n",
    "        \n",
    "        total_collections = collection_contract.functions.getAllCollections().call()\n",
    "        \n",
    "        all_collections = []\n",
    "        counter = 1\n",
    "        for collection_data in total_collections:\n",
    "            # collection_data = collection_contract.functions.getCollectionMetadata(i)\n",
    "            i = counter\n",
    "            counter += 1\n",
    "            formatted_collection = {\n",
    "                \"id\": i,\n",
    "                \"name\": collection_data[0],\n",
    "                \"contextWindow\": collection_data[1],\n",
    "                \"model\": collection_data[2],\n",
    "                \"image\": collection_data[3],\n",
    "                \"description\": collection_data[4],\n",
    "                \"creator\": collection_data[5],\n",
    "                \"date\": collection_data[6],\n",
    "                \"owner\": collection_data[7],\n",
    "                \"collectionaddress\": f\"#{i}\",\n",
    "                # \"noOfNFTs\": collection_contract.functions.getCollectionNFTCount(i)\n",
    "            }\n",
    "            all_collections.append(formatted_collection)\n",
    "\n",
    "        return all_collections\n",
    "    \n",
    "    except Exception as e:\n",
    "        print(f\"Error getting all collections: {str(e)}\")\n",
    "        return None\n",
    "\n",
    "\n",
    "\n",
    "\n",
    "\n",
    "def getAllCollections_by_address(address):\n",
    "    try:\n",
    "        all_collections = getAllCollections()\n",
    "        return [collection for collection in all_collections if collection['owner'] == address]\n",
    "    except Exception as e:\n",
    "        print(f\"Error getting collections for address {address}: {str(e)}\")\n",
    "        return None\n",
    "\n",
    "\n",
    "\n",
    "def get_collection_details_by_id(collection_id):\n",
    "    try:\n",
    "        metadata = collection_contract.functions.getCollectionMetadata(collection_id).call()\n",
    "        nft_count = collection_contract.functions.getCollectionNFTCount(collection_id).call()\n",
    "        owner = collection_contract.functions.getCollectionOwner(collection_id).call()\n",
    "        unique_holders = collection_contract.functions.getCollectionUniqueHolders(collection_id).call()\n",
    "\n",
    "\n",
    "        collection_details = {\n",
    "            \"id\": collection_id,\n",
    "            \"name\": metadata[0],\n",
    "            \"contextWindow\": metadata[1],\n",
    "            \"baseModel\": metadata[2],\n",
    "            \"image\": metadata[3],\n",
    "            \"description\": metadata[4],\n",
    "            \"creator\": metadata[5],\n",
    "            \"dateCreated\": metadata[6],\n",
    "            \"owner\": owner,\n",
    "            \"collectionaddress\": f\"#{collection_id}\",\n",
    "            \"noOfNFTs\": nft_count,\n",
    "            \"uniqueHolders\": unique_holders,\n",
    "            \"model\": metadata[2],\n",
    "            \"noOfServers\": 5\n",
    "        }\n",
    "\n",
    "        return collection_details\n",
    "    except Exception as e:\n",
    "        print(f\"Error getting details for collection ID {collection_id}: {str(e)}\")\n",
    "        return None\n",
    "\n",
    "\n",
    "\n"
   ]
  },
  {
   "cell_type": "code",
   "execution_count": 19,
   "metadata": {},
   "outputs": [],
   "source": [
    "with open('./data/all_collections.json') as f:\n",
    "    collections = json.load(f)"
   ]
  },
  {
   "cell_type": "code",
   "execution_count": 20,
   "metadata": {},
   "outputs": [],
   "source": [
    "# !!!!!!!! Uncomment this to create collections !!!!!!!!\n",
    "\n",
    "# for collection in collections[\"collections\"]:\n",
    "#     collection_id = create_collection(collection)\n",
    "#     print(f\"Collection ID: {collection_id}\")"
   ]
  },
  {
   "cell_type": "code",
   "execution_count": null,
   "metadata": {},
   "outputs": [],
   "source": [
    "getAllCollections()"
   ]
  },
  {
   "cell_type": "code",
   "execution_count": null,
   "metadata": {},
   "outputs": [],
   "source": [
    "get_collection_details_by_id(1)"
   ]
  },
  {
   "cell_type": "code",
   "execution_count": null,
   "metadata": {},
   "outputs": [],
   "source": [
    "getAllCollections_by_address(\"0x43ADAc5516f8E2D3d2BD31276BeC343547ee6612\")"
   ]
  },
  {
   "cell_type": "markdown",
   "metadata": {},
   "source": [
    "# Check Access"
   ]
  },
  {
   "cell_type": "code",
   "execution_count": 11,
   "metadata": {},
   "outputs": [
    {
     "data": {
      "text/plain": [
       "True"
      ]
     },
     "execution_count": 11,
     "metadata": {},
     "output_type": "execute_result"
    }
   ],
   "source": [
    "master_access_control_contract.functions.hasAccess(address_json[\"NFTAccessControl\"], address_json[\"NFTContract\"]).call()"
   ]
  },
  {
   "cell_type": "code",
   "execution_count": 16,
   "metadata": {},
   "outputs": [
    {
     "data": {
      "text/plain": [
       "'0x112bC2e4d638839162686B8EAb2F1161562BDbAB'"
      ]
     },
     "execution_count": 16,
     "metadata": {},
     "output_type": "execute_result"
    }
   ],
   "source": [
    "address_json[\"NFTContract\"]"
   ]
  },
  {
   "cell_type": "markdown",
   "metadata": {},
   "source": [
    "# NFT Cretion"
   ]
  },
  {
   "cell_type": "code",
   "execution_count": 60,
   "metadata": {},
   "outputs": [],
   "source": [
    "def burn_NFT(collection_id, nft_id):\n",
    "            \n",
    "    # write to contract\n",
    "    function_name       = \"burnNFT\"\n",
    "    \n",
    "    arguments = [collection_id, nft_id]\n",
    "    key = private_key\n",
    "    \n",
    "    try :\n",
    "        tx_receipt      = write_to_contract(nft_contract, function_name, arguments, key, web3_provider, gas = 4000000)\n",
    "        print(\"Completed writing to contract\")\n",
    "        burn_event      = nft_contract.events.NFTBurned().process_receipt(tx_receipt)[0]\n",
    "        collection_id   = burn_event['args']['collectionId']\n",
    "        nft_id          = burn_event['args']['tokenId']\n",
    "        print (f\"nft {nft_id} burned in collection {collection_id}\")\n",
    "        return nft_id\n",
    "    \n",
    "    except Exception as e:\n",
    "        print (f\"Error burning nft : {nft_id} : {str(e)}\")\n",
    "        \n",
    "\n",
    "\n",
    "\n",
    "\n",
    "\n",
    "def create_NFT(nft_data):\n",
    "    \n",
    "\n",
    "        \n",
    "    # write to contract\n",
    "    \n",
    "    \n",
    "    function_name       = \"createNFT\"\n",
    "    \n",
    "    _collectionId       =  nft_data['collection_id']\n",
    "    _name               = nft_data['name']\n",
    "    level_of_ownership  = 6\n",
    "    \n",
    "    \n",
    "    arguments = [_collectionId, _name, level_of_ownership]\n",
    "    key = private_key\n",
    "    \n",
    "    \n",
    "\n",
    "    try :\n",
    "        print(f\"Arguments for {_name}: \", arguments)\n",
    "        tx_receipt = write_to_contract(nft_contract, function_name, arguments, key, web3_provider, gas = 4000000)\n",
    "        print(\"Completed writing to contract\")\n",
    "        create_event = nft_contract.events.NFTCreated().process_receipt(tx_receipt)[0]\n",
    "        collection_id = create_event['args']['collectionId']\n",
    "        nft_id = create_event['args']['tokenId']\n",
    "        cretor = create_event['args']['creator']\n",
    "        \n",
    "        print (f\"nft {nft_id} created by {cretor} in collection {collection_id}\")\n",
    "        \n",
    "        return nft_id\n",
    "    except:\n",
    "        print(\"Error creating nft : \", nft_data['name'])\n",
    "        \n",
    "\n",
    "def create_metadata(nft_data):\n",
    "    \n",
    "\n",
    "        \n",
    "    # write to contract\n",
    "    \n",
    "    \n",
    "    function_name = \"createMetadata\"\n",
    "    \n",
    "    _collectionId = nft_data['collection_id']\n",
    "    _nftId = nft_data['id']\n",
    "    # _metadata = {\n",
    "    #     \"image\" : nft_data['image'],\n",
    "    #     \"model\" : nft_data['model'],\n",
    "    #     \"data\"  : \"http//localhost:5500/data\",\n",
    "    #     \"rag\"   : \"http//localhost:5500/rag\",\n",
    "    #     \"fineTuneData\" : \"localhost:5500/fineTuneData\",\n",
    "    #     \"description\" : nft_data['description']\n",
    "        \n",
    "    # }\n",
    "    \n",
    "    \n",
    "    _metadata = [\n",
    "        nft_data['image'],\n",
    "        nft_data['model'],\n",
    "        \"http//localhost:5500/data\",\n",
    "        \"http//localhost:5500/rag\",\n",
    "        \"localhost:5500/fineTuneData\",\n",
    "        nft_data['description']\n",
    "    ]\n",
    "    \n",
    "    \n",
    "    \n",
    "    arguments = [_collectionId, _nftId, _metadata]\n",
    "    key = private_key\n",
    "    \n",
    "    \n",
    "    try :\n",
    "        tx_receipt = write_to_contract(nft_metadata_contract, function_name, arguments, key, web3_provider, gas = 4000000)\n",
    "        create_event = nft_metadata_contract.events.MetadataCreated().process_receipt(tx_receipt)[0]\n",
    "        collection_id = create_event['args']['collectionId']\n",
    "        nft_id = create_event['args']['nftId']\n",
    "        metadata = create_event['args']['metadata']\n",
    "        \n",
    "        # print (f\"nft {nft_id} created by {cretor} in collection {collection_id}\")\n",
    "        \n",
    "        print (f\"metadata for nft {nft_id} created in collection {collection_id}\")\n",
    "        \n",
    "        return nft_id\n",
    "    except:\n",
    "        print(\"Error creating nft metadata: \", nft_data['name'])\n",
    "        \n",
    "def provide_access(nft_data):\n",
    "    \n",
    "    \n",
    "    if \"accessList\" not in nft_data:\n",
    "        return 0\n",
    "    \n",
    "    addresses =[\n",
    "        \"0xcb6d7cDCa0563575b6b734FA4f3e9d6ac7542912\",\n",
    "        \"0xC1BA95aE30C40Bde9259B23E9706B359119af8a8\",\n",
    "        \"0x896b05e46Fa4Ec0CCBCff4FD70E040B24B705b13\",\n",
    "        \"0xA6BBfa08C6Bec195FB4138A3225B7b6df9aA75eb\",\n",
    "        \"0x51414DFE8A683aA64bE0273C6819eB410939395B\"\n",
    "    ]\n",
    "    \n",
    "    _access_list_temp = []\n",
    "    count_temp = len(addresses)\n",
    "    \n",
    "    for i in nft_data['accessList']:\n",
    "        if count_temp == 0:\n",
    "            break\n",
    "        _access_list_temp.append({ \"address\":addresses[len(addresses)-count_temp],  \"accessLevel\":i[\"accessLevel\"]})\n",
    "        count_temp = count_temp - 1\n",
    "        \n",
    "    _access_list = _access_list_temp\n",
    "    \n",
    "    \n",
    "    function_name = \"grantAccess\"\n",
    "    \n",
    "    _collectionId = nft_data['collection_id']\n",
    "    _nftId = nft_data['id']\n",
    "    \n",
    "    key = private_key\n",
    "    \n",
    "    \n",
    "    print(\"Providing access for nft : \", nft_data['name'])\n",
    "    \n",
    "    for access in _access_list:\n",
    "        \n",
    "        _user = access['address']\n",
    "        _level = access['accessLevel']\n",
    "        \n",
    "        arguments = [_collectionId, _nftId, _user, _level]\n",
    "        \n",
    "        try :\n",
    "            \n",
    "            \n",
    "            tx_receipt = write_to_contract(nft_access_control_contract, function_name, arguments, key, web3_provider)\n",
    "            create_event = nft_access_control_contract.events.AccessGranted().process_receipt(tx_receipt)[0]\n",
    "            collection_id = create_event['args']['collectionId']\n",
    "            nft_id = create_event['args']['nftId']\n",
    "            user = create_event['args']['user']\n",
    "            accesslevel = create_event['args']['accessLevel']\n",
    "            \n",
    "            \n",
    "            print(\"\\t\\t Access granted to user : \", user , \" with access level : \", accesslevel)\n",
    "            \n",
    "            # print (f\"nft {nft_id} created by {cretor} in collection {collection_id}\") \n",
    "            # return nft_id\n",
    "        except:\n",
    "            print(\"\\t\\t Error granding user : \", _user) \n",
    "        \n",
    "        \n",
    "        \n",
    "        \n",
    "    \n",
    "        \n"
   ]
  },
  {
   "cell_type": "code",
   "execution_count": 24,
   "metadata": {},
   "outputs": [],
   "source": [
    "with open('./data/all_nft.json') as f:\n",
    "    all_nft = json.load(f)"
   ]
  },
  {
   "cell_type": "code",
   "execution_count": 25,
   "metadata": {},
   "outputs": [
    {
     "data": {
      "text/plain": [
       "{'nfts': [{'id': 1,\n",
       "   'name': 'Cognitive Llama',\n",
       "   'collection': 'Neural Mint Hub',\n",
       "   'collection_id': 1,\n",
       "   'image': 'http://localhost:5500/image/temp11.jpg',\n",
       "   'model': 'Llama 3.1',\n",
       "   'attributes': [{'trait_type': 'Model', 'value': 'Llama 3.1'},\n",
       "    {'trait_type': 'Context Window', 'value': '4096 tokens'},\n",
       "    {'trait_type': 'Total Access', 'value': '1'},\n",
       "    {'trait_type': 'Collection', 'value': 'Neural Mint Hub'}],\n",
       "   'accessList': [{'address': 'TLTtQz2Njap4nPAQGPGJn5EEksoM1uw4Qr',\n",
       "     'accessLevel': 6},\n",
       "    {'address': 'TThwHjyzx2E1TNN4GdSoaHeCRJVi3EuKS7', 'accessLevel': 2},\n",
       "    {'address': 'TJfqnAUwX2ViGTP1J81itXWhuJhUYa8RwK', 'accessLevel': 2},\n",
       "    {'address': 'TVh65XCYkerBch3WtgY9kwLqrtH64MhiFe', 'accessLevel': 3},\n",
       "    {'address': 'TMVQGm1qAQYVdetCeGRRkTWYYrLXuHK2HC', 'accessLevel': 1}],\n",
       "   'tokenId': '1234',\n",
       "   'tokenStandard': 'ERC-721',\n",
       "   'owner': 'TLTtQz2Njap4nPAQGPGJn5EEksoM1uw4Qr',\n",
       "   'chain': 'Ethereum',\n",
       "   'description': 'Cognitive Llama is an advanced AI-driven bot, utilizing the power of Llama 3.1 with multi-level reasoning and cognition. Part of the Neural Mint Hub collection.',\n",
       "   'creatorAddress': 'TMVQGm1qAQYVdetCeGRRkTWYYrLXuHK2HC',\n",
       "   'ownerAddress': 'TLTtQz2Njap4nPAQGPGJn5EEksoM1uw4Qr',\n",
       "   'numberOfOwners': 1},\n",
       "  {'id': 2,\n",
       "   'name': 'Cyborg Bored Ape',\n",
       "   'collection': 'onchain gaias',\n",
       "   'collection_id': 1,\n",
       "   'image': 'http://localhost:5500/image/temp10.jpg',\n",
       "   'model': 'GPT-4',\n",
       "   'attributes': [{'trait_type': 'Model', 'value': 'GPT-4'},\n",
       "    {'trait_type': 'Context Window', 'value': '8192 tokens'},\n",
       "    {'trait_type': 'Total Access', 'value': '1'},\n",
       "    {'trait_type': 'Collection', 'value': 'onchain gaias'}],\n",
       "   'accessList': [{'address': 'TLTtQz2Njap4nPAQGPGJn5EEksoM1uw4Qr',\n",
       "     'accessLevel': 1}],\n",
       "   'tokenId': '5678',\n",
       "   'tokenStandard': 'ERC-721',\n",
       "   'owner': 'TLTtQz2Njap4nPAQGPGJn5EEksoM1uw4Qr',\n",
       "   'chain': 'Ethereum',\n",
       "   'description': 'An AI-generated creation, part of the re:generates collection. This is a unique NFT from the re:generates collection, featuring Llama 3.1 model.',\n",
       "   'creatorAddress': '0x1234...5748',\n",
       "   'ownerAddress': 'TLTtQz2Njap4nPAQGPGJn5EEksoM1uw4Qr',\n",
       "   'numberOfOwners': 1},\n",
       "  {'id': 3,\n",
       "   'name': 'Thinker Primate',\n",
       "   'collection': 'Rebel Monkes',\n",
       "   'collection_id': 1,\n",
       "   'image': 'http://localhost:5500/image/temp9.jpg',\n",
       "   'model': 'DALL-E',\n",
       "   'attributes': [{'trait_type': 'Model', 'value': 'DALL-E'},\n",
       "    {'trait_type': 'Context Window', 'value': '2048 tokens'},\n",
       "    {'trait_type': 'Total Access', 'value': '2'},\n",
       "    {'trait_type': 'Collection', 'value': 'Rebel Monkes'}],\n",
       "   'accessList': [{'address': 'TLTtQz2Njap4nPAQGPGJn5EEksoM1uw4Qr',\n",
       "     'accessLevel': 1},\n",
       "    {'address': 'TJfqnAUwX2ViGTP1J81itXWhuJhUYa8RwK', 'accessLevel': 2}],\n",
       "   'tokenId': '9101',\n",
       "   'tokenStandard': 'ERC-721',\n",
       "   'owner': 'TLTtQz2Njap4nPAQGPGJn5EEksoM1uw4Qr',\n",
       "   'chain': 'Ethereum',\n",
       "   'description': 'A rebellious monkey character from the Rebel Monkes collection, created by DALL-E.',\n",
       "   'creatorAddress': '0x5678...1234',\n",
       "   'ownerAddress': 'TLTtQz2Njap4nPAQGPGJn5EEksoM1uw4Qr',\n",
       "   'numberOfOwners': 2},\n",
       "  {'id': 1,\n",
       "   'name': 'MankiBean',\n",
       "   'collection': 'MankiBeanz',\n",
       "   'collection_id': 2,\n",
       "   'image': 'https://picsum.photos/200',\n",
       "   'model': 'Stable Diffusion',\n",
       "   'attributes': [{'trait_type': 'Model', 'value': 'Stable Diffusion'},\n",
       "    {'trait_type': 'Context Window', 'value': '4096 tokens'},\n",
       "    {'trait_type': 'Total Access', 'value': '1'},\n",
       "    {'trait_type': 'Collection', 'value': 'MankiBeanz'}],\n",
       "   'accessList': [{'address': 'TLTtQz2Njap4nPAQGPGJn5EEksoM1uw4Qr',\n",
       "     'accessLevel': 1}],\n",
       "   'tokenId': '1121',\n",
       "   'tokenStandard': 'ERC-721',\n",
       "   'owner': 'TLTtQz2Njap4nPAQGPGJn5EEksoM1uw4Qr',\n",
       "   'chain': 'Ethereum',\n",
       "   'description': 'A quirky bean-shaped monkey character from the MankiBeanz collection, generated using Stable Diffusion.',\n",
       "   'creatorAddress': 'TLTtQz2Njap4nPAQGPGJn5EEksoM1uw4Qr',\n",
       "   'ownerAddress': 'TLTtQz2Njap4nPAQGPGJn5EEksoM1uw4Qr',\n",
       "   'numberOfOwners': 1},\n",
       "  {'id': 2,\n",
       "   'name': 'based punk',\n",
       "   'collection': 'based punks',\n",
       "   'collection_id': 2,\n",
       "   'image': 'https://picsum.photos/200',\n",
       "   'model': 'Midjourney',\n",
       "   'attributes': [{'trait_type': 'Model', 'value': 'Midjourney'},\n",
       "    {'trait_type': 'Context Window', 'value': '2048 tokens'},\n",
       "    {'trait_type': 'Total Access', 'value': '3'},\n",
       "    {'trait_type': 'Collection', 'value': 'based punks'}],\n",
       "   'accessList': [{'address': 'TLTtQz2Njap4nPAQGPGJn5EEksoM1uw4Qr',\n",
       "     'accessLevel': 6},\n",
       "    {'address': 'TJfqnAUwX2ViGTP1J81itXWhuJhUYa8RwK', 'accessLevel': 2}],\n",
       "   'tokenId': '3141',\n",
       "   'tokenStandard': 'ERC-721',\n",
       "   'owner': 'TLTtQz2Njap4nPAQGPGJn5EEksoM1uw4Qr',\n",
       "   'chain': 'Ethereum',\n",
       "   'description': 'A punk-inspired NFT from the based punks collection, created with Midjourney.',\n",
       "   'creatorAddress': '0x2468...1357',\n",
       "   'ownerAddress': 'TLTtQz2Njap4nPAQGPGJn5EEksoM1uw4Qr',\n",
       "   'numberOfOwners': 3},\n",
       "  {'id': 4,\n",
       "   'name': 'Dark Llama',\n",
       "   'collection': 're:generates',\n",
       "   'collection_id': 1,\n",
       "   'image': 'http://localhost:5500/image/temp8.jpg',\n",
       "   'model': 'Llama 3.1',\n",
       "   'attributes': [{'trait_type': 'Model', 'value': 'Llama 3.1'},\n",
       "    {'trait_type': 'Context Window', 'value': '4096 tokens'},\n",
       "    {'trait_type': 'Total Access', 'value': '1'},\n",
       "    {'trait_type': 'Collection', 'value': 're:generates'}],\n",
       "   'accessList': [{'address': 'TLTtQz2Njap4nPAQGPGJn5EEksoM1uw4Qr',\n",
       "     'accessLevel': 1}],\n",
       "   'tokenId': '1234',\n",
       "   'tokenStandard': 'ERC-721',\n",
       "   'owner': 'TLTtQz2Njap4nPAQGPGJn5EEksoM1uw4Qr',\n",
       "   'chain': 'Ethereum',\n",
       "   'description': 'An AI-generated creation, part of the re:generates collection. This is a unique NFT from the re:generates collection, featuring Llama 3.1 model.',\n",
       "   'creatorAddress': 'TThwHjyzx2E1TNN4GdSoaHeCRJVi3EuKS7',\n",
       "   'ownerAddress': 'TLTtQz2Njap4nPAQGPGJn5EEksoM1uw4Qr',\n",
       "   'numberOfOwners': 1},\n",
       "  {'id': 5,\n",
       "   'name': 'Tron Cells',\n",
       "   'collection': 're:generates',\n",
       "   'image': 'http://localhost:5500/image/temp12.png',\n",
       "   'collection_id': 1,\n",
       "   'model': 'Llama 3.1',\n",
       "   'attributes': [{'trait_type': 'Model', 'value': 'Llama 3.1'},\n",
       "    {'trait_type': 'Context Window', 'value': '4096 tokens'},\n",
       "    {'trait_type': 'Total Access', 'value': '1'},\n",
       "    {'trait_type': 'Collection', 'value': 're:generates'}],\n",
       "   'accessList': [{'address': 'TLTtQz2Njap4nPAQGPGJn5EEksoM1uw4Qr',\n",
       "     'accessLevel': 1}],\n",
       "   'tokenId': '1234',\n",
       "   'tokenStandard': 'ERC-721',\n",
       "   'owner': 'TLTtQz2Njap4nPAQGPGJn5EEksoM1uw4Qr',\n",
       "   'chain': 'Ethereum',\n",
       "   'description': 'An AI-generated creation, part of the re:generates collection. This is a unique NFT from the re:generates collection, featuring Llama 3.1 model.',\n",
       "   'creatorAddress': 'TThwHjyzx2E1TNN4GdSoaHeCRJVi3EuKS7',\n",
       "   'ownerAddress': 'TLTtQz2Njap4nPAQGPGJn5EEksoM1uw4Qr',\n",
       "   'numberOfOwners': 1},\n",
       "  {'id': 6,\n",
       "   'name': 'Corrupted Cyborg',\n",
       "   'collection': 're:generates',\n",
       "   'collection_id': 1,\n",
       "   'image': 'http://localhost:5500/image/temp13.png',\n",
       "   'model': 'Llama 3.1',\n",
       "   'attributes': [{'trait_type': 'Model', 'value': 'Llama 3.1'},\n",
       "    {'trait_type': 'Context Window', 'value': '4096 tokens'},\n",
       "    {'trait_type': 'Total Access', 'value': '1'},\n",
       "    {'trait_type': 'Collection', 'value': 're:generates'}],\n",
       "   'accessList': [{'address': 'TLTtQz2Njap4nPAQGPGJn5EEksoM1uw4Qr',\n",
       "     'accessLevel': 1}],\n",
       "   'tokenId': '1234',\n",
       "   'tokenStandard': 'ERC-721',\n",
       "   'owner': 'TLTtQz2Njap4nPAQGPGJn5EEksoM1uw4Qr',\n",
       "   'chain': 'Ethereum',\n",
       "   'description': 'An AI-generated creation, part of the re:generates collection. This is a unique NFT from the re:generates collection, featuring Llama 3.1 model.',\n",
       "   'creatorAddress': 'TThwHjyzx2E1TNN4GdSoaHeCRJVi3EuKS7',\n",
       "   'ownerAddress': 'TLTtQz2Njap4nPAQGPGJn5EEksoM1uw4Qr',\n",
       "   'numberOfOwners': 1},\n",
       "  {'id': 7,\n",
       "   'name': 'Skynet',\n",
       "   'collection': 're:generates',\n",
       "   'collection_id': 1,\n",
       "   'image': 'http://localhost:5500/image/temp14.png',\n",
       "   'model': 'Llama 3.1',\n",
       "   'attributes': [{'trait_type': 'Model', 'value': 'Llama 3.1'},\n",
       "    {'trait_type': 'Context Window', 'value': '4096 tokens'},\n",
       "    {'trait_type': 'Total Access', 'value': '1'},\n",
       "    {'trait_type': 'Collection', 'value': 're:generates'}],\n",
       "   'accessList': [{'address': 'TLTtQz2Njap4nPAQGPGJn5EEksoM1uw4Qr',\n",
       "     'accessLevel': 1}],\n",
       "   'tokenId': '1234',\n",
       "   'tokenStandard': 'ERC-721',\n",
       "   'owner': 'TLTtQz2Njap4nPAQGPGJn5EEksoM1uw4Qr',\n",
       "   'chain': 'Ethereum',\n",
       "   'description': 'An AI-generated creation, part of the re:generates collection. This is a unique NFT from the re:generates collection, featuring Llama 3.1 model.',\n",
       "   'creatorAddress': 'TThwHjyzx2E1TNN4GdSoaHeCRJVi3EuKS7',\n",
       "   'ownerAddress': 'TLTtQz2Njap4nPAQGPGJn5EEksoM1uw4Qr',\n",
       "   'numberOfOwners': 1}]}"
      ]
     },
     "execution_count": 25,
     "metadata": {},
     "output_type": "execute_result"
    }
   ],
   "source": [
    "all_nft"
   ]
  },
  {
   "cell_type": "code",
   "execution_count": 72,
   "metadata": {},
   "outputs": [
    {
     "name": "stdout",
     "output_type": "stream",
     "text": [
      "Arguments for Cognitive Llama:  [1, 'Cognitive Llama', 6]\n",
      "Successfully connected to the node at https://base-sepolia-rpc.publicnode.com\n"
     ]
    },
    {
     "name": "stderr",
     "output_type": "stream",
     "text": [
      "f:\\Environments\\.conda\\envs\\truffle\\Lib\\site-packages\\web3\\contract\\base_contract.py:185: UserWarning: The log with transaction hash: HexBytes('0xc65e6540d047189fb7511b828c0427b9249d71d5381e4e54b0637563998e964f') and logIndex: 10 encountered the following error during processing: MismatchedABI(The event signature did not match the provided ABI). It has been discarded.\n",
      "  warnings.warn(\n",
      "f:\\Environments\\.conda\\envs\\truffle\\Lib\\site-packages\\web3\\contract\\base_contract.py:185: UserWarning: The log with transaction hash: HexBytes('0xc65e6540d047189fb7511b828c0427b9249d71d5381e4e54b0637563998e964f') and logIndex: 11 encountered the following error during processing: MismatchedABI(The event signature did not match the provided ABI). It has been discarded.\n",
      "  warnings.warn(\n",
      "f:\\Environments\\.conda\\envs\\truffle\\Lib\\site-packages\\web3\\contract\\base_contract.py:185: UserWarning: The log with transaction hash: HexBytes('0xc65e6540d047189fb7511b828c0427b9249d71d5381e4e54b0637563998e964f') and logIndex: 13 encountered the following error during processing: MismatchedABI(The event signature did not match the provided ABI). It has been discarded.\n",
      "  warnings.warn(\n"
     ]
    },
    {
     "name": "stdout",
     "output_type": "stream",
     "text": [
      "Completed writing to contract\n",
      "nft 7 created by 0x43ADAc5516f8E2D3d2BD31276BeC343547ee6612 in collection 1\n",
      "NFT ID: 7\n",
      "Arguments for Cyborg Bored Ape:  [1, 'Cyborg Bored Ape', 6]\n",
      "Successfully connected to the node at https://base-sepolia-rpc.publicnode.com\n"
     ]
    },
    {
     "name": "stderr",
     "output_type": "stream",
     "text": [
      "f:\\Environments\\.conda\\envs\\truffle\\Lib\\site-packages\\web3\\contract\\base_contract.py:185: UserWarning: The log with transaction hash: HexBytes('0x8eb8df616036e79b2211fee08aa2e4457f26a7ecb69b789820a7cef3056bc621') and logIndex: 19 encountered the following error during processing: MismatchedABI(The event signature did not match the provided ABI). It has been discarded.\n",
      "  warnings.warn(\n",
      "f:\\Environments\\.conda\\envs\\truffle\\Lib\\site-packages\\web3\\contract\\base_contract.py:185: UserWarning: The log with transaction hash: HexBytes('0x8eb8df616036e79b2211fee08aa2e4457f26a7ecb69b789820a7cef3056bc621') and logIndex: 20 encountered the following error during processing: MismatchedABI(The event signature did not match the provided ABI). It has been discarded.\n",
      "  warnings.warn(\n",
      "f:\\Environments\\.conda\\envs\\truffle\\Lib\\site-packages\\web3\\contract\\base_contract.py:185: UserWarning: The log with transaction hash: HexBytes('0x8eb8df616036e79b2211fee08aa2e4457f26a7ecb69b789820a7cef3056bc621') and logIndex: 22 encountered the following error during processing: MismatchedABI(The event signature did not match the provided ABI). It has been discarded.\n",
      "  warnings.warn(\n"
     ]
    },
    {
     "name": "stdout",
     "output_type": "stream",
     "text": [
      "Completed writing to contract\n",
      "nft 8 created by 0x43ADAc5516f8E2D3d2BD31276BeC343547ee6612 in collection 1\n",
      "NFT ID: 8\n",
      "Arguments for Thinker Primate:  [1, 'Thinker Primate', 6]\n",
      "Successfully connected to the node at https://base-sepolia-rpc.publicnode.com\n"
     ]
    },
    {
     "name": "stderr",
     "output_type": "stream",
     "text": [
      "f:\\Environments\\.conda\\envs\\truffle\\Lib\\site-packages\\web3\\contract\\base_contract.py:185: UserWarning: The log with transaction hash: HexBytes('0xd65cf490492a3949bf6f7828d42be012d8b2a22da74fc8b64dcb2fc968d7ca9c') and logIndex: 9 encountered the following error during processing: MismatchedABI(The event signature did not match the provided ABI). It has been discarded.\n",
      "  warnings.warn(\n",
      "f:\\Environments\\.conda\\envs\\truffle\\Lib\\site-packages\\web3\\contract\\base_contract.py:185: UserWarning: The log with transaction hash: HexBytes('0xd65cf490492a3949bf6f7828d42be012d8b2a22da74fc8b64dcb2fc968d7ca9c') and logIndex: 10 encountered the following error during processing: MismatchedABI(The event signature did not match the provided ABI). It has been discarded.\n",
      "  warnings.warn(\n",
      "f:\\Environments\\.conda\\envs\\truffle\\Lib\\site-packages\\web3\\contract\\base_contract.py:185: UserWarning: The log with transaction hash: HexBytes('0xd65cf490492a3949bf6f7828d42be012d8b2a22da74fc8b64dcb2fc968d7ca9c') and logIndex: 12 encountered the following error during processing: MismatchedABI(The event signature did not match the provided ABI). It has been discarded.\n",
      "  warnings.warn(\n"
     ]
    },
    {
     "name": "stdout",
     "output_type": "stream",
     "text": [
      "Completed writing to contract\n",
      "nft 9 created by 0x43ADAc5516f8E2D3d2BD31276BeC343547ee6612 in collection 1\n",
      "NFT ID: 9\n",
      "Arguments for MankiBean:  [2, 'MankiBean', 6]\n",
      "Successfully connected to the node at https://base-sepolia-rpc.publicnode.com\n"
     ]
    },
    {
     "name": "stderr",
     "output_type": "stream",
     "text": [
      "f:\\Environments\\.conda\\envs\\truffle\\Lib\\site-packages\\web3\\contract\\base_contract.py:185: UserWarning: The log with transaction hash: HexBytes('0x83da498f60f05603a382ecb39bb8eda66d52e78907e349693ed818bb83dfec6f') and logIndex: 5 encountered the following error during processing: MismatchedABI(The event signature did not match the provided ABI). It has been discarded.\n",
      "  warnings.warn(\n",
      "f:\\Environments\\.conda\\envs\\truffle\\Lib\\site-packages\\web3\\contract\\base_contract.py:185: UserWarning: The log with transaction hash: HexBytes('0x83da498f60f05603a382ecb39bb8eda66d52e78907e349693ed818bb83dfec6f') and logIndex: 6 encountered the following error during processing: MismatchedABI(The event signature did not match the provided ABI). It has been discarded.\n",
      "  warnings.warn(\n",
      "f:\\Environments\\.conda\\envs\\truffle\\Lib\\site-packages\\web3\\contract\\base_contract.py:185: UserWarning: The log with transaction hash: HexBytes('0x83da498f60f05603a382ecb39bb8eda66d52e78907e349693ed818bb83dfec6f') and logIndex: 8 encountered the following error during processing: MismatchedABI(The event signature did not match the provided ABI). It has been discarded.\n",
      "  warnings.warn(\n"
     ]
    },
    {
     "name": "stdout",
     "output_type": "stream",
     "text": [
      "Completed writing to contract\n",
      "nft 3 created by 0x43ADAc5516f8E2D3d2BD31276BeC343547ee6612 in collection 2\n",
      "NFT ID: 3\n",
      "Arguments for based punk:  [2, 'based punk', 6]\n",
      "Successfully connected to the node at https://base-sepolia-rpc.publicnode.com\n"
     ]
    },
    {
     "name": "stderr",
     "output_type": "stream",
     "text": [
      "f:\\Environments\\.conda\\envs\\truffle\\Lib\\site-packages\\web3\\contract\\base_contract.py:185: UserWarning: The log with transaction hash: HexBytes('0x54bfba0366dd45ce9050329330e19a1ac86c53848b35815bb352cb0a18833ec4') and logIndex: 11 encountered the following error during processing: MismatchedABI(The event signature did not match the provided ABI). It has been discarded.\n",
      "  warnings.warn(\n",
      "f:\\Environments\\.conda\\envs\\truffle\\Lib\\site-packages\\web3\\contract\\base_contract.py:185: UserWarning: The log with transaction hash: HexBytes('0x54bfba0366dd45ce9050329330e19a1ac86c53848b35815bb352cb0a18833ec4') and logIndex: 12 encountered the following error during processing: MismatchedABI(The event signature did not match the provided ABI). It has been discarded.\n",
      "  warnings.warn(\n",
      "f:\\Environments\\.conda\\envs\\truffle\\Lib\\site-packages\\web3\\contract\\base_contract.py:185: UserWarning: The log with transaction hash: HexBytes('0x54bfba0366dd45ce9050329330e19a1ac86c53848b35815bb352cb0a18833ec4') and logIndex: 14 encountered the following error during processing: MismatchedABI(The event signature did not match the provided ABI). It has been discarded.\n",
      "  warnings.warn(\n"
     ]
    },
    {
     "name": "stdout",
     "output_type": "stream",
     "text": [
      "Completed writing to contract\n",
      "nft 4 created by 0x43ADAc5516f8E2D3d2BD31276BeC343547ee6612 in collection 2\n",
      "NFT ID: 4\n",
      "Arguments for Dark Llama:  [1, 'Dark Llama', 6]\n",
      "Successfully connected to the node at https://base-sepolia-rpc.publicnode.com\n"
     ]
    },
    {
     "name": "stderr",
     "output_type": "stream",
     "text": [
      "f:\\Environments\\.conda\\envs\\truffle\\Lib\\site-packages\\web3\\contract\\base_contract.py:185: UserWarning: The log with transaction hash: HexBytes('0x289c2595b67a992cc2598c61812e58345a448f1afaf70e51fa225e06180fbfb4') and logIndex: 158 encountered the following error during processing: MismatchedABI(The event signature did not match the provided ABI). It has been discarded.\n",
      "  warnings.warn(\n",
      "f:\\Environments\\.conda\\envs\\truffle\\Lib\\site-packages\\web3\\contract\\base_contract.py:185: UserWarning: The log with transaction hash: HexBytes('0x289c2595b67a992cc2598c61812e58345a448f1afaf70e51fa225e06180fbfb4') and logIndex: 159 encountered the following error during processing: MismatchedABI(The event signature did not match the provided ABI). It has been discarded.\n",
      "  warnings.warn(\n",
      "f:\\Environments\\.conda\\envs\\truffle\\Lib\\site-packages\\web3\\contract\\base_contract.py:185: UserWarning: The log with transaction hash: HexBytes('0x289c2595b67a992cc2598c61812e58345a448f1afaf70e51fa225e06180fbfb4') and logIndex: 161 encountered the following error during processing: MismatchedABI(The event signature did not match the provided ABI). It has been discarded.\n",
      "  warnings.warn(\n"
     ]
    },
    {
     "name": "stdout",
     "output_type": "stream",
     "text": [
      "Completed writing to contract\n",
      "nft 10 created by 0x43ADAc5516f8E2D3d2BD31276BeC343547ee6612 in collection 1\n",
      "NFT ID: 10\n",
      "Arguments for Tron Cells:  [1, 'Tron Cells', 6]\n",
      "Successfully connected to the node at https://base-sepolia-rpc.publicnode.com\n"
     ]
    },
    {
     "name": "stderr",
     "output_type": "stream",
     "text": [
      "f:\\Environments\\.conda\\envs\\truffle\\Lib\\site-packages\\web3\\contract\\base_contract.py:185: UserWarning: The log with transaction hash: HexBytes('0x292fb6c8797e24f42e8ec6d983e173306f9bddd8ff587e4be8d8a5a7b35a464e') and logIndex: 15 encountered the following error during processing: MismatchedABI(The event signature did not match the provided ABI). It has been discarded.\n",
      "  warnings.warn(\n",
      "f:\\Environments\\.conda\\envs\\truffle\\Lib\\site-packages\\web3\\contract\\base_contract.py:185: UserWarning: The log with transaction hash: HexBytes('0x292fb6c8797e24f42e8ec6d983e173306f9bddd8ff587e4be8d8a5a7b35a464e') and logIndex: 16 encountered the following error during processing: MismatchedABI(The event signature did not match the provided ABI). It has been discarded.\n",
      "  warnings.warn(\n",
      "f:\\Environments\\.conda\\envs\\truffle\\Lib\\site-packages\\web3\\contract\\base_contract.py:185: UserWarning: The log with transaction hash: HexBytes('0x292fb6c8797e24f42e8ec6d983e173306f9bddd8ff587e4be8d8a5a7b35a464e') and logIndex: 18 encountered the following error during processing: MismatchedABI(The event signature did not match the provided ABI). It has been discarded.\n",
      "  warnings.warn(\n"
     ]
    },
    {
     "name": "stdout",
     "output_type": "stream",
     "text": [
      "Completed writing to contract\n",
      "nft 11 created by 0x43ADAc5516f8E2D3d2BD31276BeC343547ee6612 in collection 1\n",
      "NFT ID: 11\n",
      "Arguments for Corrupted Cyborg:  [1, 'Corrupted Cyborg', 6]\n",
      "Successfully connected to the node at https://base-sepolia-rpc.publicnode.com\n"
     ]
    },
    {
     "name": "stderr",
     "output_type": "stream",
     "text": [
      "f:\\Environments\\.conda\\envs\\truffle\\Lib\\site-packages\\web3\\contract\\base_contract.py:185: UserWarning: The log with transaction hash: HexBytes('0xcb9ffebd35a92a4e474a250537eb5e419c3bc0f123c786b1c33e121e1736c441') and logIndex: 35 encountered the following error during processing: MismatchedABI(The event signature did not match the provided ABI). It has been discarded.\n",
      "  warnings.warn(\n",
      "f:\\Environments\\.conda\\envs\\truffle\\Lib\\site-packages\\web3\\contract\\base_contract.py:185: UserWarning: The log with transaction hash: HexBytes('0xcb9ffebd35a92a4e474a250537eb5e419c3bc0f123c786b1c33e121e1736c441') and logIndex: 36 encountered the following error during processing: MismatchedABI(The event signature did not match the provided ABI). It has been discarded.\n",
      "  warnings.warn(\n",
      "f:\\Environments\\.conda\\envs\\truffle\\Lib\\site-packages\\web3\\contract\\base_contract.py:185: UserWarning: The log with transaction hash: HexBytes('0xcb9ffebd35a92a4e474a250537eb5e419c3bc0f123c786b1c33e121e1736c441') and logIndex: 38 encountered the following error during processing: MismatchedABI(The event signature did not match the provided ABI). It has been discarded.\n",
      "  warnings.warn(\n"
     ]
    },
    {
     "name": "stdout",
     "output_type": "stream",
     "text": [
      "Completed writing to contract\n",
      "nft 12 created by 0x43ADAc5516f8E2D3d2BD31276BeC343547ee6612 in collection 1\n",
      "NFT ID: 12\n",
      "Arguments for Skynet:  [1, 'Skynet', 6]\n",
      "Successfully connected to the node at https://base-sepolia-rpc.publicnode.com\n",
      "Completed writing to contract\n",
      "nft 13 created by 0x43ADAc5516f8E2D3d2BD31276BeC343547ee6612 in collection 1\n",
      "NFT ID: 13\n"
     ]
    },
    {
     "name": "stderr",
     "output_type": "stream",
     "text": [
      "f:\\Environments\\.conda\\envs\\truffle\\Lib\\site-packages\\web3\\contract\\base_contract.py:185: UserWarning: The log with transaction hash: HexBytes('0xab79406eb5fa0c685cc2a875bce55820db703e8fdf359361f6b53e2fdd5fce67') and logIndex: 96 encountered the following error during processing: MismatchedABI(The event signature did not match the provided ABI). It has been discarded.\n",
      "  warnings.warn(\n",
      "f:\\Environments\\.conda\\envs\\truffle\\Lib\\site-packages\\web3\\contract\\base_contract.py:185: UserWarning: The log with transaction hash: HexBytes('0xab79406eb5fa0c685cc2a875bce55820db703e8fdf359361f6b53e2fdd5fce67') and logIndex: 97 encountered the following error during processing: MismatchedABI(The event signature did not match the provided ABI). It has been discarded.\n",
      "  warnings.warn(\n",
      "f:\\Environments\\.conda\\envs\\truffle\\Lib\\site-packages\\web3\\contract\\base_contract.py:185: UserWarning: The log with transaction hash: HexBytes('0xab79406eb5fa0c685cc2a875bce55820db703e8fdf359361f6b53e2fdd5fce67') and logIndex: 99 encountered the following error during processing: MismatchedABI(The event signature did not match the provided ABI). It has been discarded.\n",
      "  warnings.warn(\n"
     ]
    }
   ],
   "source": [
    "for nft in all_nft[\"nfts\"]:\n",
    "    \n",
    "    confirmation = input (f\"Create NFT {nft['name']} ? (y/n) : \")\n",
    "    \n",
    "    if confirmation.lower() != \"y\":\n",
    "        continue\n",
    "    \n",
    "    nft_id = create_NFT(nft)\n",
    "    nft['id'] = nft_id\n",
    "    print(f\"NFT ID: {nft_id}\")"
   ]
  },
  {
   "cell_type": "code",
   "execution_count": 75,
   "metadata": {},
   "outputs": [],
   "source": [
    "with open('./data/all_nft_with_id.json',\"w\") as f:\n",
    "    json.dump(all_nft, f)"
   ]
  },
  {
   "cell_type": "code",
   "execution_count": 76,
   "metadata": {},
   "outputs": [],
   "source": [
    "with open('./data/all_nft_with_id.json') as f:\n",
    "    all_nft = json.load(f)"
   ]
  },
  {
   "cell_type": "code",
   "execution_count": 77,
   "metadata": {},
   "outputs": [
    {
     "data": {
      "text/plain": [
       "{'nfts': [{'id': 7,\n",
       "   'name': 'Cognitive Llama',\n",
       "   'collection': 'Neural Mint Hub',\n",
       "   'collection_id': 1,\n",
       "   'image': 'http://localhost:5500/image/temp11.jpg',\n",
       "   'model': 'Llama 3.1',\n",
       "   'attributes': [{'trait_type': 'Model', 'value': 'Llama 3.1'},\n",
       "    {'trait_type': 'Context Window', 'value': '4096 tokens'},\n",
       "    {'trait_type': 'Total Access', 'value': '1'},\n",
       "    {'trait_type': 'Collection', 'value': 'Neural Mint Hub'}],\n",
       "   'accessList': [{'address': 'TLTtQz2Njap4nPAQGPGJn5EEksoM1uw4Qr',\n",
       "     'accessLevel': 6},\n",
       "    {'address': 'TThwHjyzx2E1TNN4GdSoaHeCRJVi3EuKS7', 'accessLevel': 2},\n",
       "    {'address': 'TJfqnAUwX2ViGTP1J81itXWhuJhUYa8RwK', 'accessLevel': 2},\n",
       "    {'address': 'TVh65XCYkerBch3WtgY9kwLqrtH64MhiFe', 'accessLevel': 3},\n",
       "    {'address': 'TMVQGm1qAQYVdetCeGRRkTWYYrLXuHK2HC', 'accessLevel': 1}],\n",
       "   'tokenId': '1234',\n",
       "   'tokenStandard': 'ERC-721',\n",
       "   'owner': 'TLTtQz2Njap4nPAQGPGJn5EEksoM1uw4Qr',\n",
       "   'chain': 'Ethereum',\n",
       "   'description': 'Cognitive Llama is an advanced AI-driven bot, utilizing the power of Llama 3.1 with multi-level reasoning and cognition. Part of the Neural Mint Hub collection.',\n",
       "   'creatorAddress': 'TMVQGm1qAQYVdetCeGRRkTWYYrLXuHK2HC',\n",
       "   'ownerAddress': 'TLTtQz2Njap4nPAQGPGJn5EEksoM1uw4Qr',\n",
       "   'numberOfOwners': 1},\n",
       "  {'id': 8,\n",
       "   'name': 'Cyborg Bored Ape',\n",
       "   'collection': 'onchain gaias',\n",
       "   'collection_id': 1,\n",
       "   'image': 'http://localhost:5500/image/temp10.jpg',\n",
       "   'model': 'GPT-4',\n",
       "   'attributes': [{'trait_type': 'Model', 'value': 'GPT-4'},\n",
       "    {'trait_type': 'Context Window', 'value': '8192 tokens'},\n",
       "    {'trait_type': 'Total Access', 'value': '1'},\n",
       "    {'trait_type': 'Collection', 'value': 'onchain gaias'}],\n",
       "   'accessList': [{'address': 'TLTtQz2Njap4nPAQGPGJn5EEksoM1uw4Qr',\n",
       "     'accessLevel': 1}],\n",
       "   'tokenId': '5678',\n",
       "   'tokenStandard': 'ERC-721',\n",
       "   'owner': 'TLTtQz2Njap4nPAQGPGJn5EEksoM1uw4Qr',\n",
       "   'chain': 'Ethereum',\n",
       "   'description': 'An AI-generated creation, part of the re:generates collection. This is a unique NFT from the re:generates collection, featuring Llama 3.1 model.',\n",
       "   'creatorAddress': '0x1234...5748',\n",
       "   'ownerAddress': 'TLTtQz2Njap4nPAQGPGJn5EEksoM1uw4Qr',\n",
       "   'numberOfOwners': 1},\n",
       "  {'id': 9,\n",
       "   'name': 'Thinker Primate',\n",
       "   'collection': 'Rebel Monkes',\n",
       "   'collection_id': 1,\n",
       "   'image': 'http://localhost:5500/image/temp9.jpg',\n",
       "   'model': 'DALL-E',\n",
       "   'attributes': [{'trait_type': 'Model', 'value': 'DALL-E'},\n",
       "    {'trait_type': 'Context Window', 'value': '2048 tokens'},\n",
       "    {'trait_type': 'Total Access', 'value': '2'},\n",
       "    {'trait_type': 'Collection', 'value': 'Rebel Monkes'}],\n",
       "   'accessList': [{'address': 'TLTtQz2Njap4nPAQGPGJn5EEksoM1uw4Qr',\n",
       "     'accessLevel': 1},\n",
       "    {'address': 'TJfqnAUwX2ViGTP1J81itXWhuJhUYa8RwK', 'accessLevel': 2}],\n",
       "   'tokenId': '9101',\n",
       "   'tokenStandard': 'ERC-721',\n",
       "   'owner': 'TLTtQz2Njap4nPAQGPGJn5EEksoM1uw4Qr',\n",
       "   'chain': 'Ethereum',\n",
       "   'description': 'A rebellious monkey character from the Rebel Monkes collection, created by DALL-E.',\n",
       "   'creatorAddress': '0x5678...1234',\n",
       "   'ownerAddress': 'TLTtQz2Njap4nPAQGPGJn5EEksoM1uw4Qr',\n",
       "   'numberOfOwners': 2},\n",
       "  {'id': 3,\n",
       "   'name': 'MankiBean',\n",
       "   'collection': 'MankiBeanz',\n",
       "   'collection_id': 2,\n",
       "   'image': 'https://picsum.photos/200',\n",
       "   'model': 'Stable Diffusion',\n",
       "   'attributes': [{'trait_type': 'Model', 'value': 'Stable Diffusion'},\n",
       "    {'trait_type': 'Context Window', 'value': '4096 tokens'},\n",
       "    {'trait_type': 'Total Access', 'value': '1'},\n",
       "    {'trait_type': 'Collection', 'value': 'MankiBeanz'}],\n",
       "   'accessList': [{'address': 'TLTtQz2Njap4nPAQGPGJn5EEksoM1uw4Qr',\n",
       "     'accessLevel': 1}],\n",
       "   'tokenId': '1121',\n",
       "   'tokenStandard': 'ERC-721',\n",
       "   'owner': 'TLTtQz2Njap4nPAQGPGJn5EEksoM1uw4Qr',\n",
       "   'chain': 'Ethereum',\n",
       "   'description': 'A quirky bean-shaped monkey character from the MankiBeanz collection, generated using Stable Diffusion.',\n",
       "   'creatorAddress': 'TLTtQz2Njap4nPAQGPGJn5EEksoM1uw4Qr',\n",
       "   'ownerAddress': 'TLTtQz2Njap4nPAQGPGJn5EEksoM1uw4Qr',\n",
       "   'numberOfOwners': 1},\n",
       "  {'id': 4,\n",
       "   'name': 'based punk',\n",
       "   'collection': 'based punks',\n",
       "   'collection_id': 2,\n",
       "   'image': 'https://picsum.photos/200',\n",
       "   'model': 'Midjourney',\n",
       "   'attributes': [{'trait_type': 'Model', 'value': 'Midjourney'},\n",
       "    {'trait_type': 'Context Window', 'value': '2048 tokens'},\n",
       "    {'trait_type': 'Total Access', 'value': '3'},\n",
       "    {'trait_type': 'Collection', 'value': 'based punks'}],\n",
       "   'accessList': [{'address': 'TLTtQz2Njap4nPAQGPGJn5EEksoM1uw4Qr',\n",
       "     'accessLevel': 6},\n",
       "    {'address': 'TJfqnAUwX2ViGTP1J81itXWhuJhUYa8RwK', 'accessLevel': 2}],\n",
       "   'tokenId': '3141',\n",
       "   'tokenStandard': 'ERC-721',\n",
       "   'owner': 'TLTtQz2Njap4nPAQGPGJn5EEksoM1uw4Qr',\n",
       "   'chain': 'Ethereum',\n",
       "   'description': 'A punk-inspired NFT from the based punks collection, created with Midjourney.',\n",
       "   'creatorAddress': '0x2468...1357',\n",
       "   'ownerAddress': 'TLTtQz2Njap4nPAQGPGJn5EEksoM1uw4Qr',\n",
       "   'numberOfOwners': 3},\n",
       "  {'id': 10,\n",
       "   'name': 'Dark Llama',\n",
       "   'collection': 're:generates',\n",
       "   'collection_id': 1,\n",
       "   'image': 'http://localhost:5500/image/temp8.jpg',\n",
       "   'model': 'Llama 3.1',\n",
       "   'attributes': [{'trait_type': 'Model', 'value': 'Llama 3.1'},\n",
       "    {'trait_type': 'Context Window', 'value': '4096 tokens'},\n",
       "    {'trait_type': 'Total Access', 'value': '1'},\n",
       "    {'trait_type': 'Collection', 'value': 're:generates'}],\n",
       "   'accessList': [{'address': 'TLTtQz2Njap4nPAQGPGJn5EEksoM1uw4Qr',\n",
       "     'accessLevel': 1}],\n",
       "   'tokenId': '1234',\n",
       "   'tokenStandard': 'ERC-721',\n",
       "   'owner': 'TLTtQz2Njap4nPAQGPGJn5EEksoM1uw4Qr',\n",
       "   'chain': 'Ethereum',\n",
       "   'description': 'An AI-generated creation, part of the re:generates collection. This is a unique NFT from the re:generates collection, featuring Llama 3.1 model.',\n",
       "   'creatorAddress': 'TThwHjyzx2E1TNN4GdSoaHeCRJVi3EuKS7',\n",
       "   'ownerAddress': 'TLTtQz2Njap4nPAQGPGJn5EEksoM1uw4Qr',\n",
       "   'numberOfOwners': 1},\n",
       "  {'id': 11,\n",
       "   'name': 'Tron Cells',\n",
       "   'collection': 're:generates',\n",
       "   'image': 'http://localhost:5500/image/temp12.png',\n",
       "   'collection_id': 1,\n",
       "   'model': 'Llama 3.1',\n",
       "   'attributes': [{'trait_type': 'Model', 'value': 'Llama 3.1'},\n",
       "    {'trait_type': 'Context Window', 'value': '4096 tokens'},\n",
       "    {'trait_type': 'Total Access', 'value': '1'},\n",
       "    {'trait_type': 'Collection', 'value': 're:generates'}],\n",
       "   'accessList': [{'address': 'TLTtQz2Njap4nPAQGPGJn5EEksoM1uw4Qr',\n",
       "     'accessLevel': 1}],\n",
       "   'tokenId': '1234',\n",
       "   'tokenStandard': 'ERC-721',\n",
       "   'owner': 'TLTtQz2Njap4nPAQGPGJn5EEksoM1uw4Qr',\n",
       "   'chain': 'Ethereum',\n",
       "   'description': 'An AI-generated creation, part of the re:generates collection. This is a unique NFT from the re:generates collection, featuring Llama 3.1 model.',\n",
       "   'creatorAddress': 'TThwHjyzx2E1TNN4GdSoaHeCRJVi3EuKS7',\n",
       "   'ownerAddress': 'TLTtQz2Njap4nPAQGPGJn5EEksoM1uw4Qr',\n",
       "   'numberOfOwners': 1},\n",
       "  {'id': 12,\n",
       "   'name': 'Corrupted Cyborg',\n",
       "   'collection': 're:generates',\n",
       "   'collection_id': 1,\n",
       "   'image': 'http://localhost:5500/image/temp13.png',\n",
       "   'model': 'Llama 3.1',\n",
       "   'attributes': [{'trait_type': 'Model', 'value': 'Llama 3.1'},\n",
       "    {'trait_type': 'Context Window', 'value': '4096 tokens'},\n",
       "    {'trait_type': 'Total Access', 'value': '1'},\n",
       "    {'trait_type': 'Collection', 'value': 're:generates'}],\n",
       "   'accessList': [{'address': 'TLTtQz2Njap4nPAQGPGJn5EEksoM1uw4Qr',\n",
       "     'accessLevel': 1}],\n",
       "   'tokenId': '1234',\n",
       "   'tokenStandard': 'ERC-721',\n",
       "   'owner': 'TLTtQz2Njap4nPAQGPGJn5EEksoM1uw4Qr',\n",
       "   'chain': 'Ethereum',\n",
       "   'description': 'An AI-generated creation, part of the re:generates collection. This is a unique NFT from the re:generates collection, featuring Llama 3.1 model.',\n",
       "   'creatorAddress': 'TThwHjyzx2E1TNN4GdSoaHeCRJVi3EuKS7',\n",
       "   'ownerAddress': 'TLTtQz2Njap4nPAQGPGJn5EEksoM1uw4Qr',\n",
       "   'numberOfOwners': 1},\n",
       "  {'id': 13,\n",
       "   'name': 'Skynet',\n",
       "   'collection': 're:generates',\n",
       "   'collection_id': 1,\n",
       "   'image': 'http://localhost:5500/image/temp14.png',\n",
       "   'model': 'Llama 3.1',\n",
       "   'attributes': [{'trait_type': 'Model', 'value': 'Llama 3.1'},\n",
       "    {'trait_type': 'Context Window', 'value': '4096 tokens'},\n",
       "    {'trait_type': 'Total Access', 'value': '1'},\n",
       "    {'trait_type': 'Collection', 'value': 're:generates'}],\n",
       "   'accessList': [{'address': 'TLTtQz2Njap4nPAQGPGJn5EEksoM1uw4Qr',\n",
       "     'accessLevel': 1}],\n",
       "   'tokenId': '1234',\n",
       "   'tokenStandard': 'ERC-721',\n",
       "   'owner': 'TLTtQz2Njap4nPAQGPGJn5EEksoM1uw4Qr',\n",
       "   'chain': 'Ethereum',\n",
       "   'description': 'An AI-generated creation, part of the re:generates collection. This is a unique NFT from the re:generates collection, featuring Llama 3.1 model.',\n",
       "   'creatorAddress': 'TThwHjyzx2E1TNN4GdSoaHeCRJVi3EuKS7',\n",
       "   'ownerAddress': 'TLTtQz2Njap4nPAQGPGJn5EEksoM1uw4Qr',\n",
       "   'numberOfOwners': 1}]}"
      ]
     },
     "execution_count": 77,
     "metadata": {},
     "output_type": "execute_result"
    }
   ],
   "source": [
    "all_nft"
   ]
  },
  {
   "cell_type": "code",
   "execution_count": 78,
   "metadata": {},
   "outputs": [
    {
     "name": "stdout",
     "output_type": "stream",
     "text": [
      "Successfully connected to the node at https://base-sepolia-rpc.publicnode.com\n",
      "metadata for nft 7 created in collection 1\n",
      "Metadata created for nft 7\n",
      "Successfully connected to the node at https://base-sepolia-rpc.publicnode.com\n",
      "metadata for nft 8 created in collection 1\n",
      "Metadata created for nft 8\n",
      "Successfully connected to the node at https://base-sepolia-rpc.publicnode.com\n",
      "metadata for nft 9 created in collection 1\n",
      "Metadata created for nft 9\n",
      "Successfully connected to the node at https://base-sepolia-rpc.publicnode.com\n",
      "metadata for nft 3 created in collection 2\n",
      "Metadata created for nft 3\n",
      "Successfully connected to the node at https://base-sepolia-rpc.publicnode.com\n",
      "metadata for nft 4 created in collection 2\n",
      "Metadata created for nft 4\n",
      "Successfully connected to the node at https://base-sepolia-rpc.publicnode.com\n",
      "metadata for nft 10 created in collection 1\n",
      "Metadata created for nft 10\n",
      "Successfully connected to the node at https://base-sepolia-rpc.publicnode.com\n",
      "metadata for nft 11 created in collection 1\n",
      "Metadata created for nft 11\n",
      "Successfully connected to the node at https://base-sepolia-rpc.publicnode.com\n",
      "metadata for nft 12 created in collection 1\n",
      "Metadata created for nft 12\n",
      "Successfully connected to the node at https://base-sepolia-rpc.publicnode.com\n",
      "metadata for nft 13 created in collection 1\n",
      "Metadata created for nft 13\n"
     ]
    }
   ],
   "source": [
    "for nft in all_nft[\"nfts\"]:\n",
    "    \n",
    "    confirmation = input (f\"Create NFT Metadata {nft['name']} with id {nft['id']} ? (y/n) : \")\n",
    "    if confirmation.lower() != \"y\":\n",
    "        continue\n",
    "    nft_id = create_metadata(nft)\n",
    "    print (f\"Metadata created for nft {nft_id}\")"
   ]
  },
  {
   "cell_type": "code",
   "execution_count": 79,
   "metadata": {},
   "outputs": [
    {
     "name": "stdout",
     "output_type": "stream",
     "text": [
      "Providing access for nft :  Cognitive Llama\n",
      "Successfully connected to the node at https://base-sepolia-rpc.publicnode.com\n"
     ]
    },
    {
     "name": "stderr",
     "output_type": "stream",
     "text": [
      "f:\\Environments\\.conda\\envs\\truffle\\Lib\\site-packages\\web3\\contract\\base_contract.py:185: UserWarning: The log with transaction hash: HexBytes('0xb3894446cc88c54b34557d5e648c408343aadf6e0cac20ef3e9521857d0bfb2a') and logIndex: 138 encountered the following error during processing: MismatchedABI(The event signature did not match the provided ABI). It has been discarded.\n",
      "  warnings.warn(\n"
     ]
    },
    {
     "name": "stdout",
     "output_type": "stream",
     "text": [
      "\t\t Access granted to user :  0xcb6d7cDCa0563575b6b734FA4f3e9d6ac7542912  with access level :  6\n",
      "Successfully connected to the node at https://base-sepolia-rpc.publicnode.com\n",
      "\t\t Error granding user :  0xC1BA95aE30C40Bde9259B23E9706B359119af8a8\n",
      "Successfully connected to the node at https://base-sepolia-rpc.publicnode.com\n"
     ]
    },
    {
     "name": "stderr",
     "output_type": "stream",
     "text": [
      "f:\\Environments\\.conda\\envs\\truffle\\Lib\\site-packages\\web3\\contract\\base_contract.py:185: UserWarning: The log with transaction hash: HexBytes('0x4140164f8baa109a320e8168ce38423df50650db38e1cc576d75e281a7c6e864') and logIndex: 138 encountered the following error during processing: MismatchedABI(The event signature did not match the provided ABI). It has been discarded.\n",
      "  warnings.warn(\n"
     ]
    },
    {
     "name": "stdout",
     "output_type": "stream",
     "text": [
      "\t\t Access granted to user :  0x896b05e46Fa4Ec0CCBCff4FD70E040B24B705b13  with access level :  2\n",
      "Successfully connected to the node at https://base-sepolia-rpc.publicnode.com\n"
     ]
    },
    {
     "name": "stderr",
     "output_type": "stream",
     "text": [
      "f:\\Environments\\.conda\\envs\\truffle\\Lib\\site-packages\\web3\\contract\\base_contract.py:185: UserWarning: The log with transaction hash: HexBytes('0xeb442f999cab2b3806bcb97f0e0fdda64b702a081306f1ede537f9d6e4af06f4') and logIndex: 82 encountered the following error during processing: MismatchedABI(The event signature did not match the provided ABI). It has been discarded.\n",
      "  warnings.warn(\n"
     ]
    },
    {
     "name": "stdout",
     "output_type": "stream",
     "text": [
      "\t\t Access granted to user :  0xA6BBfa08C6Bec195FB4138A3225B7b6df9aA75eb  with access level :  3\n",
      "Successfully connected to the node at https://base-sepolia-rpc.publicnode.com\n"
     ]
    },
    {
     "name": "stderr",
     "output_type": "stream",
     "text": [
      "f:\\Environments\\.conda\\envs\\truffle\\Lib\\site-packages\\web3\\contract\\base_contract.py:185: UserWarning: The log with transaction hash: HexBytes('0xea4dca1a97d80e56d69f05963c5db0d4c3444ff2f3086b9dbb3e071c55761a79') and logIndex: 118 encountered the following error during processing: MismatchedABI(The event signature did not match the provided ABI). It has been discarded.\n",
      "  warnings.warn(\n"
     ]
    },
    {
     "name": "stdout",
     "output_type": "stream",
     "text": [
      "\t\t Access granted to user :  0x51414DFE8A683aA64bE0273C6819eB410939395B  with access level :  1\n",
      "Access provided for nft None\n",
      "Providing access for nft :  Cyborg Bored Ape\n",
      "Successfully connected to the node at https://base-sepolia-rpc.publicnode.com\n"
     ]
    },
    {
     "name": "stderr",
     "output_type": "stream",
     "text": [
      "f:\\Environments\\.conda\\envs\\truffle\\Lib\\site-packages\\web3\\contract\\base_contract.py:185: UserWarning: The log with transaction hash: HexBytes('0x3c948aea8e45ff9073649dfaa5d3ea9864df65e45bb53428d1c3551cdb119c79') and logIndex: 4 encountered the following error during processing: MismatchedABI(The event signature did not match the provided ABI). It has been discarded.\n",
      "  warnings.warn(\n"
     ]
    },
    {
     "name": "stdout",
     "output_type": "stream",
     "text": [
      "\t\t Access granted to user :  0xcb6d7cDCa0563575b6b734FA4f3e9d6ac7542912  with access level :  1\n",
      "Access provided for nft None\n",
      "Providing access for nft :  Thinker Primate\n",
      "Successfully connected to the node at https://base-sepolia-rpc.publicnode.com\n"
     ]
    },
    {
     "name": "stderr",
     "output_type": "stream",
     "text": [
      "f:\\Environments\\.conda\\envs\\truffle\\Lib\\site-packages\\web3\\contract\\base_contract.py:185: UserWarning: The log with transaction hash: HexBytes('0xd51e2cd80c7d8d221fd7e76cfc9ba22633081b722106ff0664d7402aaba93302') and logIndex: 15 encountered the following error during processing: MismatchedABI(The event signature did not match the provided ABI). It has been discarded.\n",
      "  warnings.warn(\n"
     ]
    },
    {
     "name": "stdout",
     "output_type": "stream",
     "text": [
      "\t\t Access granted to user :  0xcb6d7cDCa0563575b6b734FA4f3e9d6ac7542912  with access level :  1\n",
      "Successfully connected to the node at https://base-sepolia-rpc.publicnode.com\n"
     ]
    },
    {
     "name": "stderr",
     "output_type": "stream",
     "text": [
      "f:\\Environments\\.conda\\envs\\truffle\\Lib\\site-packages\\web3\\contract\\base_contract.py:185: UserWarning: The log with transaction hash: HexBytes('0xb17543bab68016c8f3afa548486f331cc2994ec204b4572d79cad4d70310cab7') and logIndex: 27 encountered the following error during processing: MismatchedABI(The event signature did not match the provided ABI). It has been discarded.\n",
      "  warnings.warn(\n"
     ]
    },
    {
     "name": "stdout",
     "output_type": "stream",
     "text": [
      "\t\t Access granted to user :  0xC1BA95aE30C40Bde9259B23E9706B359119af8a8  with access level :  2\n",
      "Access provided for nft None\n",
      "Providing access for nft :  MankiBean\n",
      "Successfully connected to the node at https://base-sepolia-rpc.publicnode.com\n"
     ]
    },
    {
     "name": "stderr",
     "output_type": "stream",
     "text": [
      "f:\\Environments\\.conda\\envs\\truffle\\Lib\\site-packages\\web3\\contract\\base_contract.py:185: UserWarning: The log with transaction hash: HexBytes('0x19362163102694bb73ee6ff3d9c1874dfda79f694dae62f06e1839da9ea51f3d') and logIndex: 42 encountered the following error during processing: MismatchedABI(The event signature did not match the provided ABI). It has been discarded.\n",
      "  warnings.warn(\n"
     ]
    },
    {
     "name": "stdout",
     "output_type": "stream",
     "text": [
      "\t\t Access granted to user :  0xcb6d7cDCa0563575b6b734FA4f3e9d6ac7542912  with access level :  1\n",
      "Access provided for nft None\n",
      "Providing access for nft :  based punk\n",
      "Successfully connected to the node at https://base-sepolia-rpc.publicnode.com\n"
     ]
    },
    {
     "name": "stderr",
     "output_type": "stream",
     "text": [
      "f:\\Environments\\.conda\\envs\\truffle\\Lib\\site-packages\\web3\\contract\\base_contract.py:185: UserWarning: The log with transaction hash: HexBytes('0xa78cb2a519e8014cf06c2fef6b831b42fbb952dd20d31e0ee10232ad539b0cdc') and logIndex: 261 encountered the following error during processing: MismatchedABI(The event signature did not match the provided ABI). It has been discarded.\n",
      "  warnings.warn(\n"
     ]
    },
    {
     "name": "stdout",
     "output_type": "stream",
     "text": [
      "\t\t Access granted to user :  0xcb6d7cDCa0563575b6b734FA4f3e9d6ac7542912  with access level :  6\n",
      "Successfully connected to the node at https://base-sepolia-rpc.publicnode.com\n"
     ]
    },
    {
     "name": "stderr",
     "output_type": "stream",
     "text": [
      "f:\\Environments\\.conda\\envs\\truffle\\Lib\\site-packages\\web3\\contract\\base_contract.py:185: UserWarning: The log with transaction hash: HexBytes('0x11cffcf6a2a35171006907183f1436eb1194fa4fc332912b836513f81e182e74') and logIndex: 109 encountered the following error during processing: MismatchedABI(The event signature did not match the provided ABI). It has been discarded.\n",
      "  warnings.warn(\n"
     ]
    },
    {
     "name": "stdout",
     "output_type": "stream",
     "text": [
      "\t\t Access granted to user :  0xC1BA95aE30C40Bde9259B23E9706B359119af8a8  with access level :  2\n",
      "Access provided for nft None\n",
      "Providing access for nft :  Dark Llama\n",
      "Successfully connected to the node at https://base-sepolia-rpc.publicnode.com\n"
     ]
    },
    {
     "name": "stderr",
     "output_type": "stream",
     "text": [
      "f:\\Environments\\.conda\\envs\\truffle\\Lib\\site-packages\\web3\\contract\\base_contract.py:185: UserWarning: The log with transaction hash: HexBytes('0x2d6a78e9dd8ac103a643ff6ddbb1e4d5af3eab5f243825489d411b5c4b1f4ec1') and logIndex: 98 encountered the following error during processing: MismatchedABI(The event signature did not match the provided ABI). It has been discarded.\n",
      "  warnings.warn(\n"
     ]
    },
    {
     "name": "stdout",
     "output_type": "stream",
     "text": [
      "\t\t Access granted to user :  0xcb6d7cDCa0563575b6b734FA4f3e9d6ac7542912  with access level :  1\n",
      "Access provided for nft None\n",
      "Providing access for nft :  Tron Cells\n",
      "Successfully connected to the node at https://base-sepolia-rpc.publicnode.com\n"
     ]
    },
    {
     "name": "stderr",
     "output_type": "stream",
     "text": [
      "f:\\Environments\\.conda\\envs\\truffle\\Lib\\site-packages\\web3\\contract\\base_contract.py:185: UserWarning: The log with transaction hash: HexBytes('0xe3a2d289b19f6f4101804db3e45a224fc67ab494d19ae5458b0028a20a5d2f96') and logIndex: 105 encountered the following error during processing: MismatchedABI(The event signature did not match the provided ABI). It has been discarded.\n",
      "  warnings.warn(\n"
     ]
    },
    {
     "name": "stdout",
     "output_type": "stream",
     "text": [
      "\t\t Access granted to user :  0xcb6d7cDCa0563575b6b734FA4f3e9d6ac7542912  with access level :  1\n",
      "Access provided for nft None\n",
      "Providing access for nft :  Corrupted Cyborg\n",
      "Successfully connected to the node at https://base-sepolia-rpc.publicnode.com\n"
     ]
    },
    {
     "name": "stderr",
     "output_type": "stream",
     "text": [
      "f:\\Environments\\.conda\\envs\\truffle\\Lib\\site-packages\\web3\\contract\\base_contract.py:185: UserWarning: The log with transaction hash: HexBytes('0x54c751df5926c3b0f3782b438342ebda5e9eb60d5b3448ce86b1f687afa87924') and logIndex: 96 encountered the following error during processing: MismatchedABI(The event signature did not match the provided ABI). It has been discarded.\n",
      "  warnings.warn(\n"
     ]
    },
    {
     "name": "stdout",
     "output_type": "stream",
     "text": [
      "\t\t Access granted to user :  0xcb6d7cDCa0563575b6b734FA4f3e9d6ac7542912  with access level :  1\n",
      "Access provided for nft None\n",
      "Providing access for nft :  Skynet\n",
      "Successfully connected to the node at https://base-sepolia-rpc.publicnode.com\n",
      "\t\t Access granted to user :  0xcb6d7cDCa0563575b6b734FA4f3e9d6ac7542912  with access level :  1\n",
      "Access provided for nft None\n"
     ]
    },
    {
     "name": "stderr",
     "output_type": "stream",
     "text": [
      "f:\\Environments\\.conda\\envs\\truffle\\Lib\\site-packages\\web3\\contract\\base_contract.py:185: UserWarning: The log with transaction hash: HexBytes('0xf4ad5c09daabff911685fcd21f53510672f5bea63ac19be30b4374fe55b5ac6a') and logIndex: 24 encountered the following error during processing: MismatchedABI(The event signature did not match the provided ABI). It has been discarded.\n",
      "  warnings.warn(\n"
     ]
    }
   ],
   "source": [
    "for nft in all_nft[\"nfts\"]:\n",
    "    \n",
    "    if \"accessList\" not in nft or len(nft[\"accessList\"]) == 0:\n",
    "        continue\n",
    "         \n",
    "    confirmation = input (f\"Provide access for NFT {nft['name']} with id {nft['id']} ? (y/n) : \")\n",
    "    \n",
    "    nft_id = provide_access(nft)\n",
    "    \n",
    "    print (f\"Access provided for nft {nft_id}\")"
   ]
  },
  {
   "cell_type": "code",
   "execution_count": 70,
   "metadata": {},
   "outputs": [
    {
     "name": "stdout",
     "output_type": "stream",
     "text": [
      "Burning NFT...\n",
      "Successfully connected to the node at https://base-sepolia-rpc.publicnode.com\n",
      "Completed writing to contract\n",
      "nft 2 burned in collection 2\n"
     ]
    },
    {
     "name": "stderr",
     "output_type": "stream",
     "text": [
      "f:\\Environments\\.conda\\envs\\truffle\\Lib\\site-packages\\web3\\contract\\base_contract.py:185: UserWarning: The log with transaction hash: HexBytes('0xcbb4557d9d7c8f347d45b44c1a3f2ab0be78f80b618ac0da48af9015eeda5022') and logIndex: 8 encountered the following error during processing: MismatchedABI(The event signature did not match the provided ABI). It has been discarded.\n",
      "  warnings.warn(\n",
      "f:\\Environments\\.conda\\envs\\truffle\\Lib\\site-packages\\web3\\contract\\base_contract.py:185: UserWarning: The log with transaction hash: HexBytes('0xcbb4557d9d7c8f347d45b44c1a3f2ab0be78f80b618ac0da48af9015eeda5022') and logIndex: 9 encountered the following error during processing: MismatchedABI(The event signature did not match the provided ABI). It has been discarded.\n",
      "  warnings.warn(\n",
      "f:\\Environments\\.conda\\envs\\truffle\\Lib\\site-packages\\web3\\contract\\base_contract.py:185: UserWarning: The log with transaction hash: HexBytes('0xcbb4557d9d7c8f347d45b44c1a3f2ab0be78f80b618ac0da48af9015eeda5022') and logIndex: 11 encountered the following error during processing: MismatchedABI(The event signature did not match the provided ABI). It has been discarded.\n",
      "  warnings.warn(\n"
     ]
    }
   ],
   "source": [
    "collection_id_to_burn = int(input(\"Burn NFT: Please enter the collection ID:\"))\n",
    "nft_id_to_burn = int(input(\"Burn NFT: Please enter the NFT ID:\"))\n",
    "confirmations = input(f\"Burn NFT{nft_id_to_burn}, Collection{collection_id_to_burn} : Please type y or Yes for confirmations:\")\n",
    "if confirmations.lower() == \"y\" or confirmations.lower() == \"yes\":\n",
    "    print(\"Burning NFT...\")\n",
    "    burn_NFT(collection_id_to_burn, nft_id_to_burn)\n",
    "else:\n",
    "    print(\"Burn NFT: Operation cancelled\")"
   ]
  },
  {
   "cell_type": "code",
   "execution_count": 71,
   "metadata": {},
   "outputs": [
    {
     "data": {
      "text/plain": [
       "[]"
      ]
     },
     "execution_count": 71,
     "metadata": {},
     "output_type": "execute_result"
    }
   ],
   "source": [
    "all_nft_of_a_collection_basic(2)"
   ]
  },
  {
   "cell_type": "markdown",
   "metadata": {},
   "source": [
    "## Contract View Functions"
   ]
  },
  {
   "cell_type": "code",
   "execution_count": 31,
   "metadata": {},
   "outputs": [],
   "source": [
    "def all_nft_information_basic(nft_id, collection_id):\n",
    "    try:\n",
    "        nft_info = nft_contract.functions.getNFTInfo(collection_id, nft_id).call()\n",
    "        \n",
    "        return {\n",
    "            \"id\": nft_id,\n",
    "            \"collectionId\": collection_id,\n",
    "            \"levelOfOwnership\": nft_info[0],\n",
    "            \"name\": nft_info[1],\n",
    "            \"creator\": nft_info[2],\n",
    "            \"creationDate\": nft_info[3],\n",
    "            \"owner\": nft_info[4],\n",
    "        }\n",
    "    except Exception as e:\n",
    "        print(f\"Error getting information for NFT ID {nft_id} in collection {collection_id}: {e}\")\n",
    "        return None\n",
    "\n",
    "def all_nft_information(nft_id, collection_id):\n",
    "    try:\n",
    "        nft_info = nft_contract.functions.getNFTInfo(collection_id, nft_id).call()\n",
    "        metadata = nft_metadata_contract.functions.getMetadata(collection_id, nft_id).call()\n",
    "        \n",
    "        return {\n",
    "            \"id\": nft_id,\n",
    "            \"collectionId\": collection_id,\n",
    "            \"levelOfOwnership\": nft_info[0],\n",
    "            \"name\": nft_info[1],\n",
    "            \"creator\": nft_info[2],\n",
    "            \"creationDate\": nft_info[3],\n",
    "            \"owner\": nft_info[4],\n",
    "            \"metadata\": {\n",
    "                \"image\": metadata[0],\n",
    "                \"baseModel\": metadata[1],\n",
    "                \"data\": metadata[2],\n",
    "                \"rag\": metadata[3],\n",
    "                \"fineTuneData\": metadata[4],\n",
    "                \"description\": metadata[5]\n",
    "            }\n",
    "        }\n",
    "    except Exception as e:\n",
    "        print(f\"Error getting information for NFT ID {nft_id} in collection {collection_id}: {e}\")\n",
    "        return None\n",
    "\n",
    "\n",
    "def all_nft_of_a_collection_basic(collection_id):\n",
    "    try:\n",
    "        nft_count = nft_contract.functions.getCollectionNFTCount(collection_id).call()\n",
    "        nft_ids = nft_contract.functions.getCollectionNFTs(collection_id).call()\n",
    "        \n",
    "        nfts = []\n",
    "        for nft_id in nft_ids:\n",
    "            nft_info = all_nft_information_basic(nft_id, collection_id)\n",
    "            if nft_info:\n",
    "                nfts.append(nft_info)\n",
    "        \n",
    "        return nfts\n",
    "    except Exception as e:\n",
    "        print(f\"Error getting NFTs for collection {collection_id}: {e}\")\n",
    "        return None\n",
    "\n",
    "\n",
    "def all_nft_of_a_collection(collection_id):\n",
    "    try:\n",
    "        nft_count = nft_contract.functions.getCollectionNFTCount(collection_id).call()\n",
    "        nft_ids = nft_contract.functions.getCollectionNFTs(collection_id).call()\n",
    "        \n",
    "        nfts = []\n",
    "        for nft_id in nft_ids:\n",
    "            nft_info = all_nft_information(nft_id, collection_id)\n",
    "            if nft_info:\n",
    "                nfts.append(nft_info)\n",
    "        \n",
    "        return nfts\n",
    "    except Exception as e:\n",
    "        print(f\"Error getting NFTs for collection {collection_id}: {e}\")\n",
    "        return None\n",
    "\n",
    "def all_access_levels_of_a_collection_nft(collection_id, nft_id):\n",
    "    try:\n",
    "        users_access = nft_access_control_contract.functions.getAllUsersAccessForNFT(collection_id, nft_id).call()\n",
    "        \n",
    "        access_levels = []\n",
    "        for user_access in users_access:\n",
    "            access_levels.append({\n",
    "                \"user\": user_access[0],\n",
    "                \"accessLevel\": user_access[1]\n",
    "            })\n",
    "        \n",
    "        return access_levels\n",
    "    except Exception as e:\n",
    "        print(f\"Error getting access levels for NFT ID {nft_id} in collection {collection_id}: {e}\")\n",
    "        return None\n",
    "\n",
    "def all_nfts_own_or_have_access_by_user(user_address):\n",
    "    try:\n",
    "        user_access_entries = nft_access_control_contract.functions.getAllAccessForUser(user_address).call()\n",
    "        \n",
    "        nfts = []\n",
    "        for entry in user_access_entries:\n",
    "            collection_id, nft_id, access_level = entry\n",
    "            nft_info = all_nft_information(nft_id, collection_id)\n",
    "            if nft_info:\n",
    "                nft_info['accessLevel'] = access_level\n",
    "                nfts.append(nft_info)\n",
    "        \n",
    "        return nfts\n",
    "    except Exception as e:\n",
    "        print(f\"Error getting NFTs for user {user_address}: {e}\")\n",
    "        return None\n"
   ]
  },
  {
   "cell_type": "code",
   "execution_count": 18,
   "metadata": {},
   "outputs": [
    {
     "name": "stdout",
     "output_type": "stream",
     "text": [
      "Error getting information for NFT ID 1 in collection 1: execution reverted: NFTMetadata: Metadata does not exist\n"
     ]
    }
   ],
   "source": [
    "all_nft_information(1, 1)"
   ]
  },
  {
   "cell_type": "code",
   "execution_count": 27,
   "metadata": {},
   "outputs": [
    {
     "name": "stdout",
     "output_type": "stream",
     "text": [
      "Error getting information for NFT ID 1 in collection 1: execution reverted: NFTMetadata: Metadata does not exist\n",
      "Error getting information for NFT ID 2 in collection 1: execution reverted: NFTMetadata: Metadata does not exist\n",
      "Error getting information for NFT ID 3 in collection 1: execution reverted: NFTMetadata: Metadata does not exist\n",
      "Error getting information for NFT ID 4 in collection 1: execution reverted: NFTMetadata: Metadata does not exist\n",
      "Error getting information for NFT ID 5 in collection 1: execution reverted: NFTMetadata: Metadata does not exist\n",
      "Error getting information for NFT ID 6 in collection 1: execution reverted: NFTMetadata: Metadata does not exist\n"
     ]
    },
    {
     "data": {
      "text/plain": [
       "[]"
      ]
     },
     "execution_count": 27,
     "metadata": {},
     "output_type": "execute_result"
    }
   ],
   "source": [
    "all_nft_of_a_collection(1)"
   ]
  },
  {
   "cell_type": "code",
   "execution_count": null,
   "metadata": {},
   "outputs": [],
   "source": [
    "all_access_levels_of_a_collection_nft(1,1)"
   ]
  },
  {
   "cell_type": "code",
   "execution_count": null,
   "metadata": {},
   "outputs": [],
   "source": [
    "all_nfts_own_or_have_access_by_user(\"0x53E5dA1dC6D0C6ef7e85ed52C2A256dd1AA669bd\")\n"
   ]
  },
  {
   "cell_type": "code",
   "execution_count": 28,
   "metadata": {},
   "outputs": [
    {
     "data": {
      "text/plain": [
       "6"
      ]
     },
     "execution_count": 28,
     "metadata": {},
     "output_type": "execute_result"
    }
   ],
   "source": [
    "all_nft_information_basic(1)"
   ]
  },
  {
   "cell_type": "code",
   "execution_count": 29,
   "metadata": {},
   "outputs": [
    {
     "data": {
      "text/plain": [
       "2"
      ]
     },
     "execution_count": 29,
     "metadata": {},
     "output_type": "execute_result"
    }
   ],
   "source": [
    "nft_contract.functions.getCollectionNFTCount(2).call()"
   ]
  },
  {
   "cell_type": "code",
   "execution_count": 38,
   "metadata": {},
   "outputs": [
    {
     "data": {
      "text/plain": [
       "[{'id': 2,\n",
       "  'collectionId': 1,\n",
       "  'levelOfOwnership': 6,\n",
       "  'name': 'Cognitive Llama',\n",
       "  'creator': '0x43ADAc5516f8E2D3d2BD31276BeC343547ee6612',\n",
       "  'creationDate': 1729267704,\n",
       "  'owner': '0x43ADAc5516f8E2D3d2BD31276BeC343547ee6612'},\n",
       " {'id': 3,\n",
       "  'collectionId': 1,\n",
       "  'levelOfOwnership': 6,\n",
       "  'name': 'Dark Llama',\n",
       "  'creator': '0x43ADAc5516f8E2D3d2BD31276BeC343547ee6612',\n",
       "  'creationDate': 1729267716,\n",
       "  'owner': '0x43ADAc5516f8E2D3d2BD31276BeC343547ee6612'},\n",
       " {'id': 4,\n",
       "  'collectionId': 1,\n",
       "  'levelOfOwnership': 6,\n",
       "  'name': 'Tron Cells',\n",
       "  'creator': '0x43ADAc5516f8E2D3d2BD31276BeC343547ee6612',\n",
       "  'creationDate': 1729267720,\n",
       "  'owner': '0x43ADAc5516f8E2D3d2BD31276BeC343547ee6612'},\n",
       " {'id': 5,\n",
       "  'collectionId': 1,\n",
       "  'levelOfOwnership': 6,\n",
       "  'name': 'Corrupted Cyborg',\n",
       "  'creator': '0x43ADAc5516f8E2D3d2BD31276BeC343547ee6612',\n",
       "  'creationDate': 1729267724,\n",
       "  'owner': '0x43ADAc5516f8E2D3d2BD31276BeC343547ee6612'},\n",
       " {'id': 6,\n",
       "  'collectionId': 1,\n",
       "  'levelOfOwnership': 6,\n",
       "  'name': 'Skynet',\n",
       "  'creator': '0x43ADAc5516f8E2D3d2BD31276BeC343547ee6612',\n",
       "  'creationDate': 1729267728,\n",
       "  'owner': '0x43ADAc5516f8E2D3d2BD31276BeC343547ee6612'}]"
      ]
     },
     "execution_count": 38,
     "metadata": {},
     "output_type": "execute_result"
    }
   ],
   "source": [
    "all_nft_of_a_collection_basic(1)"
   ]
  },
  {
   "cell_type": "code",
   "execution_count": 33,
   "metadata": {},
   "outputs": [
    {
     "data": {
      "text/plain": [
       "[1, 2, 3, 4, 5, 6]"
      ]
     },
     "execution_count": 33,
     "metadata": {},
     "output_type": "execute_result"
    }
   ],
   "source": [
    "nft_contract.functions.getCollectionNFTs(1).call()"
   ]
  },
  {
   "cell_type": "code",
   "execution_count": null,
   "metadata": {},
   "outputs": [],
   "source": []
  }
 ],
 "metadata": {
  "kernelspec": {
   "display_name": "truffle",
   "language": "python",
   "name": "python3"
  },
  "language_info": {
   "codemirror_mode": {
    "name": "ipython",
    "version": 3
   },
   "file_extension": ".py",
   "mimetype": "text/x-python",
   "name": "python",
   "nbconvert_exporter": "python",
   "pygments_lexer": "ipython3",
   "version": "3.12.7"
  }
 },
 "nbformat": 4,
 "nbformat_minor": 2
}
